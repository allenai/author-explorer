{
 "cells": [
  {
   "cell_type": "markdown",
   "id": "ab5f6a96-4da9-462e-a710-f003f81de5d1",
   "metadata": {},
   "source": [
    "## Author Explorer: Let's Make Some Paper Lists!\n",
    "\n",
    "Let's try to produce a list of interesting AI papers from some important figures in the field.\n",
    "\n",
    "### Step 1: Examine Input Data\n",
    "\n",
    "To do so we'll use some data that's not yet available via Semantic Scholar's public API (we're working on that). Let's take a look at the authors we have in that output:"
   ]
  },
  {
   "cell_type": "code",
   "execution_count": 36,
   "id": "fd8def46",
   "metadata": {},
   "outputs": [
    {
     "data": {
      "text/html": [
       "<p><table class=\"dataframe\">\n",
       "  <thead>\n",
       "    <tr style=\"text-align: right;\">\n",
       "      <th style = \"background-color: #548235;font-family: Century Gothic, sans-serif;font-size: medium;color: #FFFFFF;text-align: left;border-bottom: 2px solid #548235;padding: 0px 20px 0px 0px;width: auto\">id</th>\n",
       "      <th style = \"background-color: #548235;font-family: Century Gothic, sans-serif;font-size: medium;color: #FFFFFF;text-align: left;border-bottom: 2px solid #548235;padding: 0px 20px 0px 0px;width: auto\">name</th>\n",
       "      <th style = \"background-color: #548235;font-family: Century Gothic, sans-serif;font-size: medium;color: #FFFFFF;text-align: left;border-bottom: 2px solid #548235;padding: 0px 20px 0px 0px;width: auto\">url</th>\n",
       "    </tr>\n",
       "  </thead>\n",
       "  <tbody>\n",
       "    <tr>\n",
       "      <td style = \"background-color: #E2EFDA;font-family: Century Gothic, sans-serif;font-size: medium;text-align: left;padding: 0px 20px 0px 0px;width: auto\">1780531</td>\n",
       "      <td style = \"background-color: #E2EFDA;font-family: Century Gothic, sans-serif;font-size: medium;text-align: left;padding: 0px 20px 0px 0px;width: auto\">Dan Weld</td>\n",
       "      <td style = \"background-color: #E2EFDA;font-family: Century Gothic, sans-serif;font-size: medium;text-align: left;padding: 0px 20px 0px 0px;width: auto\"><a href=https://semanticscholar.org/author/1780531>https://semanticscholar.org/author/1780531</a></td>\n",
       "    </tr>\n",
       "    <tr>\n",
       "      <td style = \"background-color: white; color: black;font-family: Century Gothic, sans-serif;font-size: medium;text-align: left;padding: 0px 20px 0px 0px;width: auto\">2684226</td>\n",
       "      <td style = \"background-color: white; color: black;font-family: Century Gothic, sans-serif;font-size: medium;text-align: left;padding: 0px 20px 0px 0px;width: auto\">Ani Kembhavi</td>\n",
       "      <td style = \"background-color: white; color: black;font-family: Century Gothic, sans-serif;font-size: medium;text-align: left;padding: 0px 20px 0px 0px;width: auto\"><a href=https://semanticscholar.org/author/2684226>https://semanticscholar.org/author/2684226</a></td>\n",
       "    </tr>\n",
       "    <tr>\n",
       "      <td style = \"background-color: #E2EFDA;font-family: Century Gothic, sans-serif;font-size: medium;text-align: left;padding: 0px 20px 0px 0px;width: auto\">1699545</td>\n",
       "      <td style = \"background-color: #E2EFDA;font-family: Century Gothic, sans-serif;font-size: medium;text-align: left;padding: 0px 20px 0px 0px;width: auto\">Yejin Choi</td>\n",
       "      <td style = \"background-color: #E2EFDA;font-family: Century Gothic, sans-serif;font-size: medium;text-align: left;padding: 0px 20px 0px 0px;width: auto\"><a href=https://semanticscholar.org/author/1699545>https://semanticscholar.org/author/1699545</a></td>\n",
       "    </tr>\n",
       "    <tr>\n",
       "      <td style = \"background-color: white; color: black;font-family: Century Gothic, sans-serif;font-size: medium;text-align: left;padding: 0px 20px 0px 0px;width: auto\">48323507</td>\n",
       "      <td style = \"background-color: white; color: black;font-family: Century Gothic, sans-serif;font-size: medium;text-align: left;padding: 0px 20px 0px 0px;width: auto\">Peter Clark</td>\n",
       "      <td style = \"background-color: white; color: black;font-family: Century Gothic, sans-serif;font-size: medium;text-align: left;padding: 0px 20px 0px 0px;width: auto\"><a href=https://semanticscholar.org/author/48323507>https://semanticscholar.org/author/48323507</a></td>\n",
       "    </tr>\n",
       "    <tr>\n",
       "      <td style = \"background-color: #E2EFDA;font-family: Century Gothic, sans-serif;font-size: medium;text-align: left;padding: 0px 20px 0px 0px;width: auto\">144365875</td>\n",
       "      <td style = \"background-color: #E2EFDA;font-family: Century Gothic, sans-serif;font-size: medium;text-align: left;padding: 0px 20px 0px 0px;width: auto\">Noah Smith</td>\n",
       "      <td style = \"background-color: #E2EFDA;font-family: Century Gothic, sans-serif;font-size: medium;text-align: left;padding: 0px 20px 0px 0px;width: auto\"><a href=https://semanticscholar.org/author/144365875>https://semanticscholar.org/author/144365875</a></td>\n",
       "    </tr>\n",
       "    <tr>\n",
       "      <td style = \"background-color: white; color: black;font-family: Century Gothic, sans-serif;font-size: medium;text-align: left;padding: 0px 20px 0px 0px;width: auto\">2548384</td>\n",
       "      <td style = \"background-color: white; color: black;font-family: Century Gothic, sans-serif;font-size: medium;text-align: left;padding: 0px 20px 0px 0px;width: auto\">Hannaneh Hajishirzi</td>\n",
       "      <td style = \"background-color: white; color: black;font-family: Century Gothic, sans-serif;font-size: medium;text-align: left;padding: 0px 20px 0px 0px;width: auto\"><a href=https://semanticscholar.org/author/2548384>https://semanticscholar.org/author/2548384</a></td>\n",
       "    </tr>\n",
       "    <tr>\n",
       "      <td style = \"background-color: #E2EFDA;font-family: Century Gothic, sans-serif;font-size: medium;text-align: left;padding: 0px 20px 0px 0px;width: auto\">1701686</td>\n",
       "      <td style = \"background-color: #E2EFDA;font-family: Century Gothic, sans-serif;font-size: medium;text-align: left;padding: 0px 20px 0px 0px;width: auto\">Ilya Sutskever</td>\n",
       "      <td style = \"background-color: #E2EFDA;font-family: Century Gothic, sans-serif;font-size: medium;text-align: left;padding: 0px 20px 0px 0px;width: auto\"><a href=https://semanticscholar.org/author/1701686>https://semanticscholar.org/author/1701686</a></td>\n",
       "    </tr>\n",
       "    <tr>\n",
       "      <td style = \"background-color: white; color: black;font-family: Century Gothic, sans-serif;font-size: medium;text-align: left;padding: 0px 20px 0px 0px;width: auto\">1695689</td>\n",
       "      <td style = \"background-color: white; color: black;font-family: Century Gothic, sans-serif;font-size: medium;text-align: left;padding: 0px 20px 0px 0px;width: auto\">Geoffrey E. Hinton</td>\n",
       "      <td style = \"background-color: white; color: black;font-family: Century Gothic, sans-serif;font-size: medium;text-align: left;padding: 0px 20px 0px 0px;width: auto\"><a href=https://semanticscholar.org/author/1695689>https://semanticscholar.org/author/1695689</a></td>\n",
       "    </tr>\n",
       "    <tr>\n",
       "      <td style = \"background-color: #E2EFDA;font-family: Century Gothic, sans-serif;font-size: medium;text-align: left;padding: 0px 20px 0px 0px;width: auto\">1741101</td>\n",
       "      <td style = \"background-color: #E2EFDA;font-family: Century Gothic, sans-serif;font-size: medium;text-align: left;padding: 0px 20px 0px 0px;width: auto\">Oren Etzioni</td>\n",
       "      <td style = \"background-color: #E2EFDA;font-family: Century Gothic, sans-serif;font-size: medium;text-align: left;padding: 0px 20px 0px 0px;width: auto\"><a href=https://semanticscholar.org/author/1741101>https://semanticscholar.org/author/1741101</a></td>\n",
       "    </tr>\n",
       "    <tr>\n",
       "      <td style = \"background-color: white; color: black;font-family: Century Gothic, sans-serif;font-size: medium;text-align: left;padding: 0px 20px 0px 0px;width: auto\">48004138</td>\n",
       "      <td style = \"background-color: white; color: black;font-family: Century Gothic, sans-serif;font-size: medium;text-align: left;padding: 0px 20px 0px 0px;width: auto\">Li Fei-Fei</td>\n",
       "      <td style = \"background-color: white; color: black;font-family: Century Gothic, sans-serif;font-size: medium;text-align: left;padding: 0px 20px 0px 0px;width: auto\"><a href=https://semanticscholar.org/author/48004138>https://semanticscholar.org/author/48004138</a></td>\n",
       "    </tr>\n",
       "    <tr>\n",
       "      <td style = \"background-color: #E2EFDA;font-family: Century Gothic, sans-serif;font-size: medium;text-align: left;padding: 0px 20px 0px 0px;width: auto\">2354728</td>\n",
       "      <td style = \"background-color: #E2EFDA;font-family: Century Gothic, sans-serif;font-size: medium;text-align: left;padding: 0px 20px 0px 0px;width: auto\">A. Karpathy</td>\n",
       "      <td style = \"background-color: #E2EFDA;font-family: Century Gothic, sans-serif;font-size: medium;text-align: left;padding: 0px 20px 0px 0px;width: auto\"><a href=https://semanticscholar.org/author/2354728>https://semanticscholar.org/author/2354728</a></td>\n",
       "    </tr>\n",
       "    <tr>\n",
       "      <td style = \"background-color: white; color: black;font-family: Century Gothic, sans-serif;font-size: medium;text-align: left;padding: 0px 20px 0px 0px;width: auto\">2093348519</td>\n",
       "      <td style = \"background-color: white; color: black;font-family: Century Gothic, sans-serif;font-size: medium;text-align: left;padding: 0px 20px 0px 0px;width: auto\">Jeremy Howard</td>\n",
       "      <td style = \"background-color: white; color: black;font-family: Century Gothic, sans-serif;font-size: medium;text-align: left;padding: 0px 20px 0px 0px;width: auto\"><a href=https://semanticscholar.org/author/2093348519>https://semanticscholar.org/author/2093348519</a></td>\n",
       "    </tr>\n",
       "    <tr>\n",
       "      <td style = \"background-color: #E2EFDA;font-family: Century Gothic, sans-serif;font-size: medium;text-align: left;padding: 0px 20px 0px 0px;width: auto\">2166511</td>\n",
       "      <td style = \"background-color: #E2EFDA;font-family: Century Gothic, sans-serif;font-size: medium;text-align: left;padding: 0px 20px 0px 0px;width: auto\">R. Socher</td>\n",
       "      <td style = \"background-color: #E2EFDA;font-family: Century Gothic, sans-serif;font-size: medium;text-align: left;padding: 0px 20px 0px 0px;width: auto\"><a href=https://semanticscholar.org/author/2166511>https://semanticscholar.org/author/2166511</a></td>\n",
       "    </tr>\n",
       "    <tr>\n",
       "      <td style = \"background-color: white; color: black;font-family: Century Gothic, sans-serif;font-size: medium;text-align: left;padding: 0px 20px 0px 0px;width: auto\">1751762</td>\n",
       "      <td style = \"background-color: white; color: black;font-family: Century Gothic, sans-serif;font-size: medium;text-align: left;padding: 0px 20px 0px 0px;width: auto\">Yoshua Bengio</td>\n",
       "      <td style = \"background-color: white; color: black;font-family: Century Gothic, sans-serif;font-size: medium;text-align: left;padding: 0px 20px 0px 0px;width: auto\"><a href=https://semanticscholar.org/author/1751762>https://semanticscholar.org/author/1751762</a></td>\n",
       "    </tr>\n",
       "    <tr>\n",
       "      <td style = \"background-color: #E2EFDA;font-family: Century Gothic, sans-serif;font-size: medium;text-align: left;padding: 0px 20px 0px 0px;width: auto\">153440022</td>\n",
       "      <td style = \"background-color: #E2EFDA;font-family: Century Gothic, sans-serif;font-size: medium;text-align: left;padding: 0px 20px 0px 0px;width: auto\">Ian J. Goodfellow</td>\n",
       "      <td style = \"background-color: #E2EFDA;font-family: Century Gothic, sans-serif;font-size: medium;text-align: left;padding: 0px 20px 0px 0px;width: auto\"><a href=https://semanticscholar.org/author/153440022>https://semanticscholar.org/author/153440022</a></td>\n",
       "    </tr>\n",
       "    <tr>\n",
       "      <td style = \"background-color: white; color: black;font-family: Century Gothic, sans-serif;font-size: medium;text-align: left;padding: 0px 20px 0px 0px;width: auto\">1688882</td>\n",
       "      <td style = \"background-color: white; color: black;font-family: Century Gothic, sans-serif;font-size: medium;text-align: left;padding: 0px 20px 0px 0px;width: auto\">Yann LeCun</td>\n",
       "      <td style = \"background-color: white; color: black;font-family: Century Gothic, sans-serif;font-size: medium;text-align: left;padding: 0px 20px 0px 0px;width: auto\"><a href=https://semanticscholar.org/author/1688882>https://semanticscholar.org/author/1688882</a></td>\n",
       "    </tr>\n",
       "  </tbody>\n",
       "</table></p>"
      ],
      "text/plain": [
       "<IPython.core.display.HTML object>"
      ]
     },
     "metadata": {},
     "output_type": "display_data"
    }
   ],
   "source": [
    "import json\n",
    "import pandas as pd\n",
    "\n",
    "from IPython.display import HTML, display\n",
    "from pretty_html_table import build_table\n",
    "\n",
    "def s2_url(path: str) -> str:\n",
    "    url = f\"https://semanticscholar.org{path}\"\n",
    "    return url\n",
    "\n",
    "def href(url: str) -> str:\n",
    "    return f\"<a href={url}>{url}</a>\"\n",
    "\n",
    "author_citations = json.load(open(\"author_citations.json\", \"r\"))\n",
    "\n",
    "authors = []\n",
    "for id, a in author_citations.items():\n",
    "    authors.append({ \"id\": id, \"name\": a[\"name\"], \"url\": href(s2_url(f\"/author/{id}\")) })\n",
    "    \n",
    "adf = pd.DataFrame(authors)\n",
    "display(HTML(build_table(adf, 'green_dark', escape=False)))\n"
   ]
  },
  {
   "cell_type": "markdown",
   "id": "ccb8ee42",
   "metadata": {},
   "source": [
    "This looks like a good set of authors to start with. Maybe we'll add more in the future, if there's interest.\n",
    "\n",
    "Before we move on. Let's talk quickly about the data that's in `author_citations.json`. That file contains a map of author IDs to the top 25 papers they cite the most, per our database. The papers are sorted by unique citations -- which means if a paper is cited twice in a single document, it's only counted once. That helps control for scenarios where the \"importance\" of the paper might be inflated by the number of citations in the document. We could go on about this for awhile, and have been a lot of thought into things like classifying the importance of citations. More on that another time :).\n",
    "\n",
    "The file could thus be described by the type `map[str, AuthorCitations]`, where each `AuthorCitations` instance is defined as such:\n",
    "\n",
    "```\n",
    "class AuthorCitations:\n",
    "    # The author's anme\n",
    "    name: str\n",
    "    # The 25 most cited papers by that author.\n",
    "    papers: list[CitedPaper]\n",
    "```\n",
    "\n",
    "...and a `CitedPaper` looks like so:\n",
    "\n",
    "```\n",
    "class CitedPaper:\n",
    "    # A SHA derived from the paper, that acts as a public, unique identifier. We could talk a lot about\n",
    "    # how this is generated but won't here.\n",
    "    paper_sha: str\n",
    "    # An internal identifier for the paper. You can ignore this.\n",
    "    corpus_paper_id: int\n",
    "    # The paper's title.\n",
    "    title: str\n",
    "    # The unique number of times the paper was cited by the author.\n",
    "    n_citations: int\n",
    "    # The total number of times the paper was cited across the whole corpus, or the \"global citations\".\n",
    "    g_citations: int\n",
    "    # The year the paper was published\n",
    "    year: int\n",
    "    # True if the cited paper was also written by the author\n",
    "    self_cited: bool\n",
    "```\n",
    "\n",
    "Let's dump out some data to confirm the shape:\n",
    "   \n",
    "\n",
    "\n"
   ]
  },
  {
   "cell_type": "code",
   "execution_count": 37,
   "id": "b8bdbab4",
   "metadata": {},
   "outputs": [
    {
     "name": "stdout",
     "output_type": "stream",
     "text": [
      "{\n",
      "  \"1780531\": {\n",
      "    \"name\": \"Dan Weld\",\n",
      "    \"papers\": [\n",
      "      {\n",
      "        \"paper_sha\": \"6e1bd5758be5495141d56de31c28d57f55c56f3e\",\n",
      "        \"corpus_paper_id\": 5329862,\n",
      "        \"title\": \"UCPOP: A Sound, Complete, Partial Order Planner for ADL\",\n",
      "        \"n_citations\": 33,\n",
      "        \"g_citations\": 930,\n",
      "        \"year\": 1992,\n",
      "        \"self_cited\": true\n",
      "      },\n",
      "      {\n",
      "        \"paper_sha\": \"02cc8ee37b11e7bd96a3bc1095a8bee6b154bcf4\",\n",
      "        \"corpus_paper_id\": 2584923,\n",
      "        \"title\": \"Systematic Nonlinear Planning\",\n",
      "        \"n_citations\": 29,\n",
      "        \"g_citations\": 731,\n",
      "        \"year\": 1991,\n",
      "        \"self_cited\": false\n",
      "      }\n",
      "    ]\n",
      "  }\n",
      "}\n"
     ]
    }
   ],
   "source": [
    "from copy import deepcopy\n",
    "\n",
    "first_id = list(author_citations.keys())[0]\n",
    "\n",
    "# Make a copy, to not mutate the original\n",
    "first_author = deepcopy(author_citations[first_id])\n",
    "first_author[\"papers\"] = first_author[\"papers\"][0:2]\n",
    "\n",
    "print(json.dumps({ first_id: first_author }, indent=2))"
   ]
  },
  {
   "cell_type": "markdown",
   "id": "562fccd2",
   "metadata": {},
   "source": [
    "### Step 2: Enrich the Data using Semantic Scholar's Public API\n",
    "\n",
    "Next we'll go through the papers they cite the most and mix in some extra information from Semantic Scholar's API that we'll use later.\n",
    "\n",
    "We sort each author's list of citations by the `n_citations` field. This is the number of unique papers by the author that cited the paper."
   ]
  },
  {
   "cell_type": "code",
   "execution_count": 38,
   "id": "7a0d5534",
   "metadata": {},
   "outputs": [
    {
     "name": "stdout",
     "output_type": "stream",
     "text": [
      "INFO: your Semantic Scholar API key will be used.\n"
     ]
    },
    {
     "name": "stderr",
     "output_type": "stream",
     "text": [
      "100%|█████████████████████████████████████████████████████████████████████████████████████████████████████████████████████████████████████████████████████████████████| 16/16 [00:19<00:00,  1.20s/it]"
     ]
    },
    {
     "name": "stdout",
     "output_type": "stream",
     "text": [
      "160\n"
     ]
    },
    {
     "name": "stderr",
     "output_type": "stream",
     "text": [
      "\n"
     ]
    }
   ],
   "source": [
    "from typing import Optional, List, Tuple\n",
    "from tqdm import tqdm\n",
    "from os import path\n",
    "\n",
    "import requests\n",
    "\n",
    "# To avoid rate limits, create a file called key.txt with your Semantic Scholar API key \n",
    "# as the contents.\n",
    "api_key = None\n",
    "if path.isfile(\"key.txt\"):\n",
    "    api_key = open(\"key.txt\").read().strip()\n",
    "if api_key is not None:\n",
    "    assert(api_key != \"\")\n",
    "    print(\"INFO: your Semantic Scholar API key will be used.\")\n",
    "\n",
    "def get_extra_fields(sha: str) -> Tuple[str, List[float]]:\n",
    "    \"\"\"\n",
    "    Fetch the TLDR and SPECTRE embedding. These might not exist, so we handle\n",
    "    failure gracefully.\n",
    "    \n",
    "    The first value is the TLDR. The second is the SPECTRE embedding.\n",
    "    \"\"\"    \n",
    "    headers = None\n",
    "    if api_key is not None:\n",
    "        headers = { \"x-api-key\": api_key }\n",
    "    resp = requests.get(\n",
    "        f\"https://api.semanticscholar.org/graph/v1/paper/{sha}?fields=tldr,embedding\",\n",
    "        headers=headers,\n",
    "    )\n",
    "    if resp.status_code != 200:\n",
    "        return [\"\", []]\n",
    "    payload = resp.json()\n",
    "    tldr = payload.get(\"tldr\")\n",
    "    embed = payload.get(\"embedding\")\n",
    "    return (\n",
    "        tldr[\"text\"] if tldr is not None else \"\",\n",
    "        embed[\"vector\"] if embed is not None else []\n",
    "    )\n",
    "\n",
    "# We'll keep them in a list to use later\n",
    "papers = []\n",
    "\n",
    "for id, a in tqdm(author_citations.items()):\n",
    "    most_cited = sorted(a[\"papers\"], key=lambda p : p[\"n_citations\"], reverse=True)    \n",
    "    for p in most_cited[:10]:\n",
    "        tldr, embed = get_extra_fields(p[\"paper_sha\"])\n",
    "        paper = {\n",
    "            \"id\": id,\n",
    "            \"sha\": p[\"paper_sha\"],\n",
    "            \"names\": [a[\"name\"]], \n",
    "            \"author_id\": id,\n",
    "            \"title\": p[\"title\"],\n",
    "            \"n_citations\": p[\"n_citations\"],\n",
    "            \"g_citations\": p[\"g_citations\"],\n",
    "            \"self_citation\": p[\"self_cited\"],\n",
    "            \"year\": p[\"year\"],\n",
    "            \"url\": s2_url(f\"/paper/{p['paper_sha']}\"),\n",
    "            \"tldr\": tldr,\n",
    "            \"embedding\": embed,\n",
    "        }\n",
    "        papers.append(paper)        \n",
    "        \n",
    "# We don't output much, so that this cell can be cached (it's slow).\n",
    "print(len(papers))\n"
   ]
  },
  {
   "cell_type": "markdown",
   "id": "4e2305eb",
   "metadata": {},
   "source": [
    "160 papers are too many to display in a notebook. Clearly we need to build this into S2 instead :)\n",
    "\n",
    "In the meantime we'll take a look at single author's list, just to see what things look like. Given this whole exercise spawned via curiosity about Ilya Sutskever's list, let's take a look at that list first."
   ]
  },
  {
   "cell_type": "code",
   "execution_count": 39,
   "id": "1b15e414",
   "metadata": {},
   "outputs": [
    {
     "data": {
      "text/html": [
       "<div style='padding: 15px 0;'>\n",
       "        <div style=\"margin: 15px 0;\">\n",
       "            <h4 style=\"margin: 0; font-weight: bold; font-size: 16px\">Sequence to Sequence Learning with Neural Networks</h4>\n",
       "            \n",
       "        <p style=\"margin: 5px 0;\">\n",
       "            2014 • Unique Citations: 22 • Self Citation\n",
       "        </p>\n",
       "    \n",
       "            <div style=\"max-width: 70ch; margin: 5px 0;\">\n",
       "                <span style=\"font-size: 12px; background: #eee; border-radius: 2px; padding: 2px 4px; line-height: 1; display: inline-block\">\n",
       "                    TLDR\n",
       "                </span>\n",
       "                <span style=\"font-size: 12px;\">This paper presents a general end-to-end approach to sequence learning that makes minimal assumptions on the sequence structure, and finds that reversing the order of the words in all source sentences improved the LSTM's performance markedly, because doing so introduced many short term dependencies between the source and the target sentence which made the optimization problem easier.</span>\n",
       "            </div>\n",
       "            <div style=\"font-size: 12px\">\n",
       "                <a href=\"https://semanticscholar.org/paper/cea967b59209c6be22829699f05b8b1ac4dc092d\">\n",
       "                    https://semanticscholar.org/paper/cea967b59209c6be22829699f05b8b1ac4dc092d\n",
       "                </a>\n",
       "            </div>\n",
       "        </div>\n",
       "    \n",
       "\n",
       "        <div style=\"margin: 15px 0;\">\n",
       "            <h4 style=\"margin: 0; font-weight: bold; font-size: 16px\">Long Short-Term Memory</h4>\n",
       "            \n",
       "        <p style=\"margin: 5px 0;\">\n",
       "            1997 • Unique Citations: 22 • Not Self Citation\n",
       "        </p>\n",
       "    \n",
       "            <div style=\"max-width: 70ch; margin: 5px 0;\">\n",
       "                <span style=\"font-size: 12px; background: #eee; border-radius: 2px; padding: 2px 4px; line-height: 1; display: inline-block\">\n",
       "                    TLDR\n",
       "                </span>\n",
       "                <span style=\"font-size: 12px;\">A novel, efficient, gradient based method called long short-term memory (LSTM) is introduced, which can learn to bridge minimal time lags in excess of 1000 discrete-time steps by enforcing constant error flow through constant error carousels within special units.</span>\n",
       "            </div>\n",
       "            <div style=\"font-size: 12px\">\n",
       "                <a href=\"https://semanticscholar.org/paper/44d2abe2175df8153f465f6c39b68b76a0d40ab9\">\n",
       "                    https://semanticscholar.org/paper/44d2abe2175df8153f465f6c39b68b76a0d40ab9\n",
       "                </a>\n",
       "            </div>\n",
       "        </div>\n",
       "    \n",
       "\n",
       "        <div style=\"margin: 15px 0;\">\n",
       "            <h4 style=\"margin: 0; font-weight: bold; font-size: 16px\">ImageNet classification with deep convolutional neural networks</h4>\n",
       "            \n",
       "        <p style=\"margin: 5px 0;\">\n",
       "            2012 • Unique Citations: 21 • Self Citation\n",
       "        </p>\n",
       "    \n",
       "            <div style=\"max-width: 70ch; margin: 5px 0;\">\n",
       "                <span style=\"font-size: 12px; background: #eee; border-radius: 2px; padding: 2px 4px; line-height: 1; display: inline-block\">\n",
       "                    TLDR\n",
       "                </span>\n",
       "                <span style=\"font-size: 12px;\">A large, deep convolutional neural network was trained to classify the 1.2 million high-resolution images in the ImageNet LSVRC-2010 contest into the 1000 different classes and employed a recently developed regularization method called \"dropout\" that proved to be very effective.</span>\n",
       "            </div>\n",
       "            <div style=\"font-size: 12px\">\n",
       "                <a href=\"https://semanticscholar.org/paper/abd1c342495432171beb7ca8fd9551ef13cbd0ff\">\n",
       "                    https://semanticscholar.org/paper/abd1c342495432171beb7ca8fd9551ef13cbd0ff\n",
       "                </a>\n",
       "            </div>\n",
       "        </div>\n",
       "    \n",
       "\n",
       "        <div style=\"margin: 15px 0;\">\n",
       "            <h4 style=\"margin: 0; font-weight: bold; font-size: 16px\">Adam: A Method for Stochastic Optimization</h4>\n",
       "            \n",
       "        <p style=\"margin: 5px 0;\">\n",
       "            2015 • Unique Citations: 21 • Not Self Citation\n",
       "        </p>\n",
       "    \n",
       "            <div style=\"max-width: 70ch; margin: 5px 0;\">\n",
       "                <span style=\"font-size: 12px; background: #eee; border-radius: 2px; padding: 2px 4px; line-height: 1; display: inline-block\">\n",
       "                    TLDR\n",
       "                </span>\n",
       "                <span style=\"font-size: 12px;\">This work introduces Adam, an algorithm for first-order gradient-based optimization of stochastic objective functions, based on adaptive estimates of lower-order moments, and provides a regret bound on the convergence rate that is comparable to the best known results under the online convex optimization framework.</span>\n",
       "            </div>\n",
       "            <div style=\"font-size: 12px\">\n",
       "                <a href=\"https://semanticscholar.org/paper/a6cb366736791bcccc5c8639de5a8f9636bf87e8\">\n",
       "                    https://semanticscholar.org/paper/a6cb366736791bcccc5c8639de5a8f9636bf87e8\n",
       "                </a>\n",
       "            </div>\n",
       "        </div>\n",
       "    \n",
       "\n",
       "        <div style=\"margin: 15px 0;\">\n",
       "            <h4 style=\"margin: 0; font-weight: bold; font-size: 16px\">Neural Machine Translation by Jointly Learning to Align and Translate</h4>\n",
       "            \n",
       "        <p style=\"margin: 5px 0;\">\n",
       "            2015 • Unique Citations: 19 • Not Self Citation\n",
       "        </p>\n",
       "    \n",
       "            <div style=\"max-width: 70ch; margin: 5px 0;\">\n",
       "                <span style=\"font-size: 12px; background: #eee; border-radius: 2px; padding: 2px 4px; line-height: 1; display: inline-block\">\n",
       "                    TLDR\n",
       "                </span>\n",
       "                <span style=\"font-size: 12px;\">It is conjecture that the use of a fixed-length vector is a bottleneck in improving the performance of this basic encoder-decoder architecture, and it is proposed to extend this by allowing a model to automatically (soft-)search for parts of a source sentence that are relevant to predicting a target word, without having to form these parts as a hard segment explicitly.</span>\n",
       "            </div>\n",
       "            <div style=\"font-size: 12px\">\n",
       "                <a href=\"https://semanticscholar.org/paper/fa72afa9b2cbc8f0d7b05d52548906610ffbb9c5\">\n",
       "                    https://semanticscholar.org/paper/fa72afa9b2cbc8f0d7b05d52548906610ffbb9c5\n",
       "                </a>\n",
       "            </div>\n",
       "        </div>\n",
       "    \n",
       "\n",
       "        <div style=\"margin: 15px 0;\">\n",
       "            <h4 style=\"margin: 0; font-weight: bold; font-size: 16px\">Learning Phrase Representations using RNN Encoder–Decoder for Statistical Machine Translation</h4>\n",
       "            \n",
       "        <p style=\"margin: 5px 0;\">\n",
       "            2014 • Unique Citations: 17 • Not Self Citation\n",
       "        </p>\n",
       "    \n",
       "            <div style=\"max-width: 70ch; margin: 5px 0;\">\n",
       "                <span style=\"font-size: 12px; background: #eee; border-radius: 2px; padding: 2px 4px; line-height: 1; display: inline-block\">\n",
       "                    TLDR\n",
       "                </span>\n",
       "                <span style=\"font-size: 12px;\">Qualitatively, the proposed RNN Encoder‐Decoder model learns a semantically and syntactically meaningful representation of linguistic phrases.</span>\n",
       "            </div>\n",
       "            <div style=\"font-size: 12px\">\n",
       "                <a href=\"https://semanticscholar.org/paper/0b544dfe355a5070b60986319a3f51fb45d1348e\">\n",
       "                    https://semanticscholar.org/paper/0b544dfe355a5070b60986319a3f51fb45d1348e\n",
       "                </a>\n",
       "            </div>\n",
       "        </div>\n",
       "    \n",
       "\n",
       "        <div style=\"margin: 15px 0;\">\n",
       "            <h4 style=\"margin: 0; font-weight: bold; font-size: 16px\">Reducing the Dimensionality of Data with Neural Networks</h4>\n",
       "            \n",
       "        <p style=\"margin: 5px 0;\">\n",
       "            2006 • Unique Citations: 16 • Not Self Citation\n",
       "        </p>\n",
       "    \n",
       "            <div style=\"max-width: 70ch; margin: 5px 0;\">\n",
       "                <span style=\"font-size: 12px; background: #eee; border-radius: 2px; padding: 2px 4px; line-height: 1; display: inline-block\">\n",
       "                    TLDR\n",
       "                </span>\n",
       "                <span style=\"font-size: 12px;\">This work describes an effective way of initializing the weights that allows deep autoencoder networks to learn low-dimensional codes that work much better than principal components analysis as a tool to reduce the dimensionality of data.</span>\n",
       "            </div>\n",
       "            <div style=\"font-size: 12px\">\n",
       "                <a href=\"https://semanticscholar.org/paper/46eb79e5eec8a4e2b2f5652b66441e8a4c921c3e\">\n",
       "                    https://semanticscholar.org/paper/46eb79e5eec8a4e2b2f5652b66441e8a4c921c3e\n",
       "                </a>\n",
       "            </div>\n",
       "        </div>\n",
       "    \n",
       "\n",
       "        <div style=\"margin: 15px 0;\">\n",
       "            <h4 style=\"margin: 0; font-weight: bold; font-size: 16px\">Learning representations by back-propagating errors</h4>\n",
       "            \n",
       "        <p style=\"margin: 5px 0;\">\n",
       "            1986 • Unique Citations: 15 • Not Self Citation\n",
       "        </p>\n",
       "    \n",
       "            <div style=\"max-width: 70ch; margin: 5px 0;\">\n",
       "                <span style=\"font-size: 12px; background: #eee; border-radius: 2px; padding: 2px 4px; line-height: 1; display: inline-block\">\n",
       "                    TLDR\n",
       "                </span>\n",
       "                <span style=\"font-size: 12px;\">Back-propagation repeatedly adjusts the weights of the connections in the network so as to minimize a measure of the difference between the actual output vector of the net and the desired output vector, which helps to represent important features of the task domain.</span>\n",
       "            </div>\n",
       "            <div style=\"font-size: 12px\">\n",
       "                <a href=\"https://semanticscholar.org/paper/052b1d8ce63b07fec3de9dbb583772d860b7c769\">\n",
       "                    https://semanticscholar.org/paper/052b1d8ce63b07fec3de9dbb583772d860b7c769\n",
       "                </a>\n",
       "            </div>\n",
       "        </div>\n",
       "    \n",
       "\n",
       "        <div style=\"margin: 15px 0;\">\n",
       "            <h4 style=\"margin: 0; font-weight: bold; font-size: 16px\">A Fast Learning Algorithm for Deep Belief Nets</h4>\n",
       "            \n",
       "        <p style=\"margin: 5px 0;\">\n",
       "            2006 • Unique Citations: 14 • Not Self Citation\n",
       "        </p>\n",
       "    \n",
       "            <div style=\"max-width: 70ch; margin: 5px 0;\">\n",
       "                <span style=\"font-size: 12px; background: #eee; border-radius: 2px; padding: 2px 4px; line-height: 1; display: inline-block\">\n",
       "                    TLDR\n",
       "                </span>\n",
       "                <span style=\"font-size: 12px;\">A fast, greedy algorithm is derived that can learn deep, directed belief networks one layer at a time, provided the top two layers form an undirected associative memory.</span>\n",
       "            </div>\n",
       "            <div style=\"font-size: 12px\">\n",
       "                <a href=\"https://semanticscholar.org/paper/8978cf7574ceb35f4c3096be768c7547b28a35d0\">\n",
       "                    https://semanticscholar.org/paper/8978cf7574ceb35f4c3096be768c7547b28a35d0\n",
       "                </a>\n",
       "            </div>\n",
       "        </div>\n",
       "    \n",
       "\n",
       "        <div style=\"margin: 15px 0;\">\n",
       "            <h4 style=\"margin: 0; font-weight: bold; font-size: 16px\">Generating Sequences With Recurrent Neural Networks</h4>\n",
       "            \n",
       "        <p style=\"margin: 5px 0;\">\n",
       "            2013 • Unique Citations: 14 • Not Self Citation\n",
       "        </p>\n",
       "    \n",
       "            <div style=\"max-width: 70ch; margin: 5px 0;\">\n",
       "                <span style=\"font-size: 12px; background: #eee; border-radius: 2px; padding: 2px 4px; line-height: 1; display: inline-block\">\n",
       "                    TLDR\n",
       "                </span>\n",
       "                <span style=\"font-size: 12px;\">This paper shows how Long Short-term Memory recurrent neural networks can be used to generate complex sequences with long-range structure, simply by predicting one data point at a time.</span>\n",
       "            </div>\n",
       "            <div style=\"font-size: 12px\">\n",
       "                <a href=\"https://semanticscholar.org/paper/89b1f4740ae37fd04f6ac007577bdd34621f0861\">\n",
       "                    https://semanticscholar.org/paper/89b1f4740ae37fd04f6ac007577bdd34621f0861\n",
       "                </a>\n",
       "            </div>\n",
       "        </div>\n",
       "    </div>"
      ],
      "text/plain": [
       "<IPython.core.display.HTML object>"
      ]
     },
     "metadata": {},
     "output_type": "display_data"
    }
   ],
   "source": [
    "def paper_meta_html(p) -> str:\n",
    "    return f\"\"\"\n",
    "        <p style=\"margin: 5px 0;\">\n",
    "            {p[\"year\"]} • Unique Citations: {p[\"n_citations\"]} • {\"Self Citation\" if p[\"self_citation\"] else \"Not Self Citation\"}\n",
    "        </p>\n",
    "    \"\"\"\n",
    "\n",
    "def paper_html(p, meta) -> str:\n",
    "    return f\"\"\"\n",
    "        <div style=\"margin: 15px 0;\">\n",
    "            <h4 style=\"margin: 0; font-weight: bold; font-size: 16px\">{p[\"title\"]}</h4>\n",
    "            {meta(p)}\n",
    "            <div style=\"max-width: 70ch; margin: 5px 0;\">\n",
    "                <span style=\"font-size: 12px; background: #eee; border-radius: 2px; padding: 2px 4px; line-height: 1; display: inline-block\">\n",
    "                    TLDR\n",
    "                </span>\n",
    "                <span style=\"font-size: 12px;\">{p[\"tldr\"]}</span>\n",
    "            </div>\n",
    "            <div style=\"font-size: 12px\">\n",
    "                <a href=\"{p[\"url\"]}\">\n",
    "                    {p[\"url\"]}\n",
    "                </a>\n",
    "            </div>\n",
    "        </div>\n",
    "    \"\"\"\n",
    "\n",
    "ilyas = [ p for p in papers if p[\"author_id\"] == \"1701686\" ]\n",
    "ilyas_html = \"\\n\".join([ paper_html(p, paper_meta_html) for p in ilyas ])\n",
    "display(HTML(f\"<div style='padding: 15px 0;'>{ilyas_html}</div>\"))\n"
   ]
  },
  {
   "cell_type": "markdown",
   "id": "058396f2",
   "metadata": {},
   "source": [
    "Alright, we've got a starting point. There's clearly some important work here. But it's also pretty hard to assess how good this is or isn't. And as we mentioned before, we don't think any single author's list of citations could capture the diversity of the AI field (nor of most fields, for that matter). So let's do a bit more work.\n",
    "\n",
    "### Step 3: Find the Intersection\n",
    "\n",
    "What's more interesting than any author's list in isolation is the list of papers that they all cite. To do so we can go through the top 10 most cited papers per author and find those that they all cite. We'll rank the results by the unique number of authors (in our data) who cited them, preferring papers that were cited by more distinct individuals.\n",
    "\n"
   ]
  },
  {
   "cell_type": "code",
   "execution_count": 40,
   "id": "485a6858",
   "metadata": {},
   "outputs": [
    {
     "data": {
      "text/html": [
       "<div style='padding: 15px 0;'>\n",
       "        <div style=\"margin: 15px 0;\">\n",
       "            <h4 style=\"margin: 0; font-weight: bold; font-size: 16px\">Adam: A Method for Stochastic Optimization</h4>\n",
       "            \n",
       "        <div style=\"margin: 5px 0;\">\n",
       "            2015\n",
       "        </div>\n",
       "        <div style=\"margin: 5px 0;\">\n",
       "            <em>Cited By: Yoshua Bengio (160), R. Socher (58), Li Fei-Fei (49), Noah Smith (36), Hannaneh Hajishirzi (30), Ilya Sutskever (21), Ian J. Goodfellow (20), Ani Kembhavi (16)</em>\n",
       "        </div>        \n",
       "    \n",
       "            <div style=\"max-width: 70ch; margin: 5px 0;\">\n",
       "                <span style=\"font-size: 12px; background: #eee; border-radius: 2px; padding: 2px 4px; line-height: 1; display: inline-block\">\n",
       "                    TLDR\n",
       "                </span>\n",
       "                <span style=\"font-size: 12px;\">This work introduces Adam, an algorithm for first-order gradient-based optimization of stochastic objective functions, based on adaptive estimates of lower-order moments, and provides a regret bound on the convergence rate that is comparable to the best known results under the online convex optimization framework.</span>\n",
       "            </div>\n",
       "            <div style=\"font-size: 12px\">\n",
       "                <a href=\"https://semanticscholar.org/paper/a6cb366736791bcccc5c8639de5a8f9636bf87e8\">\n",
       "                    https://semanticscholar.org/paper/a6cb366736791bcccc5c8639de5a8f9636bf87e8\n",
       "                </a>\n",
       "            </div>\n",
       "        </div>\n",
       "    \n",
       "\n",
       "        <div style=\"margin: 15px 0;\">\n",
       "            <h4 style=\"margin: 0; font-weight: bold; font-size: 16px\">Deep Residual Learning for Image Recognition</h4>\n",
       "            \n",
       "        <div style=\"margin: 5px 0;\">\n",
       "            2016\n",
       "        </div>\n",
       "        <div style=\"margin: 5px 0;\">\n",
       "            <em>Cited By: Li Fei-Fei (49), R. Socher (44), Yann LeCun (38), Ani Kembhavi (19), Jeremy Howard (3)</em>\n",
       "        </div>        \n",
       "    \n",
       "            <div style=\"max-width: 70ch; margin: 5px 0;\">\n",
       "                <span style=\"font-size: 12px; background: #eee; border-radius: 2px; padding: 2px 4px; line-height: 1; display: inline-block\">\n",
       "                    TLDR\n",
       "                </span>\n",
       "                <span style=\"font-size: 12px;\">This work presents a residual learning framework to ease the training of networks that are substantially deeper than those used previously, and provides comprehensive empirical evidence showing that these residual networks are easier to optimize, and can gain accuracy from considerably increased depth.</span>\n",
       "            </div>\n",
       "            <div style=\"font-size: 12px\">\n",
       "                <a href=\"https://semanticscholar.org/paper/2c03df8b48bf3fa39054345bafabfeff15bfd11d\">\n",
       "                    https://semanticscholar.org/paper/2c03df8b48bf3fa39054345bafabfeff15bfd11d\n",
       "                </a>\n",
       "            </div>\n",
       "        </div>\n",
       "    \n",
       "\n",
       "        <div style=\"margin: 15px 0;\">\n",
       "            <h4 style=\"margin: 0; font-weight: bold; font-size: 16px\">Long Short-Term Memory</h4>\n",
       "            \n",
       "        <div style=\"margin: 5px 0;\">\n",
       "            1997\n",
       "        </div>\n",
       "        <div style=\"margin: 5px 0;\">\n",
       "            <em>Cited By: Yoshua Bengio (127), R. Socher (32), Noah Smith (29), Ilya Sutskever (22), A. Karpathy (4)</em>\n",
       "        </div>        \n",
       "    \n",
       "            <div style=\"max-width: 70ch; margin: 5px 0;\">\n",
       "                <span style=\"font-size: 12px; background: #eee; border-radius: 2px; padding: 2px 4px; line-height: 1; display: inline-block\">\n",
       "                    TLDR\n",
       "                </span>\n",
       "                <span style=\"font-size: 12px;\">A novel, efficient, gradient based method called long short-term memory (LSTM) is introduced, which can learn to bridge minimal time lags in excess of 1000 discrete-time steps by enforcing constant error flow through constant error carousels within special units.</span>\n",
       "            </div>\n",
       "            <div style=\"font-size: 12px\">\n",
       "                <a href=\"https://semanticscholar.org/paper/44d2abe2175df8153f465f6c39b68b76a0d40ab9\">\n",
       "                    https://semanticscholar.org/paper/44d2abe2175df8153f465f6c39b68b76a0d40ab9\n",
       "                </a>\n",
       "            </div>\n",
       "        </div>\n",
       "    \n",
       "\n",
       "        <div style=\"margin: 15px 0;\">\n",
       "            <h4 style=\"margin: 0; font-weight: bold; font-size: 16px\">ImageNet classification with deep convolutional neural networks</h4>\n",
       "            \n",
       "        <div style=\"margin: 5px 0;\">\n",
       "            2012\n",
       "        </div>\n",
       "        <div style=\"margin: 5px 0;\">\n",
       "            <em>Cited By: Yoshua Bengio (83), Li Fei-Fei (56), Yann LeCun (37), Ilya Sutskever (21), A. Karpathy (7)</em>\n",
       "        </div>        \n",
       "    \n",
       "            <div style=\"max-width: 70ch; margin: 5px 0;\">\n",
       "                <span style=\"font-size: 12px; background: #eee; border-radius: 2px; padding: 2px 4px; line-height: 1; display: inline-block\">\n",
       "                    TLDR\n",
       "                </span>\n",
       "                <span style=\"font-size: 12px;\">A large, deep convolutional neural network was trained to classify the 1.2 million high-resolution images in the ImageNet LSVRC-2010 contest into the 1000 different classes and employed a recently developed regularization method called \"dropout\" that proved to be very effective.</span>\n",
       "            </div>\n",
       "            <div style=\"font-size: 12px\">\n",
       "                <a href=\"https://semanticscholar.org/paper/abd1c342495432171beb7ca8fd9551ef13cbd0ff\">\n",
       "                    https://semanticscholar.org/paper/abd1c342495432171beb7ca8fd9551ef13cbd0ff\n",
       "                </a>\n",
       "            </div>\n",
       "        </div>\n",
       "    \n",
       "\n",
       "        <div style=\"margin: 15px 0;\">\n",
       "            <h4 style=\"margin: 0; font-weight: bold; font-size: 16px\">BERT: Pre-training of Deep Bidirectional Transformers for Language Understanding</h4>\n",
       "            \n",
       "        <div style=\"margin: 5px 0;\">\n",
       "            2019\n",
       "        </div>\n",
       "        <div style=\"margin: 5px 0;\">\n",
       "            <em>Cited By: Yejin Choi (79), Hannaneh Hajishirzi (49), R. Socher (44), Noah Smith (36), Peter Clark (18)</em>\n",
       "        </div>        \n",
       "    \n",
       "            <div style=\"max-width: 70ch; margin: 5px 0;\">\n",
       "                <span style=\"font-size: 12px; background: #eee; border-radius: 2px; padding: 2px 4px; line-height: 1; display: inline-block\">\n",
       "                    TLDR\n",
       "                </span>\n",
       "                <span style=\"font-size: 12px;\">A new language representation model, BERT, designed to pre-train deep bidirectional representations from unlabeled text by jointly conditioning on both left and right context in all layers, which can be fine-tuned with just one additional output layer to create state-of-the-art models for a wide range of tasks.</span>\n",
       "            </div>\n",
       "            <div style=\"font-size: 12px\">\n",
       "                <a href=\"https://semanticscholar.org/paper/df2b0e26d0599ce3e70df8a9da02e51594e0e992\">\n",
       "                    https://semanticscholar.org/paper/df2b0e26d0599ce3e70df8a9da02e51594e0e992\n",
       "                </a>\n",
       "            </div>\n",
       "        </div>\n",
       "    \n",
       "\n",
       "        <div style=\"margin: 15px 0;\">\n",
       "            <h4 style=\"margin: 0; font-weight: bold; font-size: 16px\">Gradient-based learning applied to document recognition</h4>\n",
       "            \n",
       "        <div style=\"margin: 5px 0;\">\n",
       "            1998\n",
       "        </div>\n",
       "        <div style=\"margin: 5px 0;\">\n",
       "            <em>Cited By: Yann LeCun (102), Yoshua Bengio (88), Ian J. Goodfellow (19), A. Karpathy (4)</em>\n",
       "        </div>        \n",
       "    \n",
       "            <div style=\"max-width: 70ch; margin: 5px 0;\">\n",
       "                <span style=\"font-size: 12px; background: #eee; border-radius: 2px; padding: 2px 4px; line-height: 1; display: inline-block\">\n",
       "                    TLDR\n",
       "                </span>\n",
       "                <span style=\"font-size: 12px;\">This paper reviews various methods applied to handwritten character recognition and compares them on a standard handwritten digit recognition task, and Convolutional neural networks are shown to outperform all other techniques.</span>\n",
       "            </div>\n",
       "            <div style=\"font-size: 12px\">\n",
       "                <a href=\"https://semanticscholar.org/paper/162d958ff885f1462aeda91cd72582323fd6a1f4\">\n",
       "                    https://semanticscholar.org/paper/162d958ff885f1462aeda91cd72582323fd6a1f4\n",
       "                </a>\n",
       "            </div>\n",
       "        </div>\n",
       "    \n",
       "\n",
       "        <div style=\"margin: 15px 0;\">\n",
       "            <h4 style=\"margin: 0; font-weight: bold; font-size: 16px\">Attention is All you Need</h4>\n",
       "            \n",
       "        <div style=\"margin: 5px 0;\">\n",
       "            2017\n",
       "        </div>\n",
       "        <div style=\"margin: 5px 0;\">\n",
       "            <em>Cited By: Yejin Choi (54), R. Socher (48), Hannaneh Hajishirzi (21)</em>\n",
       "        </div>        \n",
       "    \n",
       "            <div style=\"max-width: 70ch; margin: 5px 0;\">\n",
       "                <span style=\"font-size: 12px; background: #eee; border-radius: 2px; padding: 2px 4px; line-height: 1; display: inline-block\">\n",
       "                    TLDR\n",
       "                </span>\n",
       "                <span style=\"font-size: 12px;\">A new simple network architecture, the Transformer, based solely on attention mechanisms, dispensing with recurrence and convolutions entirely is proposed, which generalizes well to other tasks by applying it successfully to English constituency parsing both with large and limited training data.</span>\n",
       "            </div>\n",
       "            <div style=\"font-size: 12px\">\n",
       "                <a href=\"https://semanticscholar.org/paper/204e3073870fae3d05bcbc2f6a8e263d9b72e776\">\n",
       "                    https://semanticscholar.org/paper/204e3073870fae3d05bcbc2f6a8e263d9b72e776\n",
       "                </a>\n",
       "            </div>\n",
       "        </div>\n",
       "    \n",
       "\n",
       "        <div style=\"margin: 15px 0;\">\n",
       "            <h4 style=\"margin: 0; font-weight: bold; font-size: 16px\">Exploring the Limits of Transfer Learning with a Unified Text-to-Text Transformer</h4>\n",
       "            \n",
       "        <div style=\"margin: 5px 0;\">\n",
       "            2020\n",
       "        </div>\n",
       "        <div style=\"margin: 5px 0;\">\n",
       "            <em>Cited By: Yejin Choi (55), Hannaneh Hajishirzi (36), Peter Clark (20)</em>\n",
       "        </div>        \n",
       "    \n",
       "            <div style=\"max-width: 70ch; margin: 5px 0;\">\n",
       "                <span style=\"font-size: 12px; background: #eee; border-radius: 2px; padding: 2px 4px; line-height: 1; display: inline-block\">\n",
       "                    TLDR\n",
       "                </span>\n",
       "                <span style=\"font-size: 12px;\">This systematic study compares pre-training objectives, architectures, unlabeled datasets, transfer approaches, and other factors on dozens of language understanding tasks and achieves state-of-the-art results on many benchmarks covering summarization, question answering, text classification, and more.</span>\n",
       "            </div>\n",
       "            <div style=\"font-size: 12px\">\n",
       "                <a href=\"https://semanticscholar.org/paper/3cfb319689f06bf04c2e28399361f414ca32c4b3\">\n",
       "                    https://semanticscholar.org/paper/3cfb319689f06bf04c2e28399361f414ca32c4b3\n",
       "                </a>\n",
       "            </div>\n",
       "        </div>\n",
       "    \n",
       "\n",
       "        <div style=\"margin: 15px 0;\">\n",
       "            <h4 style=\"margin: 0; font-weight: bold; font-size: 16px\">Open Information Extraction from the Web</h4>\n",
       "            \n",
       "        <div style=\"margin: 5px 0;\">\n",
       "            2008\n",
       "        </div>\n",
       "        <div style=\"margin: 5px 0;\">\n",
       "            <em>Cited By: Oren Etzioni (49), Dan Weld (20), Peter Clark (13)</em>\n",
       "        </div>        \n",
       "    \n",
       "            <div style=\"max-width: 70ch; margin: 5px 0;\">\n",
       "                <span style=\"font-size: 12px; background: #eee; border-radius: 2px; padding: 2px 4px; line-height: 1; display: inline-block\">\n",
       "                    TLDR\n",
       "                </span>\n",
       "                <span style=\"font-size: 12px;\">Open IE (OIE), a new extraction paradigm where the system makes a single data-driven pass over its corpus and extracts a large set of relational tuples without requiring any human input, is introduced.</span>\n",
       "            </div>\n",
       "            <div style=\"font-size: 12px\">\n",
       "                <a href=\"https://semanticscholar.org/paper/498bb0efad6ec15dd09d941fb309aa18d6df9f5f\">\n",
       "                    https://semanticscholar.org/paper/498bb0efad6ec15dd09d941fb309aa18d6df9f5f\n",
       "                </a>\n",
       "            </div>\n",
       "        </div>\n",
       "    \n",
       "\n",
       "        <div style=\"margin: 15px 0;\">\n",
       "            <h4 style=\"margin: 0; font-weight: bold; font-size: 16px\">A Fast Learning Algorithm for Deep Belief Nets</h4>\n",
       "            \n",
       "        <div style=\"margin: 5px 0;\">\n",
       "            2006\n",
       "        </div>\n",
       "        <div style=\"margin: 5px 0;\">\n",
       "            <em>Cited By: Yoshua Bengio (113), Geoffrey E. Hinton (72), Ilya Sutskever (14)</em>\n",
       "        </div>        \n",
       "    \n",
       "            <div style=\"max-width: 70ch; margin: 5px 0;\">\n",
       "                <span style=\"font-size: 12px; background: #eee; border-radius: 2px; padding: 2px 4px; line-height: 1; display: inline-block\">\n",
       "                    TLDR\n",
       "                </span>\n",
       "                <span style=\"font-size: 12px;\">A fast, greedy algorithm is derived that can learn deep, directed belief networks one layer at a time, provided the top two layers form an undirected associative memory.</span>\n",
       "            </div>\n",
       "            <div style=\"font-size: 12px\">\n",
       "                <a href=\"https://semanticscholar.org/paper/8978cf7574ceb35f4c3096be768c7547b28a35d0\">\n",
       "                    https://semanticscholar.org/paper/8978cf7574ceb35f4c3096be768c7547b28a35d0\n",
       "                </a>\n",
       "            </div>\n",
       "        </div>\n",
       "    \n",
       "\n",
       "        <div style=\"margin: 15px 0;\">\n",
       "            <h4 style=\"margin: 0; font-weight: bold; font-size: 16px\">ImageNet: A large-scale hierarchical image database</h4>\n",
       "            \n",
       "        <div style=\"margin: 5px 0;\">\n",
       "            2009\n",
       "        </div>\n",
       "        <div style=\"margin: 5px 0;\">\n",
       "            <em>Cited By: Li Fei-Fei (71), Ani Kembhavi (18), A. Karpathy (6)</em>\n",
       "        </div>        \n",
       "    \n",
       "            <div style=\"max-width: 70ch; margin: 5px 0;\">\n",
       "                <span style=\"font-size: 12px; background: #eee; border-radius: 2px; padding: 2px 4px; line-height: 1; display: inline-block\">\n",
       "                    TLDR\n",
       "                </span>\n",
       "                <span style=\"font-size: 12px;\">A new database called “ImageNet” is introduced, a large-scale ontology of images built upon the backbone of the WordNet structure, much larger in scale and diversity and much more accurate than the current image datasets.</span>\n",
       "            </div>\n",
       "            <div style=\"font-size: 12px\">\n",
       "                <a href=\"https://semanticscholar.org/paper/d2c733e34d48784a37d717fe43d9e93277a8c53e\">\n",
       "                    https://semanticscholar.org/paper/d2c733e34d48784a37d717fe43d9e93277a8c53e\n",
       "                </a>\n",
       "            </div>\n",
       "        </div>\n",
       "    \n",
       "\n",
       "        <div style=\"margin: 15px 0;\">\n",
       "            <h4 style=\"margin: 0; font-weight: bold; font-size: 16px\">Neural Machine Translation by Jointly Learning to Align and Translate</h4>\n",
       "            \n",
       "        <div style=\"margin: 5px 0;\">\n",
       "            2015\n",
       "        </div>\n",
       "        <div style=\"margin: 5px 0;\">\n",
       "            <em>Cited By: Yoshua Bengio (89), R. Socher (36), Ilya Sutskever (19)</em>\n",
       "        </div>        \n",
       "    \n",
       "            <div style=\"max-width: 70ch; margin: 5px 0;\">\n",
       "                <span style=\"font-size: 12px; background: #eee; border-radius: 2px; padding: 2px 4px; line-height: 1; display: inline-block\">\n",
       "                    TLDR\n",
       "                </span>\n",
       "                <span style=\"font-size: 12px;\">It is conjecture that the use of a fixed-length vector is a bottleneck in improving the performance of this basic encoder-decoder architecture, and it is proposed to extend this by allowing a model to automatically (soft-)search for parts of a source sentence that are relevant to predicting a target word, without having to form these parts as a hard segment explicitly.</span>\n",
       "            </div>\n",
       "            <div style=\"font-size: 12px\">\n",
       "                <a href=\"https://semanticscholar.org/paper/fa72afa9b2cbc8f0d7b05d52548906610ffbb9c5\">\n",
       "                    https://semanticscholar.org/paper/fa72afa9b2cbc8f0d7b05d52548906610ffbb9c5\n",
       "                </a>\n",
       "            </div>\n",
       "        </div>\n",
       "    \n",
       "\n",
       "        <div style=\"margin: 15px 0;\">\n",
       "            <h4 style=\"margin: 0; font-weight: bold; font-size: 16px\">Learning representations by back-propagating errors</h4>\n",
       "            \n",
       "        <div style=\"margin: 5px 0;\">\n",
       "            1986\n",
       "        </div>\n",
       "        <div style=\"margin: 5px 0;\">\n",
       "            <em>Cited By: Geoffrey E. Hinton (42), Ilya Sutskever (15)</em>\n",
       "        </div>        \n",
       "    \n",
       "            <div style=\"max-width: 70ch; margin: 5px 0;\">\n",
       "                <span style=\"font-size: 12px; background: #eee; border-radius: 2px; padding: 2px 4px; line-height: 1; display: inline-block\">\n",
       "                    TLDR\n",
       "                </span>\n",
       "                <span style=\"font-size: 12px;\">Back-propagation repeatedly adjusts the weights of the connections in the network so as to minimize a measure of the difference between the actual output vector of the net and the desired output vector, which helps to represent important features of the task domain.</span>\n",
       "            </div>\n",
       "            <div style=\"font-size: 12px\">\n",
       "                <a href=\"https://semanticscholar.org/paper/052b1d8ce63b07fec3de9dbb583772d860b7c769\">\n",
       "                    https://semanticscholar.org/paper/052b1d8ce63b07fec3de9dbb583772d860b7c769\n",
       "                </a>\n",
       "            </div>\n",
       "        </div>\n",
       "    \n",
       "\n",
       "        <div style=\"margin: 15px 0;\">\n",
       "            <h4 style=\"margin: 0; font-weight: bold; font-size: 16px\">SQuAD: 100,000+ Questions for Machine Comprehension of Text</h4>\n",
       "            \n",
       "        <div style=\"margin: 5px 0;\">\n",
       "            2016\n",
       "        </div>\n",
       "        <div style=\"margin: 5px 0;\">\n",
       "            <em>Cited By: Hannaneh Hajishirzi (35), Peter Clark (19)</em>\n",
       "        </div>        \n",
       "    \n",
       "            <div style=\"max-width: 70ch; margin: 5px 0;\">\n",
       "                <span style=\"font-size: 12px; background: #eee; border-radius: 2px; padding: 2px 4px; line-height: 1; display: inline-block\">\n",
       "                    TLDR\n",
       "                </span>\n",
       "                <span style=\"font-size: 12px;\">A strong logistic regression model is built, which achieves an F1 score of 51.0%, a significant improvement over a simple baseline (20%).</span>\n",
       "            </div>\n",
       "            <div style=\"font-size: 12px\">\n",
       "                <a href=\"https://semanticscholar.org/paper/05dd7254b632376973f3a1b4d39485da17814df5\">\n",
       "                    https://semanticscholar.org/paper/05dd7254b632376973f3a1b4d39485da17814df5\n",
       "                </a>\n",
       "            </div>\n",
       "        </div>\n",
       "    \n",
       "\n",
       "        <div style=\"margin: 15px 0;\">\n",
       "            <h4 style=\"margin: 0; font-weight: bold; font-size: 16px\">RoBERTa: A Robustly Optimized BERT Pretraining Approach</h4>\n",
       "            \n",
       "        <div style=\"margin: 5px 0;\">\n",
       "            2019\n",
       "        </div>\n",
       "        <div style=\"margin: 5px 0;\">\n",
       "            <em>Cited By: Yejin Choi (45), Hannaneh Hajishirzi (28)</em>\n",
       "        </div>        \n",
       "    \n",
       "            <div style=\"max-width: 70ch; margin: 5px 0;\">\n",
       "                <span style=\"font-size: 12px; background: #eee; border-radius: 2px; padding: 2px 4px; line-height: 1; display: inline-block\">\n",
       "                    TLDR\n",
       "                </span>\n",
       "                <span style=\"font-size: 12px;\">It is found that BERT was significantly undertrained, and can match or exceed the performance of every model published after it, and the best model achieves state-of-the-art results on GLUE, RACE and SQuAD.</span>\n",
       "            </div>\n",
       "            <div style=\"font-size: 12px\">\n",
       "                <a href=\"https://semanticscholar.org/paper/077f8329a7b6fa3b7c877a57b81eb6c18b5f87de\">\n",
       "                    https://semanticscholar.org/paper/077f8329a7b6fa3b7c877a57b81eb6c18b5f87de\n",
       "                </a>\n",
       "            </div>\n",
       "        </div>\n",
       "    \n",
       "\n",
       "        <div style=\"margin: 15px 0;\">\n",
       "            <h4 style=\"margin: 0; font-weight: bold; font-size: 16px\">Reducing the Dimensionality of Data with Neural Networks</h4>\n",
       "            \n",
       "        <div style=\"margin: 5px 0;\">\n",
       "            2006\n",
       "        </div>\n",
       "        <div style=\"margin: 5px 0;\">\n",
       "            <em>Cited By: Geoffrey E. Hinton (61), Ilya Sutskever (16)</em>\n",
       "        </div>        \n",
       "    \n",
       "            <div style=\"max-width: 70ch; margin: 5px 0;\">\n",
       "                <span style=\"font-size: 12px; background: #eee; border-radius: 2px; padding: 2px 4px; line-height: 1; display: inline-block\">\n",
       "                    TLDR\n",
       "                </span>\n",
       "                <span style=\"font-size: 12px;\">This work describes an effective way of initializing the weights that allows deep autoencoder networks to learn low-dimensional codes that work much better than principal components analysis as a tool to reduce the dimensionality of data.</span>\n",
       "            </div>\n",
       "            <div style=\"font-size: 12px\">\n",
       "                <a href=\"https://semanticscholar.org/paper/46eb79e5eec8a4e2b2f5652b66441e8a4c921c3e\">\n",
       "                    https://semanticscholar.org/paper/46eb79e5eec8a4e2b2f5652b66441e8a4c921c3e\n",
       "                </a>\n",
       "            </div>\n",
       "        </div>\n",
       "    \n",
       "\n",
       "        <div style=\"margin: 15px 0;\">\n",
       "            <h4 style=\"margin: 0; font-weight: bold; font-size: 16px\">Language Models are Few-Shot Learners</h4>\n",
       "            \n",
       "        <div style=\"margin: 5px 0;\">\n",
       "            2020\n",
       "        </div>\n",
       "        <div style=\"margin: 5px 0;\">\n",
       "            <em>Cited By: Yejin Choi (47), Hannaneh Hajishirzi (23)</em>\n",
       "        </div>        \n",
       "    \n",
       "            <div style=\"max-width: 70ch; margin: 5px 0;\">\n",
       "                <span style=\"font-size: 12px; background: #eee; border-radius: 2px; padding: 2px 4px; line-height: 1; display: inline-block\">\n",
       "                    TLDR\n",
       "                </span>\n",
       "                <span style=\"font-size: 12px;\">GPT-3 achieves strong performance on many NLP datasets, including translation, question-answering, and cloze tasks, as well as several tasks that require on-the-fly reasoning or domain adaptation, such as unscrambling words, using a novel word in a sentence, or performing 3-digit arithmetic.</span>\n",
       "            </div>\n",
       "            <div style=\"font-size: 12px\">\n",
       "                <a href=\"https://semanticscholar.org/paper/6b85b63579a916f705a8e10a49bd8d849d91b1fc\">\n",
       "                    https://semanticscholar.org/paper/6b85b63579a916f705a8e10a49bd8d849d91b1fc\n",
       "                </a>\n",
       "            </div>\n",
       "        </div>\n",
       "    \n",
       "\n",
       "        <div style=\"margin: 15px 0;\">\n",
       "            <h4 style=\"margin: 0; font-weight: bold; font-size: 16px\">Microsoft COCO: Common Objects in Context</h4>\n",
       "            \n",
       "        <div style=\"margin: 5px 0;\">\n",
       "            2014\n",
       "        </div>\n",
       "        <div style=\"margin: 5px 0;\">\n",
       "            <em>Cited By: Li Fei-Fei (36), Ani Kembhavi (18)</em>\n",
       "        </div>        \n",
       "    \n",
       "            <div style=\"max-width: 70ch; margin: 5px 0;\">\n",
       "                <span style=\"font-size: 12px; background: #eee; border-radius: 2px; padding: 2px 4px; line-height: 1; display: inline-block\">\n",
       "                    TLDR\n",
       "                </span>\n",
       "                <span style=\"font-size: 12px;\">A new dataset with the goal of advancing the state-of-the-art in object recognition by placing the question of object recognition in the context of the broader question of scene understanding by gathering images of complex everyday scenes containing common objects in their natural context.</span>\n",
       "            </div>\n",
       "            <div style=\"font-size: 12px\">\n",
       "                <a href=\"https://semanticscholar.org/paper/71b7178df5d2b112d07e45038cb5637208659ff7\">\n",
       "                    https://semanticscholar.org/paper/71b7178df5d2b112d07e45038cb5637208659ff7\n",
       "                </a>\n",
       "            </div>\n",
       "        </div>\n",
       "    \n",
       "\n",
       "        <div style=\"margin: 15px 0;\">\n",
       "            <h4 style=\"margin: 0; font-weight: bold; font-size: 16px\">Planning for Conjunctive Goals</h4>\n",
       "            \n",
       "        <div style=\"margin: 5px 0;\">\n",
       "            1987\n",
       "        </div>\n",
       "        <div style=\"margin: 5px 0;\">\n",
       "            <em>Cited By: Dan Weld (26), Oren Etzioni (18)</em>\n",
       "        </div>        \n",
       "    \n",
       "            <div style=\"max-width: 70ch; margin: 5px 0;\">\n",
       "                <span style=\"font-size: 12px; background: #eee; border-radius: 2px; padding: 2px 4px; line-height: 1; display: inline-block\">\n",
       "                    TLDR\n",
       "                </span>\n",
       "                <span style=\"font-size: 12px;\">Theorems that suggest that efficient general purpose planning with more expressive action representations is impossible are presented, and ways to avoid this problem are suggested.</span>\n",
       "            </div>\n",
       "            <div style=\"font-size: 12px\">\n",
       "                <a href=\"https://semanticscholar.org/paper/798ca0dec14448ef0cff5a0264613effa988fc83\">\n",
       "                    https://semanticscholar.org/paper/798ca0dec14448ef0cff5a0264613effa988fc83\n",
       "                </a>\n",
       "            </div>\n",
       "        </div>\n",
       "    \n",
       "\n",
       "        <div style=\"margin: 15px 0;\">\n",
       "            <h4 style=\"margin: 0; font-weight: bold; font-size: 16px\">Language Models are Unsupervised Multitask Learners</h4>\n",
       "            \n",
       "        <div style=\"margin: 5px 0;\">\n",
       "            2019\n",
       "        </div>\n",
       "        <div style=\"margin: 5px 0;\">\n",
       "            <em>Cited By: Yejin Choi (94), Hannaneh Hajishirzi (21)</em>\n",
       "        </div>        \n",
       "    \n",
       "            <div style=\"max-width: 70ch; margin: 5px 0;\">\n",
       "                <span style=\"font-size: 12px; background: #eee; border-radius: 2px; padding: 2px 4px; line-height: 1; display: inline-block\">\n",
       "                    TLDR\n",
       "                </span>\n",
       "                <span style=\"font-size: 12px;\">It is demonstrated that language models begin to learn these tasks without any explicit supervision when trained on a new dataset of millions of webpages called WebText, suggesting a promising path towards building language processing systems which learn to perform tasks from their naturally occurring demonstrations.</span>\n",
       "            </div>\n",
       "            <div style=\"font-size: 12px\">\n",
       "                <a href=\"https://semanticscholar.org/paper/9405cc0d6169988371b2755e573cc28650d14dfe\">\n",
       "                    https://semanticscholar.org/paper/9405cc0d6169988371b2755e573cc28650d14dfe\n",
       "                </a>\n",
       "            </div>\n",
       "        </div>\n",
       "    \n",
       "\n",
       "        <div style=\"margin: 15px 0;\">\n",
       "            <h4 style=\"margin: 0; font-weight: bold; font-size: 16px\">An Approach to Planning with Incomplete Information</h4>\n",
       "            \n",
       "        <div style=\"margin: 5px 0;\">\n",
       "            1992\n",
       "        </div>\n",
       "        <div style=\"margin: 5px 0;\">\n",
       "            <em>Cited By: Dan Weld (26), Oren Etzioni (20)</em>\n",
       "        </div>        \n",
       "    \n",
       "            <div style=\"max-width: 70ch; margin: 5px 0;\">\n",
       "                <span style=\"font-size: 12px; background: #eee; border-radius: 2px; padding: 2px 4px; line-height: 1; display: inline-block\">\n",
       "                    TLDR\n",
       "                </span>\n",
       "                <span style=\"font-size: 12px;\"></span>\n",
       "            </div>\n",
       "            <div style=\"font-size: 12px\">\n",
       "                <a href=\"https://semanticscholar.org/paper/c1874edc6b90125d609f3f2da678e6b7dd7c1820\">\n",
       "                    https://semanticscholar.org/paper/c1874edc6b90125d609f3f2da678e6b7dd7c1820\n",
       "                </a>\n",
       "            </div>\n",
       "        </div>\n",
       "    \n",
       "\n",
       "        <div style=\"margin: 15px 0;\">\n",
       "            <h4 style=\"margin: 0; font-weight: bold; font-size: 16px\">Sequence to Sequence Learning with Neural Networks</h4>\n",
       "            \n",
       "        <div style=\"margin: 5px 0;\">\n",
       "            2014\n",
       "        </div>\n",
       "        <div style=\"margin: 5px 0;\">\n",
       "            <em>Cited By: R. Socher (26), Ilya Sutskever (22)</em>\n",
       "        </div>        \n",
       "    \n",
       "            <div style=\"max-width: 70ch; margin: 5px 0;\">\n",
       "                <span style=\"font-size: 12px; background: #eee; border-radius: 2px; padding: 2px 4px; line-height: 1; display: inline-block\">\n",
       "                    TLDR\n",
       "                </span>\n",
       "                <span style=\"font-size: 12px;\">This paper presents a general end-to-end approach to sequence learning that makes minimal assumptions on the sequence structure, and finds that reversing the order of the words in all source sentences improved the LSTM's performance markedly, because doing so introduced many short term dependencies between the source and the target sentence which made the optimization problem easier.</span>\n",
       "            </div>\n",
       "            <div style=\"font-size: 12px\">\n",
       "                <a href=\"https://semanticscholar.org/paper/cea967b59209c6be22829699f05b8b1ac4dc092d\">\n",
       "                    https://semanticscholar.org/paper/cea967b59209c6be22829699f05b8b1ac4dc092d\n",
       "                </a>\n",
       "            </div>\n",
       "        </div>\n",
       "    \n",
       "\n",
       "        <div style=\"margin: 15px 0;\">\n",
       "            <h4 style=\"margin: 0; font-weight: bold; font-size: 16px\">Bleu: a Method for Automatic Evaluation of Machine Translation</h4>\n",
       "            \n",
       "        <div style=\"margin: 5px 0;\">\n",
       "            2002\n",
       "        </div>\n",
       "        <div style=\"margin: 5px 0;\">\n",
       "            <em>Cited By: Yejin Choi (59), Noah Smith (39)</em>\n",
       "        </div>        \n",
       "    \n",
       "            <div style=\"max-width: 70ch; margin: 5px 0;\">\n",
       "                <span style=\"font-size: 12px; background: #eee; border-radius: 2px; padding: 2px 4px; line-height: 1; display: inline-block\">\n",
       "                    TLDR\n",
       "                </span>\n",
       "                <span style=\"font-size: 12px;\">This work proposes a method of automatic machine translation evaluation that is quick, inexpensive, and language-independent, that correlates highly with human evaluation, and that has little marginal cost per run.</span>\n",
       "            </div>\n",
       "            <div style=\"font-size: 12px\">\n",
       "                <a href=\"https://semanticscholar.org/paper/d7da009f457917aa381619facfa5ffae9329a6e9\">\n",
       "                    https://semanticscholar.org/paper/d7da009f457917aa381619facfa5ffae9329a6e9\n",
       "                </a>\n",
       "            </div>\n",
       "        </div>\n",
       "    \n",
       "\n",
       "        <div style=\"margin: 15px 0;\">\n",
       "            <h4 style=\"margin: 0; font-weight: bold; font-size: 16px\">GloVe: Global Vectors for Word Representation</h4>\n",
       "            \n",
       "        <div style=\"margin: 5px 0;\">\n",
       "            2014\n",
       "        </div>\n",
       "        <div style=\"margin: 5px 0;\">\n",
       "            <em>Cited By: R. Socher (39), Noah Smith (30)</em>\n",
       "        </div>        \n",
       "    \n",
       "            <div style=\"max-width: 70ch; margin: 5px 0;\">\n",
       "                <span style=\"font-size: 12px; background: #eee; border-radius: 2px; padding: 2px 4px; line-height: 1; display: inline-block\">\n",
       "                    TLDR\n",
       "                </span>\n",
       "                <span style=\"font-size: 12px;\">A new global logbilinear regression model that combines the advantages of the two major model families in the literature: global matrix factorization and local context window methods and produces a vector space with meaningful substructure.</span>\n",
       "            </div>\n",
       "            <div style=\"font-size: 12px\">\n",
       "                <a href=\"https://semanticscholar.org/paper/f37e1b62a767a307c046404ca96bc140b3e68cb5\">\n",
       "                    https://semanticscholar.org/paper/f37e1b62a767a307c046404ca96bc140b3e68cb5\n",
       "                </a>\n",
       "            </div>\n",
       "        </div>\n",
       "    </div>"
      ],
      "text/plain": [
       "<IPython.core.display.HTML object>"
      ]
     },
     "metadata": {},
     "output_type": "display_data"
    }
   ],
   "source": [
    "def common_paper_meta_html(p) -> str:\n",
    "    cited_by = []\n",
    "    for a in p[\"cited_by\"]:\n",
    "        cited_by.append(f\"{a['name']} ({a['n_citations']})\")\n",
    "    cited_by_list = \", \".join(cited_by)\n",
    "    return f\"\"\"\n",
    "        <div style=\"margin: 5px 0;\">\n",
    "            {p[\"year\"]}\n",
    "        </div>\n",
    "        <div style=\"margin: 5px 0;\">\n",
    "            <em>Cited By: {cited_by_list}</em>\n",
    "        </div>        \n",
    "    \"\"\"\n",
    "\n",
    "common = []\n",
    "for sha, group in pd.DataFrame(papers).groupby(\"sha\"):\n",
    "    if len(group) == 1:\n",
    "        continue\n",
    "    by_name = {}\n",
    "    paper = None\n",
    "    for _, p in group.iterrows():\n",
    "        paper = p\n",
    "        for n in p[\"names\"]:\n",
    "            if n not in by_name:\n",
    "                by_name[n] = { \"name\": n, \"n_citations\": 0 }\n",
    "            by_name[n][\"n_citations\"] += p[\"n_citations\"]\n",
    "    cited_by = sorted(by_name.values(), key=lambda a: a[\"n_citations\"], reverse=True)\n",
    "    paper[\"cited_by\"] = cited_by\n",
    "    common.append(paper)    \n",
    "    \n",
    "common.sort(key=lambda p : len(p[\"cited_by\"]), reverse=True)\n",
    "list_html = \"\\n\".join([ paper_html(p, common_paper_meta_html) for p in common ])\n",
    "display(HTML(f\"<div style='padding: 15px 0;'>{list_html}</div>\"))"
   ]
  },
  {
   "cell_type": "markdown",
   "id": "c21e16cc",
   "metadata": {},
   "source": [
    "This list looks more interesting to us. There's a lot of really important work captured there. Just look at all of the folks citing the \"Adam\" paper -- and from a set of authors with different specialties. Neat!\n",
    "\n",
    "It'd be interesting next to assess how many of these were cited by Ilya, as a proxy for how comprehensive his list is. Let's figure that out:\n"
   ]
  },
  {
   "cell_type": "code",
   "execution_count": 41,
   "id": "9a4fe647",
   "metadata": {},
   "outputs": [
    {
     "data": {
      "text/html": [
       "<p><table class=\"dataframe\">\n",
       "  <thead>\n",
       "    <tr style=\"text-align: right;\">\n",
       "      <th style = \"background-color: #305496;font-family: Century Gothic, sans-serif;font-size: medium;color: #FFFFFF;text-align: left;border-bottom: 2px solid #305496;padding: 0px 20px 0px 0px;width: auto\">name</th>\n",
       "      <th style = \"background-color: #305496;font-family: Century Gothic, sans-serif;font-size: medium;color: #FFFFFF;text-align: left;border-bottom: 2px solid #305496;padding: 0px 20px 0px 0px;width: auto\">count</th>\n",
       "      <th style = \"background-color: #305496;font-family: Century Gothic, sans-serif;font-size: medium;color: #FFFFFF;text-align: left;border-bottom: 2px solid #305496;padding: 0px 20px 0px 0px;width: auto\">percent</th>\n",
       "    </tr>\n",
       "  </thead>\n",
       "  <tbody>\n",
       "    <tr>\n",
       "      <td style = \"background-color: #D9E1F2;font-family: Century Gothic, sans-serif;font-size: medium;text-align: left;padding: 0px 20px 0px 0px;width: auto\">Hannaneh Hajishirzi</td>\n",
       "      <td style = \"background-color: #D9E1F2;font-family: Century Gothic, sans-serif;font-size: medium;text-align: left;padding: 0px 20px 0px 0px;width: auto\">5</td>\n",
       "      <td style = \"background-color: #D9E1F2;font-family: Century Gothic, sans-serif;font-size: medium;text-align: left;padding: 0px 20px 0px 0px;width: auto\">21%</td>\n",
       "    </tr>\n",
       "    <tr>\n",
       "      <td style = \"background-color: white; color: black;font-family: Century Gothic, sans-serif;font-size: medium;text-align: left;padding: 0px 20px 0px 0px;width: auto\">R. Socher</td>\n",
       "      <td style = \"background-color: white; color: black;font-family: Century Gothic, sans-serif;font-size: medium;text-align: left;padding: 0px 20px 0px 0px;width: auto\">4</td>\n",
       "      <td style = \"background-color: white; color: black;font-family: Century Gothic, sans-serif;font-size: medium;text-align: left;padding: 0px 20px 0px 0px;width: auto\">17%</td>\n",
       "    </tr>\n",
       "    <tr>\n",
       "      <td style = \"background-color: #D9E1F2;font-family: Century Gothic, sans-serif;font-size: medium;text-align: left;padding: 0px 20px 0px 0px;width: auto\">Yoshua Bengio</td>\n",
       "      <td style = \"background-color: #D9E1F2;font-family: Century Gothic, sans-serif;font-size: medium;text-align: left;padding: 0px 20px 0px 0px;width: auto\">3</td>\n",
       "      <td style = \"background-color: #D9E1F2;font-family: Century Gothic, sans-serif;font-size: medium;text-align: left;padding: 0px 20px 0px 0px;width: auto\">12%</td>\n",
       "    </tr>\n",
       "    <tr>\n",
       "      <td style = \"background-color: white; color: black;font-family: Century Gothic, sans-serif;font-size: medium;text-align: left;padding: 0px 20px 0px 0px;width: auto\">Yann LeCun</td>\n",
       "      <td style = \"background-color: white; color: black;font-family: Century Gothic, sans-serif;font-size: medium;text-align: left;padding: 0px 20px 0px 0px;width: auto\">3</td>\n",
       "      <td style = \"background-color: white; color: black;font-family: Century Gothic, sans-serif;font-size: medium;text-align: left;padding: 0px 20px 0px 0px;width: auto\">12%</td>\n",
       "    </tr>\n",
       "    <tr>\n",
       "      <td style = \"background-color: #D9E1F2;font-family: Century Gothic, sans-serif;font-size: medium;text-align: left;padding: 0px 20px 0px 0px;width: auto\">Oren Etzioni</td>\n",
       "      <td style = \"background-color: #D9E1F2;font-family: Century Gothic, sans-serif;font-size: medium;text-align: left;padding: 0px 20px 0px 0px;width: auto\">3</td>\n",
       "      <td style = \"background-color: #D9E1F2;font-family: Century Gothic, sans-serif;font-size: medium;text-align: left;padding: 0px 20px 0px 0px;width: auto\">12%</td>\n",
       "    </tr>\n",
       "    <tr>\n",
       "      <td style = \"background-color: white; color: black;font-family: Century Gothic, sans-serif;font-size: medium;text-align: left;padding: 0px 20px 0px 0px;width: auto\">Geoffrey E. Hinton</td>\n",
       "      <td style = \"background-color: white; color: black;font-family: Century Gothic, sans-serif;font-size: medium;text-align: left;padding: 0px 20px 0px 0px;width: auto\">2</td>\n",
       "      <td style = \"background-color: white; color: black;font-family: Century Gothic, sans-serif;font-size: medium;text-align: left;padding: 0px 20px 0px 0px;width: auto\">8%</td>\n",
       "    </tr>\n",
       "    <tr>\n",
       "      <td style = \"background-color: #D9E1F2;font-family: Century Gothic, sans-serif;font-size: medium;text-align: left;padding: 0px 20px 0px 0px;width: auto\">Li Fei-Fei</td>\n",
       "      <td style = \"background-color: #D9E1F2;font-family: Century Gothic, sans-serif;font-size: medium;text-align: left;padding: 0px 20px 0px 0px;width: auto\">1</td>\n",
       "      <td style = \"background-color: #D9E1F2;font-family: Century Gothic, sans-serif;font-size: medium;text-align: left;padding: 0px 20px 0px 0px;width: auto\">4%</td>\n",
       "    </tr>\n",
       "    <tr>\n",
       "      <td style = \"background-color: white; color: black;font-family: Century Gothic, sans-serif;font-size: medium;text-align: left;padding: 0px 20px 0px 0px;width: auto\">Ian J. Goodfellow</td>\n",
       "      <td style = \"background-color: white; color: black;font-family: Century Gothic, sans-serif;font-size: medium;text-align: left;padding: 0px 20px 0px 0px;width: auto\">1</td>\n",
       "      <td style = \"background-color: white; color: black;font-family: Century Gothic, sans-serif;font-size: medium;text-align: left;padding: 0px 20px 0px 0px;width: auto\">4%</td>\n",
       "    </tr>\n",
       "    <tr>\n",
       "      <td style = \"background-color: #D9E1F2;font-family: Century Gothic, sans-serif;font-size: medium;text-align: left;padding: 0px 20px 0px 0px;width: auto\">Noah Smith</td>\n",
       "      <td style = \"background-color: #D9E1F2;font-family: Century Gothic, sans-serif;font-size: medium;text-align: left;padding: 0px 20px 0px 0px;width: auto\">1</td>\n",
       "      <td style = \"background-color: #D9E1F2;font-family: Century Gothic, sans-serif;font-size: medium;text-align: left;padding: 0px 20px 0px 0px;width: auto\">4%</td>\n",
       "    </tr>\n",
       "    <tr>\n",
       "      <td style = \"background-color: white; color: black;font-family: Century Gothic, sans-serif;font-size: medium;text-align: left;padding: 0px 20px 0px 0px;width: auto\">A. Karpathy</td>\n",
       "      <td style = \"background-color: white; color: black;font-family: Century Gothic, sans-serif;font-size: medium;text-align: left;padding: 0px 20px 0px 0px;width: auto\">1</td>\n",
       "      <td style = \"background-color: white; color: black;font-family: Century Gothic, sans-serif;font-size: medium;text-align: left;padding: 0px 20px 0px 0px;width: auto\">4%</td>\n",
       "    </tr>\n",
       "  </tbody>\n",
       "</table></p>"
      ],
      "text/plain": [
       "<IPython.core.display.HTML object>"
      ]
     },
     "metadata": {},
     "output_type": "display_data"
    }
   ],
   "source": [
    "total = len(common)\n",
    "\n",
    "author_names = set()\n",
    "for p in common:\n",
    "    for n in p[\"names\"]:\n",
    "        author_names.add(n)\n",
    "\n",
    "overlap = []\n",
    "for a in list(author_names):\n",
    "    count = len([p for p in common if a in p[\"names\"]])\n",
    "    overlap.append({ \"name\": a, \"count\": count, \"percent\": f\"{count/total:.0%}\" })\n",
    "    \n",
    "overlap.sort(key=lambda o : o[\"count\"], reverse=True)\n",
    "\n",
    "display(HTML(build_table(pd.DataFrame(overlap), 'blue_dark', escape=False)))\n"
   ]
  },
  {
   "cell_type": "markdown",
   "id": "bcfb4eeb",
   "metadata": {},
   "source": [
    "Interesting. This does suggest Ilya's most cited papers overlap a fair amount with the other researchers in our list. Though the list in isolation also misses a lot. Clearly we're all better, together. Go open science :)"
   ]
  },
  {
   "cell_type": "markdown",
   "id": "bb068d7d",
   "metadata": {},
   "source": [
    "### Step 4: Similarity Analysis\n",
    "\n",
    "We thought it'd be fun to go a step further and use the [SPECTER embeddings](https://github.com/allenai/specter) to visualize the lists of each of these offers. That'd give us some idea of how \"similar\" the things are that they're citing.\n",
    "\n",
    "Let's do that next."
   ]
  },
  {
   "cell_type": "code",
   "execution_count": 42,
   "id": "9370b4ae",
   "metadata": {},
   "outputs": [],
   "source": [
    "from sklearn.manifold import TSNE\n",
    "\n",
    "import plotly.express as px\n",
    "import numpy as np"
   ]
  },
  {
   "cell_type": "code",
   "execution_count": 43,
   "id": "d0e3587a",
   "metadata": {},
   "outputs": [
    {
     "name": "stderr",
     "output_type": "stream",
     "text": [
      "100%|███████████████████████████████████████████████████████████████████████████████████████████████████████████████████████████████████████████████████████████| 160/160 [00:00<00:00, 376804.40it/s]\n",
      "110it [00:00, 448806.85it/s]\n"
     ]
    }
   ],
   "source": [
    "unique_papers = dict()\n",
    "for p in tqdm(papers):\n",
    "    if p[\"sha\"] not in unique_papers:\n",
    "        unique_papers[p[\"sha\"]]=p\n",
    "    else:\n",
    "        unique_papers[p[\"sha\"]][\"names\"]+=p[\"names\"]\n",
    "\n",
    "author_paper_idx = dict()\n",
    "for i, p in tqdm(enumerate(unique_papers)):\n",
    "    for aname in unique_papers[p][\"names\"]:\n",
    "        if aname not in author_paper_idx:\n",
    "            author_paper_idx[aname] = []\n",
    "        author_paper_idx[aname].append((unique_papers[p][\"sha\"], i))"
   ]
  },
  {
   "cell_type": "code",
   "execution_count": 44,
   "id": "eb929fc3",
   "metadata": {},
   "outputs": [],
   "source": [
    "unique_paper_embs = np.array([unique_papers[p][\"embedding\"] for p in unique_papers])\n",
    "\n",
    "reduced_embs = TSNE(\n",
    "    n_components=2,\n",
    "    perplexity=10,\n",
    "    init=\"pca\",\n",
    "    n_iter=400,\n",
    "    early_exaggeration=20,\n",
    "    random_state=0,\n",
    ").fit_transform(unique_paper_embs)"
   ]
  },
  {
   "cell_type": "code",
   "execution_count": 45,
   "id": "a4adf169",
   "metadata": {},
   "outputs": [],
   "source": [
    "reduced_comps = []\n",
    "for aname, ids in author_paper_idx.items():\n",
    "    for idx in ids:\n",
    "        reduced_comps.append({\"Dim 1\": reduced_embs[idx[1]][0], \"Dim 2\": reduced_embs[idx[1]][1], \n",
    "                              \"Title\": unique_papers[idx[0]][\"title\"], \"Citations\": unique_papers[idx[0]][\"n_citations\"],\n",
    "                              \"Cited By\": aname})\n",
    "reduced_df = pd.DataFrame(reduced_comps)"
   ]
  },
  {
   "cell_type": "code",
   "execution_count": 68,
   "id": "8477fc0e",
   "metadata": {},
   "outputs": [],
   "source": [
    "#static plot \n",
    "import plotly.io as pio\n",
    "png_renderer = pio.renderers[\"png\"]\n",
    "png_renderer.width = 1000\n",
    "png_renderer.height = 600"
   ]
  },
  {
   "cell_type": "code",
   "execution_count": 69,
   "id": "500dc7e9",
   "metadata": {},
   "outputs": [
    {
     "data": {
      "image/png": "[encoded data removed]"
     },
     "metadata": {},
     "output_type": "display_data"
    },
    {
     "data": {
      "application/vnd.plotly.v1+json": {
       "config": {
        "plotlyServerURL": "https://plot.ly"
       },
       "data": [
        {
         "customdata": [
          [
           "UCPOP: A Sound, Complete, Partial Order Planner for ADL"
          ],
          [
           "Systematic Nonlinear Planning"
          ],
          [
           "Planning for Conjunctive Goals"
          ],
          [
           "An Approach to Planning with Incomplete Information"
          ],
          [
           "Labeled RTDP: Improving the Convergence of Real-Time Dynamic Programming"
          ],
          [
           "Fast Planning Through Planning Graph Analysis"
          ],
          [
           "Learning to Act Using Real-Time Dynamic Programming"
          ],
          [
           "ADL: Exploring the Middle Ground Between STRIPS and the Situation Calculus"
          ],
          [
           "Open Information Extraction from the Web"
          ],
          [
           "Conditional nonlinear planning"
          ]
         ],
         "hovertemplate": "Cited By=Dan Weld<br>Component 1=%{x}<br>Component 2=%{y}<br>Citations=%{marker.size}<br>Title=%{customdata[0]}<extra></extra>",
         "legendgroup": "Dan Weld",
         "marker": {
          "color": "#636efa",
          "size": [
           33,
           29,
           26,
           26,
           24,
           23,
           20,
           20,
           20,
           19
          ],
          "sizemode": "area",
          "sizeref": 0.43555555555555553,
          "symbol": "circle"
         },
         "mode": "markers",
         "name": "Dan Weld",
         "orientation": "v",
         "showlegend": true,
         "type": "scatter",
         "x": [
          17.004098892211914,
          18.122066497802734,
          17.146711349487305,
          19.50181007385254,
          14.539294242858887,
          17.278024673461914,
          14.061059951782227,
          20.09412384033203,
          10.982065200805664,
          17.93812370300293
         ],
         "xaxis": "x",
         "y": [
          5.999173641204834,
          6.9143757820129395,
          6.896792888641357,
          12.735438346862793,
          8.585344314575195,
          7.871566295623779,
          9.110715866088867,
          12.015243530273438,
          -12.348390579223633,
          5.200622081756592
         ],
         "yaxis": "y"
        },
        {
         "customdata": [
          [
           "Planning for Conjunctive Goals"
          ],
          [
           "An Approach to Planning with Incomplete Information"
          ],
          [
           "Open Information Extraction from the Web"
          ],
          [
           "Unsupervised named-entity extraction from the Web: An experimental study"
          ],
          [
           "Snowball: extracting relations from large plain-text collections"
          ],
          [
           "A Probabilistic Model of Redundancy in Information Extraction"
          ],
          [
           "Automatic Acquisition of Hyponyms from Large Text Corpora"
          ],
          [
           "A softbot-based interface to the Internet"
          ],
          [
           "Extracting Patterns and Relations from the World Wide Web"
          ],
          [
           "The Tradeoffs Between Open and Traditional Relation Extraction"
          ]
         ],
         "hovertemplate": "Cited By=Oren Etzioni<br>Component 1=%{x}<br>Component 2=%{y}<br>Citations=%{marker.size}<br>Title=%{customdata[0]}<extra></extra>",
         "legendgroup": "Oren Etzioni",
         "marker": {
          "color": "#EF553B",
          "size": [
           26,
           26,
           20,
           40,
           28,
           25,
           23,
           22,
           21,
           20
          ],
          "sizemode": "area",
          "sizeref": 0.43555555555555553,
          "symbol": "diamond"
         },
         "mode": "markers",
         "name": "Oren Etzioni",
         "orientation": "v",
         "showlegend": true,
         "type": "scatter",
         "x": [
          17.146711349487305,
          19.50181007385254,
          10.982065200805664,
          11.937886238098145,
          10.556711196899414,
          12.360626220703125,
          8.925942420959473,
          11.041168212890625,
          11.04444408416748,
          10.447846412658691
         ],
         "xaxis": "x",
         "y": [
          6.896792888641357,
          12.735438346862793,
          -12.348390579223633,
          -12.443106651306152,
          -10.982871055603027,
          -11.24342155456543,
          -12.683985710144043,
          6.752752304077148,
          -14.195491790771484,
          -12.766595840454102
         ],
         "yaxis": "y"
        },
        {
         "customdata": [
          [
           "Open Information Extraction from the Web"
          ],
          [
           "BERT: Pre-training of Deep Bidirectional Transformers for Language Understanding"
          ],
          [
           "Exploring the Limits of Transfer Learning with a Unified Text-to-Text Transformer"
          ],
          [
           "SQuAD: 100,000+ Questions for Machine Comprehension of Text"
          ],
          [
           "WordNet : an electronic lexical database"
          ],
          [
           "Combining Retrieval, Statistics, and Inference to Answer Elementary Science Questions"
          ],
          [
           "Think you have Solved Question Answering? Try ARC, the AI2 Reasoning Challenge"
          ],
          [
           "Discovery of inference rules for question-answering"
          ],
          [
           "Building Concept Representations from Reusable Components"
          ],
          [
           "Towards AI-Complete Question Answering: A Set of Prerequisite Toy Tasks"
          ]
         ],
         "hovertemplate": "Cited By=Peter Clark<br>Component 1=%{x}<br>Component 2=%{y}<br>Citations=%{marker.size}<br>Title=%{customdata[0]}<extra></extra>",
         "legendgroup": "Peter Clark",
         "marker": {
          "color": "#00cc96",
          "size": [
           20,
           79,
           55,
           19,
           17,
           16,
           14,
           14,
           13,
           13
          ],
          "sizemode": "area",
          "sizeref": 0.43555555555555553,
          "symbol": "square"
         },
         "mode": "markers",
         "name": "Peter Clark",
         "orientation": "v",
         "showlegend": true,
         "type": "scatter",
         "x": [
          10.982065200805664,
          -0.2992865741252899,
          1.6984273195266724,
          3.991300582885742,
          7.7395806312561035,
          7.477387428283691,
          5.973085880279541,
          6.475449562072754,
          9.493673324584961,
          6.656695365905762
         ],
         "xaxis": "x",
         "y": [
          -12.348390579223633,
          -3.938654899597168,
          -6.809671401977539,
          -16.51055908203125,
          -11.9749116897583,
          -18.006540298461914,
          -18.479618072509766,
          -16.265888214111328,
          -18.717330932617188,
          -18.90131950378418
         ],
         "yaxis": "y"
        },
        {
         "customdata": [
          [
           "AI2-THOR: An Interactive 3D Environment for Visual AI"
          ],
          [
           "Deep Residual Learning for Image Recognition"
          ],
          [
           "Microsoft COCO: Common Objects in Context"
          ],
          [
           "ImageNet: A large-scale hierarchical image database"
          ],
          [
           "Habitat: A Platform for Embodied AI Research"
          ],
          [
           "On Evaluation of Embodied Navigation Agents"
          ],
          [
           "Adam: A Method for Stochastic Optimization"
          ],
          [
           "IQA: Visual Question Answering in Interactive Environments"
          ],
          [
           "AllenAct: A Framework for Embodied AI Research"
          ],
          [
           "DD-PPO: Learning Near-Perfect PointGoal Navigators from 2.5 Billion Frames"
          ]
         ],
         "hovertemplate": "Cited By=Ani Kembhavi<br>Component 1=%{x}<br>Component 2=%{y}<br>Citations=%{marker.size}<br>Title=%{customdata[0]}<extra></extra>",
         "legendgroup": "Ani Kembhavi",
         "marker": {
          "color": "#ab63fa",
          "size": [
           24,
           19,
           18,
           18,
           18,
           17,
           16,
           16,
           16,
           15
          ],
          "sizemode": "area",
          "sizeref": 0.43555555555555553,
          "symbol": "x"
         },
         "mode": "markers",
         "name": "Ani Kembhavi",
         "orientation": "v",
         "showlegend": true,
         "type": "scatter",
         "x": [
          10.751058578491211,
          -4.5317301750183105,
          -10.643708229064941,
          -19.349748611450195,
          12.181965827941895,
          13.778890609741211,
          0.3284124732017517,
          11.806426048278809,
          12.145697593688965,
          13.287198066711426
         ],
         "xaxis": "x",
         "y": [
          3.6030845642089844,
          4.279771327972412,
          -0.10931845009326935,
          12.146120071411133,
          5.726820468902588,
          4.650106430053711,
          9.60963249206543,
          2.681516647338867,
          4.3646111488342285,
          7.377038955688477
         ],
         "yaxis": "y"
        },
        {
         "customdata": [
          [
           "Deep Residual Learning for Image Recognition"
          ],
          [
           "Microsoft COCO: Common Objects in Context"
          ],
          [
           "ImageNet: A large-scale hierarchical image database"
          ],
          [
           "Adam: A Method for Stochastic Optimization"
          ],
          [
           "ImageNet classification with deep convolutional neural networks"
          ],
          [
           "ImageNet Large Scale Visual Recognition Challenge"
          ],
          [
           "Very Deep Convolutional Networks for Large-Scale Image Recognition"
          ],
          [
           "Visual Genome: Connecting Language and Vision Using Crowdsourced Dense Image Annotations"
          ],
          [
           "Object Detection with Discriminatively Trained Part Based Models"
          ],
          [
           "Modeling the Shape of the Scene: A Holistic Representation of the Spatial Envelope"
          ]
         ],
         "hovertemplate": "Cited By=Li Fei-Fei<br>Component 1=%{x}<br>Component 2=%{y}<br>Citations=%{marker.size}<br>Title=%{customdata[0]}<extra></extra>",
         "legendgroup": "Li Fei-Fei",
         "marker": {
          "color": "#FFA15A",
          "size": [
           19,
           18,
           18,
           16,
           21,
           39,
           35,
           35,
           34,
           34
          ],
          "sizemode": "area",
          "sizeref": 0.43555555555555553,
          "symbol": "cross"
         },
         "mode": "markers",
         "name": "Li Fei-Fei",
         "orientation": "v",
         "showlegend": true,
         "type": "scatter",
         "x": [
          -4.5317301750183105,
          -10.643708229064941,
          -19.349748611450195,
          0.3284124732017517,
          -3.710440158843994,
          -9.137229919433594,
          -4.420950889587402,
          -5.807590007781982,
          -9.064390182495117,
          -11.971357345581055
         ],
         "xaxis": "x",
         "y": [
          4.279771327972412,
          -0.10931845009326935,
          12.146120071411133,
          9.60963249206543,
          4.718155860900879,
          0.5427751541137695,
          3.2773149013519287,
          -0.15193195641040802,
          -1.7138886451721191,
          0.04254777356982231
         ],
         "yaxis": "y"
        },
        {
         "customdata": [
          [
           "Deep Residual Learning for Image Recognition"
          ],
          [
           "Regularizing and Optimizing LSTM Language Models"
          ],
          [
           "Deep Contextualized Word Representations"
          ],
          [
           "Cyclical Learning Rates for Training Neural Networks"
          ],
          [
           "A disciplined approach to neural network hyper-parameters: Part 1 - learning rate, batch size, momentum, and weight decay"
          ],
          [
           "Densely Connected Convolutional Networks"
          ],
          [
           "Universal Language Model Fine-tuning for Text Classification"
          ],
          [
           "SGDR: Stochastic Gradient Descent with Warm Restarts"
          ],
          [
           "Subword Regularization: Improving Neural Network Translation Models with Multiple Subword Candidates"
          ],
          [
           "Super-convergence: very fast training of neural networks using large learning rates"
          ]
         ],
         "hovertemplate": "Cited By=Jeremy Howard<br>Component 1=%{x}<br>Component 2=%{y}<br>Citations=%{marker.size}<br>Title=%{customdata[0]}<extra></extra>",
         "legendgroup": "Jeremy Howard",
         "marker": {
          "color": "#19d3f3",
          "size": [
           19,
           5,
           4,
           4,
           4,
           3,
           3,
           3,
           3,
           3
          ],
          "sizemode": "area",
          "sizeref": 0.43555555555555553,
          "symbol": "circle"
         },
         "mode": "markers",
         "name": "Jeremy Howard",
         "orientation": "v",
         "showlegend": true,
         "type": "scatter",
         "x": [
          -4.5317301750183105,
          -1.5191080570220947,
          -0.2911491096019745,
          -2.2012412548065186,
          -0.8375542759895325,
          -2.9285409450531006,
          2.2988669872283936,
          1.4957706928253174,
          -1.9981297254562378,
          -2.0828182697296143
         ],
         "xaxis": "x",
         "y": [
          4.279771327972412,
          -6.485398769378662,
          -9.596814155578613,
          9.521028518676758,
          7.822052955627441,
          4.0831217765808105,
          -6.4509992599487305,
          8.826038360595703,
          -9.661788940429688,
          10.339847564697266
         ],
         "yaxis": "y"
        },
        {
         "customdata": [
          [
           "Deep Residual Learning for Image Recognition"
          ],
          [
           "Adam: A Method for Stochastic Optimization"
          ],
          [
           "BERT: Pre-training of Deep Bidirectional Transformers for Language Understanding"
          ],
          [
           "Attention is All you Need"
          ],
          [
           "GloVe: Global Vectors for Word Representation"
          ],
          [
           "Long Short-Term Memory"
          ],
          [
           "Sequence to Sequence Learning with Neural Networks"
          ],
          [
           "Neural Machine Translation by Jointly Learning to Align and Translate"
          ],
          [
           "Recursive Deep Models for Semantic Compositionality Over a Sentiment Treebank"
          ],
          [
           "Dropout: a simple way to prevent neural networks from overfitting"
          ]
         ],
         "hovertemplate": "Cited By=R. Socher<br>Component 1=%{x}<br>Component 2=%{y}<br>Citations=%{marker.size}<br>Title=%{customdata[0]}<extra></extra>",
         "legendgroup": "R. Socher",
         "marker": {
          "color": "#FF6692",
          "size": [
           19,
           16,
           79,
           54,
           30,
           29,
           22,
           19,
           32,
           25
          ],
          "sizemode": "area",
          "sizeref": 0.43555555555555553,
          "symbol": "diamond"
         },
         "mode": "markers",
         "name": "R. Socher",
         "orientation": "v",
         "showlegend": true,
         "type": "scatter",
         "x": [
          -4.5317301750183105,
          0.3284124732017517,
          -0.2992865741252899,
          -2.1612155437469482,
          0.5520153045654297,
          -11.607636451721191,
          -2.1168086528778076,
          -3.679344892501831,
          -0.27873340249061584,
          -3.638641119003296
         ],
         "xaxis": "x",
         "y": [
          4.279771327972412,
          9.60963249206543,
          -3.938654899597168,
          -4.272042274475098,
          -10.219381332397461,
          5.696115493774414,
          -5.269165515899658,
          -6.577773571014404,
          -8.426416397094727,
          8.017667770385742
         ],
         "yaxis": "y"
        },
        {
         "customdata": [
          [
           "Deep Residual Learning for Image Recognition"
          ],
          [
           "ImageNet classification with deep convolutional neural networks"
          ],
          [
           "Gradient-based learning applied to document recognition"
          ],
          [
           "Handwritten Digit Recognition with a Back-Propagation Network"
          ],
          [
           "Sparse coding with an overcomplete basis set: A strategy employed by V1?"
          ],
          [
           "Generalization and network design strategies"
          ],
          [
           "A Simple Framework for Contrastive Learning of Visual Representations"
          ],
          [
           "Backpropagation Applied to Handwritten Zip Code Recognition"
          ],
          [
           "What is the best multi-stage architecture for object recognition?"
          ],
          [
           "Histograms of oriented gradients for human detection"
          ]
         ],
         "hovertemplate": "Cited By=Yann LeCun<br>Component 1=%{x}<br>Component 2=%{y}<br>Citations=%{marker.size}<br>Title=%{customdata[0]}<extra></extra>",
         "legendgroup": "Yann LeCun",
         "marker": {
          "color": "#B6E880",
          "size": [
           19,
           21,
           4,
           38,
           30,
           29,
           29,
           29,
           29,
           28
          ],
          "sizemode": "area",
          "sizeref": 0.43555555555555553,
          "symbol": "square"
         },
         "mode": "markers",
         "name": "Yann LeCun",
         "orientation": "v",
         "showlegend": true,
         "type": "scatter",
         "x": [
          -4.5317301750183105,
          -3.710440158843994,
          -9.601752281188965,
          -11.138863563537598,
          -7.2336649894714355,
          19.28968620300293,
          -5.819359302520752,
          -11.444025993347168,
          -8.910917282104492,
          -10.908621788024902
         ],
         "xaxis": "x",
         "y": [
          4.279771327972412,
          4.718155860900879,
          7.1768412590026855,
          8.3234224319458,
          5.855816841125488,
          13.176200866699219,
          1.929013729095459,
          8.5557222366333,
          2.5531187057495117,
          -1.8607416152954102
         ],
         "yaxis": "y"
        },
        {
         "customdata": [
          [
           "ImageNet: A large-scale hierarchical image database"
          ],
          [
           "Long Short-Term Memory"
          ],
          [
           "ImageNet classification with deep convolutional neural networks"
          ],
          [
           "Rich Feature Hierarchies for Accurate Object Detection and Semantic Segmentation"
          ],
          [
           "DeViSE: A Deep Visual-Semantic Embedding Model"
          ],
          [
           "Recurrent neural network based language model"
          ],
          [
           "Long-term recurrent convolutional networks for visual recognition and description"
          ],
          [
           "Every Picture Tells a Story: Generating Sentences from Images"
          ],
          [
           "Gradient-based learning applied to document recognition"
          ],
          [
           "Matching Words and Pictures"
          ]
         ],
         "hovertemplate": "Cited By=A. Karpathy<br>Component 1=%{x}<br>Component 2=%{y}<br>Citations=%{marker.size}<br>Title=%{customdata[0]}<extra></extra>",
         "legendgroup": "A. Karpathy",
         "marker": {
          "color": "#FF97FF",
          "size": [
           18,
           29,
           21,
           5,
           4,
           4,
           4,
           4,
           4,
           4
          ],
          "sizemode": "area",
          "sizeref": 0.43555555555555553,
          "symbol": "x"
         },
         "mode": "markers",
         "name": "A. Karpathy",
         "orientation": "v",
         "showlegend": true,
         "type": "scatter",
         "x": [
          -19.349748611450195,
          -11.607636451721191,
          -3.710440158843994,
          -9.354066848754883,
          -6.118341445922852,
          -5.578170299530029,
          -2.663163661956787,
          -19.48003387451172,
          -9.601752281188965,
          -19.22540855407715
         ],
         "xaxis": "x",
         "y": [
          12.146120071411133,
          5.696115493774414,
          4.718155860900879,
          -0.6033658981323242,
          0.6212644577026367,
          -5.437608242034912,
          -0.5288877487182617,
          8.48691463470459,
          7.1768412590026855,
          11.36865234375
         ],
         "yaxis": "y"
        },
        {
         "customdata": [
          [
           "Adam: A Method for Stochastic Optimization"
          ],
          [
           "BERT: Pre-training of Deep Bidirectional Transformers for Language Understanding"
          ],
          [
           "Bleu: a Method for Automatic Evaluation of Machine Translation"
          ],
          [
           "Building a Large Annotated Corpus of English: The Penn Treebank"
          ],
          [
           "Conditional Random Fields: Probabilistic Models for Segmenting and Labeling Sequence Data"
          ],
          [
           "Latent Dirichlet Allocation"
          ],
          [
           "CoNLL-X Shared Task on Multilingual Dependency Parsing"
          ],
          [
           "Class-Based n-gram Models of Natural Language"
          ],
          [
           "GloVe: Global Vectors for Word Representation"
          ],
          [
           "Long Short-Term Memory"
          ]
         ],
         "hovertemplate": "Cited By=Noah Smith<br>Component 1=%{x}<br>Component 2=%{y}<br>Citations=%{marker.size}<br>Title=%{customdata[0]}<extra></extra>",
         "legendgroup": "Noah Smith",
         "marker": {
          "color": "#FECB52",
          "size": [
           16,
           79,
           59,
           55,
           39,
           37,
           31,
           30,
           30,
           29
          ],
          "sizemode": "area",
          "sizeref": 0.43555555555555553,
          "symbol": "cross"
         },
         "mode": "markers",
         "name": "Noah Smith",
         "orientation": "v",
         "showlegend": true,
         "type": "scatter",
         "x": [
          0.3284124732017517,
          -0.2992865741252899,
          4.1093668937683105,
          4.165096759796143,
          6.786605358123779,
          6.832851409912109,
          3.9999728202819824,
          1.5362787246704102,
          0.5520153045654297,
          -11.607636451721191
         ],
         "xaxis": "x",
         "y": [
          9.60963249206543,
          -3.938654899597168,
          -12.387539863586426,
          -10.88334846496582,
          -4.125178337097168,
          -5.135392189025879,
          -9.922269821166992,
          -11.140521049499512,
          -10.219381332397461,
          5.696115493774414
         ],
         "yaxis": "y"
        },
        {
         "customdata": [
          [
           "Adam: A Method for Stochastic Optimization"
          ],
          [
           "Language Models are Unsupervised Multitask Learners"
          ],
          [
           "BERT: Pre-training of Deep Bidirectional Transformers for Language Understanding"
          ],
          [
           "Exploring the Limits of Transfer Learning with a Unified Text-to-Text Transformer"
          ],
          [
           "Attention is All you Need"
          ],
          [
           "Language Models are Few-Shot Learners"
          ],
          [
           "RoBERTa: A Robustly Optimized BERT Pretraining Approach"
          ],
          [
           "SQuAD: 100,000+ Questions for Machine Comprehension of Text"
          ],
          [
           "Natural Questions: A Benchmark for Question Answering Research"
          ],
          [
           "Reading Wikipedia to Answer Open-Domain Questions"
          ]
         ],
         "hovertemplate": "Cited By=Hannaneh Hajishirzi<br>Component 1=%{x}<br>Component 2=%{y}<br>Citations=%{marker.size}<br>Title=%{customdata[0]}<extra></extra>",
         "legendgroup": "Hannaneh Hajishirzi",
         "marker": {
          "color": "#636efa",
          "size": [
           16,
           94,
           79,
           55,
           54,
           47,
           45,
           19,
           23,
           21
          ],
          "sizemode": "area",
          "sizeref": 0.43555555555555553,
          "symbol": "circle"
         },
         "mode": "markers",
         "name": "Hannaneh Hajishirzi",
         "orientation": "v",
         "showlegend": true,
         "type": "scatter",
         "x": [
          0.3284124732017517,
          0.30111828446388245,
          -0.2992865741252899,
          1.6984273195266724,
          -2.1612155437469482,
          1.0693576335906982,
          0.7883487939834595,
          3.991300582885742,
          5.332825660705566,
          3.2136502265930176
         ],
         "xaxis": "x",
         "y": [
          9.60963249206543,
          -6.186047554016113,
          -3.938654899597168,
          -6.809671401977539,
          -4.272042274475098,
          -5.341207981109619,
          6.4025702476501465,
          -16.51055908203125,
          -16.850074768066406,
          -16.84386444091797
         ],
         "yaxis": "y"
        },
        {
         "customdata": [
          [
           "Adam: A Method for Stochastic Optimization"
          ],
          [
           "Long Short-Term Memory"
          ],
          [
           "Sequence to Sequence Learning with Neural Networks"
          ],
          [
           "ImageNet classification with deep convolutional neural networks"
          ],
          [
           "Neural Machine Translation by Jointly Learning to Align and Translate"
          ],
          [
           "Learning Phrase Representations using RNN Encoder–Decoder for Statistical Machine Translation"
          ],
          [
           "Reducing the Dimensionality of Data with Neural Networks"
          ],
          [
           "Learning representations by back-propagating errors"
          ],
          [
           "A Fast Learning Algorithm for Deep Belief Nets"
          ],
          [
           "Generating Sequences With Recurrent Neural Networks"
          ]
         ],
         "hovertemplate": "Cited By=Ilya Sutskever<br>Component 1=%{x}<br>Component 2=%{y}<br>Citations=%{marker.size}<br>Title=%{customdata[0]}<extra></extra>",
         "legendgroup": "Ilya Sutskever",
         "marker": {
          "color": "#EF553B",
          "size": [
           16,
           29,
           22,
           21,
           19,
           17,
           16,
           15,
           14,
           14
          ],
          "sizemode": "area",
          "sizeref": 0.43555555555555553,
          "symbol": "diamond"
         },
         "mode": "markers",
         "name": "Ilya Sutskever",
         "orientation": "v",
         "showlegend": true,
         "type": "scatter",
         "x": [
          0.3284124732017517,
          -11.607636451721191,
          -2.1168086528778076,
          -3.710440158843994,
          -3.679344892501831,
          -4.43073844909668,
          -3.8754115104675293,
          -8.882418632507324,
          -6.212015628814697,
          -11.624964714050293
         ],
         "xaxis": "x",
         "y": [
          9.60963249206543,
          5.696115493774414,
          -5.269165515899658,
          4.718155860900879,
          -6.577773571014404,
          -6.275676727294922,
          11.707853317260742,
          11.125338554382324,
          10.286439895629883,
          11.541309356689453
         ],
         "yaxis": "y"
        },
        {
         "customdata": [
          [
           "Adam: A Method for Stochastic Optimization"
          ],
          [
           "Long Short-Term Memory"
          ],
          [
           "ImageNet classification with deep convolutional neural networks"
          ],
          [
           "Neural Machine Translation by Jointly Learning to Align and Translate"
          ],
          [
           "A Fast Learning Algorithm for Deep Belief Nets"
          ],
          [
           "Gradient-based learning applied to document recognition"
          ],
          [
           "Learning Deep Architectures for AI"
          ],
          [
           "Batch Normalization: Accelerating Deep Network Training by Reducing Internal Covariate Shift"
          ],
          [
           "Learning long-term dependencies with gradient descent is difficult"
          ],
          [
           "Theano: new features and speed improvements"
          ]
         ],
         "hovertemplate": "Cited By=Yoshua Bengio<br>Component 1=%{x}<br>Component 2=%{y}<br>Citations=%{marker.size}<br>Title=%{customdata[0]}<extra></extra>",
         "legendgroup": "Yoshua Bengio",
         "marker": {
          "color": "#00cc96",
          "size": [
           16,
           29,
           21,
           19,
           14,
           4,
           98,
           82,
           76,
           75
          ],
          "sizemode": "area",
          "sizeref": 0.43555555555555553,
          "symbol": "square"
         },
         "mode": "markers",
         "name": "Yoshua Bengio",
         "orientation": "v",
         "showlegend": true,
         "type": "scatter",
         "x": [
          0.3284124732017517,
          -11.607636451721191,
          -3.710440158843994,
          -3.679344892501831,
          -6.212015628814697,
          -9.601752281188965,
          -6.26415491104126,
          -1.6787835359573364,
          -10.679730415344238,
          -14.24741268157959
         ],
         "xaxis": "x",
         "y": [
          9.60963249206543,
          5.696115493774414,
          4.718155860900879,
          -6.577773571014404,
          10.286439895629883,
          7.1768412590026855,
          8.894392967224121,
          8.33055591583252,
          11.368063926696777,
          9.893502235412598
         ],
         "yaxis": "y"
        },
        {
         "customdata": [
          [
           "Adam: A Method for Stochastic Optimization"
          ],
          [
           "Gradient-based learning applied to document recognition"
          ],
          [
           "Intriguing properties of neural networks"
          ],
          [
           "Explaining and Harnessing Adversarial Examples"
          ],
          [
           "Adversarial examples in the physical world"
          ],
          [
           "Learning Multiple Layers of Features from Tiny Images"
          ],
          [
           "Towards Deep Learning Models Resistant to Adversarial Attacks"
          ],
          [
           "Generative Adversarial Nets"
          ],
          [
           "Evasion Attacks against Machine Learning at Test Time"
          ],
          [
           "Deep Boltzmann Machines"
          ]
         ],
         "hovertemplate": "Cited By=Ian J. Goodfellow<br>Component 1=%{x}<br>Component 2=%{y}<br>Citations=%{marker.size}<br>Title=%{customdata[0]}<extra></extra>",
         "legendgroup": "Ian J. Goodfellow",
         "marker": {
          "color": "#ab63fa",
          "size": [
           16,
           4,
           42,
           35,
           21,
           19,
           18,
           18,
           18,
           17
          ],
          "sizemode": "area",
          "sizeref": 0.43555555555555553,
          "symbol": "x"
         },
         "mode": "markers",
         "name": "Ian J. Goodfellow",
         "orientation": "v",
         "showlegend": true,
         "type": "scatter",
         "x": [
          0.3284124732017517,
          -9.601752281188965,
          -5.145440578460693,
          1.3399068117141724,
          1.9753698110580444,
          -5.682212829589844,
          1.2095192670822144,
          1.1635496616363525,
          1.814204216003418,
          -7.01943302154541
         ],
         "xaxis": "x",
         "y": [
          9.60963249206543,
          7.1768412590026855,
          6.962349891662598,
          14.547245979309082,
          15.721752166748047,
          5.912774562835693,
          15.90350341796875,
          13.358663558959961,
          17.0621337890625,
          10.34492015838623
         ],
         "yaxis": "y"
        },
        {
         "customdata": [
          [
           "Language Models are Unsupervised Multitask Learners"
          ],
          [
           "BERT: Pre-training of Deep Bidirectional Transformers for Language Understanding"
          ],
          [
           "Bleu: a Method for Automatic Evaluation of Machine Translation"
          ],
          [
           "Exploring the Limits of Transfer Learning with a Unified Text-to-Text Transformer"
          ],
          [
           "Attention is All you Need"
          ],
          [
           "The Curious Case of Neural Text Degeneration"
          ],
          [
           "Language Models are Few-Shot Learners"
          ],
          [
           "ROUGE: A Package for Automatic Evaluation of Summaries"
          ],
          [
           "RoBERTa: A Robustly Optimized BERT Pretraining Approach"
          ],
          [
           "ATOMIC: An Atlas of Machine Commonsense for If-Then Reasoning"
          ]
         ],
         "hovertemplate": "Cited By=Yejin Choi<br>Component 1=%{x}<br>Component 2=%{y}<br>Citations=%{marker.size}<br>Title=%{customdata[0]}<extra></extra>",
         "legendgroup": "Yejin Choi",
         "marker": {
          "color": "#FFA15A",
          "size": [
           94,
           79,
           59,
           55,
           54,
           50,
           47,
           47,
           45,
           39
          ],
          "sizemode": "area",
          "sizeref": 0.43555555555555553,
          "symbol": "cross"
         },
         "mode": "markers",
         "name": "Yejin Choi",
         "orientation": "v",
         "showlegend": true,
         "type": "scatter",
         "x": [
          0.30111828446388245,
          -0.2992865741252899,
          4.1093668937683105,
          1.6984273195266724,
          -2.1612155437469482,
          -4.72217321395874,
          1.0693576335906982,
          3.5292489528656006,
          0.7883487939834595,
          7.43034553527832
         ],
         "xaxis": "x",
         "y": [
          -6.186047554016113,
          -3.938654899597168,
          -12.387539863586426,
          -6.809671401977539,
          -4.272042274475098,
          -9.663043975830078,
          -5.341207981109619,
          -13.726766586303711,
          6.4025702476501465,
          -20.16896629333496
         ],
         "yaxis": "y"
        },
        {
         "customdata": [
          [
           "Reducing the Dimensionality of Data with Neural Networks"
          ],
          [
           "Learning representations by back-propagating errors"
          ],
          [
           "A Fast Learning Algorithm for Deep Belief Nets"
          ],
          [
           "Training Products of Experts by Minimizing Contrastive Divergence"
          ],
          [
           "Exponential Family Harmoniums with an Application to Information Retrieval"
          ],
          [
           "Maximum likelihood from incomplete data via the EM - algorithm plus discussions on the paper"
          ],
          [
           "A Learning Algorithm for Boltzmann Machines"
          ],
          [
           "Information processing in dynamical systems: foundations of harmony theory"
          ],
          [
           "Neural networks and physical systems with emergent collective computational abilities."
          ],
          [
           "Learning and relearning in Boltzmann machines"
          ]
         ],
         "hovertemplate": "Cited By=Geoffrey E. Hinton<br>Component 1=%{x}<br>Component 2=%{y}<br>Citations=%{marker.size}<br>Title=%{customdata[0]}<extra></extra>",
         "legendgroup": "Geoffrey E. Hinton",
         "marker": {
          "color": "#19d3f3",
          "size": [
           16,
           15,
           14,
           95,
           34,
           31,
           30,
           28,
           27,
           27
          ],
          "sizemode": "area",
          "sizeref": 0.43555555555555553,
          "symbol": "circle"
         },
         "mode": "markers",
         "name": "Geoffrey E. Hinton",
         "orientation": "v",
         "showlegend": true,
         "type": "scatter",
         "x": [
          -3.8754115104675293,
          -8.882418632507324,
          -6.212015628814697,
          1.607441782951355,
          7.610198974609375,
          -13.249784469604492,
          -16.241918563842773,
          -16.90448760986328,
          -16.755369186401367,
          -14.673104286193848
         ],
         "xaxis": "x",
         "y": [
          11.707853317260742,
          11.125338554382324,
          10.286439895629883,
          11.543919563293457,
          -5.591578960418701,
          4.681705951690674,
          3.3675537109375,
          1.6429263353347778,
          3.1487951278686523,
          9.56807804107666
         ],
         "yaxis": "y"
        }
       ],
       "layout": {
        "legend": {
         "itemsizing": "constant",
         "title": {
          "text": "Cited By"
         },
         "tracegroupgap": 0
        },
        "template": {
         "data": {
          "bar": [
           {
            "error_x": {
             "color": "#2a3f5f"
            },
            "error_y": {
             "color": "#2a3f5f"
            },
            "marker": {
             "line": {
              "color": "#E5ECF6",
              "width": 0.5
             },
             "pattern": {
              "fillmode": "overlay",
              "size": 10,
              "solidity": 0.2
             }
            },
            "type": "bar"
           }
          ],
          "barpolar": [
           {
            "marker": {
             "line": {
              "color": "#E5ECF6",
              "width": 0.5
             },
             "pattern": {
              "fillmode": "overlay",
              "size": 10,
              "solidity": 0.2
             }
            },
            "type": "barpolar"
           }
          ],
          "carpet": [
           {
            "aaxis": {
             "endlinecolor": "#2a3f5f",
             "gridcolor": "white",
             "linecolor": "white",
             "minorgridcolor": "white",
             "startlinecolor": "#2a3f5f"
            },
            "baxis": {
             "endlinecolor": "#2a3f5f",
             "gridcolor": "white",
             "linecolor": "white",
             "minorgridcolor": "white",
             "startlinecolor": "#2a3f5f"
            },
            "type": "carpet"
           }
          ],
          "choropleth": [
           {
            "colorbar": {
             "outlinewidth": 0,
             "ticks": ""
            },
            "type": "choropleth"
           }
          ],
          "contour": [
           {
            "colorbar": {
             "outlinewidth": 0,
             "ticks": ""
            },
            "colorscale": [
             [
              0,
              "#0d0887"
             ],
             [
              0.1111111111111111,
              "#46039f"
             ],
             [
              0.2222222222222222,
              "#7201a8"
             ],
             [
              0.3333333333333333,
              "#9c179e"
             ],
             [
              0.4444444444444444,
              "#bd3786"
             ],
             [
              0.5555555555555556,
              "#d8576b"
             ],
             [
              0.6666666666666666,
              "#ed7953"
             ],
             [
              0.7777777777777778,
              "#fb9f3a"
             ],
             [
              0.8888888888888888,
              "#fdca26"
             ],
             [
              1,
              "#f0f921"
             ]
            ],
            "type": "contour"
           }
          ],
          "contourcarpet": [
           {
            "colorbar": {
             "outlinewidth": 0,
             "ticks": ""
            },
            "type": "contourcarpet"
           }
          ],
          "heatmap": [
           {
            "colorbar": {
             "outlinewidth": 0,
             "ticks": ""
            },
            "colorscale": [
             [
              0,
              "#0d0887"
             ],
             [
              0.1111111111111111,
              "#46039f"
             ],
             [
              0.2222222222222222,
              "#7201a8"
             ],
             [
              0.3333333333333333,
              "#9c179e"
             ],
             [
              0.4444444444444444,
              "#bd3786"
             ],
             [
              0.5555555555555556,
              "#d8576b"
             ],
             [
              0.6666666666666666,
              "#ed7953"
             ],
             [
              0.7777777777777778,
              "#fb9f3a"
             ],
             [
              0.8888888888888888,
              "#fdca26"
             ],
             [
              1,
              "#f0f921"
             ]
            ],
            "type": "heatmap"
           }
          ],
          "heatmapgl": [
           {
            "colorbar": {
             "outlinewidth": 0,
             "ticks": ""
            },
            "colorscale": [
             [
              0,
              "#0d0887"
             ],
             [
              0.1111111111111111,
              "#46039f"
             ],
             [
              0.2222222222222222,
              "#7201a8"
             ],
             [
              0.3333333333333333,
              "#9c179e"
             ],
             [
              0.4444444444444444,
              "#bd3786"
             ],
             [
              0.5555555555555556,
              "#d8576b"
             ],
             [
              0.6666666666666666,
              "#ed7953"
             ],
             [
              0.7777777777777778,
              "#fb9f3a"
             ],
             [
              0.8888888888888888,
              "#fdca26"
             ],
             [
              1,
              "#f0f921"
             ]
            ],
            "type": "heatmapgl"
           }
          ],
          "histogram": [
           {
            "marker": {
             "pattern": {
              "fillmode": "overlay",
              "size": 10,
              "solidity": 0.2
             }
            },
            "type": "histogram"
           }
          ],
          "histogram2d": [
           {
            "colorbar": {
             "outlinewidth": 0,
             "ticks": ""
            },
            "colorscale": [
             [
              0,
              "#0d0887"
             ],
             [
              0.1111111111111111,
              "#46039f"
             ],
             [
              0.2222222222222222,
              "#7201a8"
             ],
             [
              0.3333333333333333,
              "#9c179e"
             ],
             [
              0.4444444444444444,
              "#bd3786"
             ],
             [
              0.5555555555555556,
              "#d8576b"
             ],
             [
              0.6666666666666666,
              "#ed7953"
             ],
             [
              0.7777777777777778,
              "#fb9f3a"
             ],
             [
              0.8888888888888888,
              "#fdca26"
             ],
             [
              1,
              "#f0f921"
             ]
            ],
            "type": "histogram2d"
           }
          ],
          "histogram2dcontour": [
           {
            "colorbar": {
             "outlinewidth": 0,
             "ticks": ""
            },
            "colorscale": [
             [
              0,
              "#0d0887"
             ],
             [
              0.1111111111111111,
              "#46039f"
             ],
             [
              0.2222222222222222,
              "#7201a8"
             ],
             [
              0.3333333333333333,
              "#9c179e"
             ],
             [
              0.4444444444444444,
              "#bd3786"
             ],
             [
              0.5555555555555556,
              "#d8576b"
             ],
             [
              0.6666666666666666,
              "#ed7953"
             ],
             [
              0.7777777777777778,
              "#fb9f3a"
             ],
             [
              0.8888888888888888,
              "#fdca26"
             ],
             [
              1,
              "#f0f921"
             ]
            ],
            "type": "histogram2dcontour"
           }
          ],
          "mesh3d": [
           {
            "colorbar": {
             "outlinewidth": 0,
             "ticks": ""
            },
            "type": "mesh3d"
           }
          ],
          "parcoords": [
           {
            "line": {
             "colorbar": {
              "outlinewidth": 0,
              "ticks": ""
             }
            },
            "type": "parcoords"
           }
          ],
          "pie": [
           {
            "automargin": true,
            "type": "pie"
           }
          ],
          "scatter": [
           {
            "fillpattern": {
             "fillmode": "overlay",
             "size": 10,
             "solidity": 0.2
            },
            "type": "scatter"
           }
          ],
          "scatter3d": [
           {
            "line": {
             "colorbar": {
              "outlinewidth": 0,
              "ticks": ""
             }
            },
            "marker": {
             "colorbar": {
              "outlinewidth": 0,
              "ticks": ""
             }
            },
            "type": "scatter3d"
           }
          ],
          "scattercarpet": [
           {
            "marker": {
             "colorbar": {
              "outlinewidth": 0,
              "ticks": ""
             }
            },
            "type": "scattercarpet"
           }
          ],
          "scattergeo": [
           {
            "marker": {
             "colorbar": {
              "outlinewidth": 0,
              "ticks": ""
             }
            },
            "type": "scattergeo"
           }
          ],
          "scattergl": [
           {
            "marker": {
             "colorbar": {
              "outlinewidth": 0,
              "ticks": ""
             }
            },
            "type": "scattergl"
           }
          ],
          "scattermapbox": [
           {
            "marker": {
             "colorbar": {
              "outlinewidth": 0,
              "ticks": ""
             }
            },
            "type": "scattermapbox"
           }
          ],
          "scatterpolar": [
           {
            "marker": {
             "colorbar": {
              "outlinewidth": 0,
              "ticks": ""
             }
            },
            "type": "scatterpolar"
           }
          ],
          "scatterpolargl": [
           {
            "marker": {
             "colorbar": {
              "outlinewidth": 0,
              "ticks": ""
             }
            },
            "type": "scatterpolargl"
           }
          ],
          "scatterternary": [
           {
            "marker": {
             "colorbar": {
              "outlinewidth": 0,
              "ticks": ""
             }
            },
            "type": "scatterternary"
           }
          ],
          "surface": [
           {
            "colorbar": {
             "outlinewidth": 0,
             "ticks": ""
            },
            "colorscale": [
             [
              0,
              "#0d0887"
             ],
             [
              0.1111111111111111,
              "#46039f"
             ],
             [
              0.2222222222222222,
              "#7201a8"
             ],
             [
              0.3333333333333333,
              "#9c179e"
             ],
             [
              0.4444444444444444,
              "#bd3786"
             ],
             [
              0.5555555555555556,
              "#d8576b"
             ],
             [
              0.6666666666666666,
              "#ed7953"
             ],
             [
              0.7777777777777778,
              "#fb9f3a"
             ],
             [
              0.8888888888888888,
              "#fdca26"
             ],
             [
              1,
              "#f0f921"
             ]
            ],
            "type": "surface"
           }
          ],
          "table": [
           {
            "cells": {
             "fill": {
              "color": "#EBF0F8"
             },
             "line": {
              "color": "white"
             }
            },
            "header": {
             "fill": {
              "color": "#C8D4E3"
             },
             "line": {
              "color": "white"
             }
            },
            "type": "table"
           }
          ]
         },
         "layout": {
          "annotationdefaults": {
           "arrowcolor": "#2a3f5f",
           "arrowhead": 0,
           "arrowwidth": 1
          },
          "autotypenumbers": "strict",
          "coloraxis": {
           "colorbar": {
            "outlinewidth": 0,
            "ticks": ""
           }
          },
          "colorscale": {
           "diverging": [
            [
             0,
             "#8e0152"
            ],
            [
             0.1,
             "#c51b7d"
            ],
            [
             0.2,
             "#de77ae"
            ],
            [
             0.3,
             "#f1b6da"
            ],
            [
             0.4,
             "#fde0ef"
            ],
            [
             0.5,
             "#f7f7f7"
            ],
            [
             0.6,
             "#e6f5d0"
            ],
            [
             0.7,
             "#b8e186"
            ],
            [
             0.8,
             "#7fbc41"
            ],
            [
             0.9,
             "#4d9221"
            ],
            [
             1,
             "#276419"
            ]
           ],
           "sequential": [
            [
             0,
             "#0d0887"
            ],
            [
             0.1111111111111111,
             "#46039f"
            ],
            [
             0.2222222222222222,
             "#7201a8"
            ],
            [
             0.3333333333333333,
             "#9c179e"
            ],
            [
             0.4444444444444444,
             "#bd3786"
            ],
            [
             0.5555555555555556,
             "#d8576b"
            ],
            [
             0.6666666666666666,
             "#ed7953"
            ],
            [
             0.7777777777777778,
             "#fb9f3a"
            ],
            [
             0.8888888888888888,
             "#fdca26"
            ],
            [
             1,
             "#f0f921"
            ]
           ],
           "sequentialminus": [
            [
             0,
             "#0d0887"
            ],
            [
             0.1111111111111111,
             "#46039f"
            ],
            [
             0.2222222222222222,
             "#7201a8"
            ],
            [
             0.3333333333333333,
             "#9c179e"
            ],
            [
             0.4444444444444444,
             "#bd3786"
            ],
            [
             0.5555555555555556,
             "#d8576b"
            ],
            [
             0.6666666666666666,
             "#ed7953"
            ],
            [
             0.7777777777777778,
             "#fb9f3a"
            ],
            [
             0.8888888888888888,
             "#fdca26"
            ],
            [
             1,
             "#f0f921"
            ]
           ]
          },
          "colorway": [
           "#636efa",
           "#EF553B",
           "#00cc96",
           "#ab63fa",
           "#FFA15A",
           "#19d3f3",
           "#FF6692",
           "#B6E880",
           "#FF97FF",
           "#FECB52"
          ],
          "font": {
           "color": "#2a3f5f"
          },
          "geo": {
           "bgcolor": "white",
           "lakecolor": "white",
           "landcolor": "#E5ECF6",
           "showlakes": true,
           "showland": true,
           "subunitcolor": "white"
          },
          "hoverlabel": {
           "align": "left"
          },
          "hovermode": "closest",
          "mapbox": {
           "style": "light"
          },
          "paper_bgcolor": "white",
          "plot_bgcolor": "#E5ECF6",
          "polar": {
           "angularaxis": {
            "gridcolor": "white",
            "linecolor": "white",
            "ticks": ""
           },
           "bgcolor": "#E5ECF6",
           "radialaxis": {
            "gridcolor": "white",
            "linecolor": "white",
            "ticks": ""
           }
          },
          "scene": {
           "xaxis": {
            "backgroundcolor": "#E5ECF6",
            "gridcolor": "white",
            "gridwidth": 2,
            "linecolor": "white",
            "showbackground": true,
            "ticks": "",
            "zerolinecolor": "white"
           },
           "yaxis": {
            "backgroundcolor": "#E5ECF6",
            "gridcolor": "white",
            "gridwidth": 2,
            "linecolor": "white",
            "showbackground": true,
            "ticks": "",
            "zerolinecolor": "white"
           },
           "zaxis": {
            "backgroundcolor": "#E5ECF6",
            "gridcolor": "white",
            "gridwidth": 2,
            "linecolor": "white",
            "showbackground": true,
            "ticks": "",
            "zerolinecolor": "white"
           }
          },
          "shapedefaults": {
           "line": {
            "color": "#2a3f5f"
           }
          },
          "ternary": {
           "aaxis": {
            "gridcolor": "white",
            "linecolor": "white",
            "ticks": ""
           },
           "baxis": {
            "gridcolor": "white",
            "linecolor": "white",
            "ticks": ""
           },
           "bgcolor": "#E5ECF6",
           "caxis": {
            "gridcolor": "white",
            "linecolor": "white",
            "ticks": ""
           }
          },
          "title": {
           "x": 0.05
          },
          "xaxis": {
           "automargin": true,
           "gridcolor": "white",
           "linecolor": "white",
           "ticks": "",
           "title": {
            "standoff": 15
           },
           "zerolinecolor": "white",
           "zerolinewidth": 2
          },
          "yaxis": {
           "automargin": true,
           "gridcolor": "white",
           "linecolor": "white",
           "ticks": "",
           "title": {
            "standoff": 15
           },
           "zerolinecolor": "white",
           "zerolinewidth": 2
          }
         }
        },
        "title": {
         "text": "Top Citations by Authors"
        },
        "xaxis": {
         "anchor": "y",
         "domain": [
          0,
          1
         ],
         "title": {
          "text": "Component 1"
         }
        },
        "yaxis": {
         "anchor": "x",
         "domain": [
          0,
          1
         ],
         "title": {
          "text": "Component 2"
         }
        }
       }
      },
      "text/html": [
       "<div>                            <div id=\"509e8844-ecee-4a3f-8d55-a623ea9777d1\" class=\"plotly-graph-div\" style=\"height:525px; width:100%;\"></div>            <script type=\"text/javascript\">                require([\"plotly\"], function(Plotly) {                    window.PLOTLYENV=window.PLOTLYENV || {};                                    if (document.getElementById(\"509e8844-ecee-4a3f-8d55-a623ea9777d1\")) {                    Plotly.newPlot(                        \"509e8844-ecee-4a3f-8d55-a623ea9777d1\",                        [{\"customdata\":[[\"UCPOP: A Sound, Complete, Partial Order Planner for ADL\"],[\"Systematic Nonlinear Planning\"],[\"Planning for Conjunctive Goals\"],[\"An Approach to Planning with Incomplete Information\"],[\"Labeled RTDP: Improving the Convergence of Real-Time Dynamic Programming\"],[\"Fast Planning Through Planning Graph Analysis\"],[\"Learning to Act Using Real-Time Dynamic Programming\"],[\"ADL: Exploring the Middle Ground Between STRIPS and the Situation Calculus\"],[\"Open Information Extraction from the Web\"],[\"Conditional nonlinear planning\"]],\"hovertemplate\":\"Cited By=Dan Weld<br>Component 1=%{x}<br>Component 2=%{y}<br>Citations=%{marker.size}<br>Title=%{customdata[0]}<extra></extra>\",\"legendgroup\":\"Dan Weld\",\"marker\":{\"color\":\"#636efa\",\"size\":[33,29,26,26,24,23,20,20,20,19],\"sizemode\":\"area\",\"sizeref\":0.43555555555555553,\"symbol\":\"circle\"},\"mode\":\"markers\",\"name\":\"Dan Weld\",\"orientation\":\"v\",\"showlegend\":true,\"x\":[17.004098892211914,18.122066497802734,17.146711349487305,19.50181007385254,14.539294242858887,17.278024673461914,14.061059951782227,20.09412384033203,10.982065200805664,17.93812370300293],\"xaxis\":\"x\",\"y\":[5.999173641204834,6.9143757820129395,6.896792888641357,12.735438346862793,8.585344314575195,7.871566295623779,9.110715866088867,12.015243530273438,-12.348390579223633,5.200622081756592],\"yaxis\":\"y\",\"type\":\"scatter\"},{\"customdata\":[[\"Planning for Conjunctive Goals\"],[\"An Approach to Planning with Incomplete Information\"],[\"Open Information Extraction from the Web\"],[\"Unsupervised named-entity extraction from the Web: An experimental study\"],[\"Snowball: extracting relations from large plain-text collections\"],[\"A Probabilistic Model of Redundancy in Information Extraction\"],[\"Automatic Acquisition of Hyponyms from Large Text Corpora\"],[\"A softbot-based interface to the Internet\"],[\"Extracting Patterns and Relations from the World Wide Web\"],[\"The Tradeoffs Between Open and Traditional Relation Extraction\"]],\"hovertemplate\":\"Cited By=Oren Etzioni<br>Component 1=%{x}<br>Component 2=%{y}<br>Citations=%{marker.size}<br>Title=%{customdata[0]}<extra></extra>\",\"legendgroup\":\"Oren Etzioni\",\"marker\":{\"color\":\"#EF553B\",\"size\":[26,26,20,40,28,25,23,22,21,20],\"sizemode\":\"area\",\"sizeref\":0.43555555555555553,\"symbol\":\"diamond\"},\"mode\":\"markers\",\"name\":\"Oren Etzioni\",\"orientation\":\"v\",\"showlegend\":true,\"x\":[17.146711349487305,19.50181007385254,10.982065200805664,11.937886238098145,10.556711196899414,12.360626220703125,8.925942420959473,11.041168212890625,11.04444408416748,10.447846412658691],\"xaxis\":\"x\",\"y\":[6.896792888641357,12.735438346862793,-12.348390579223633,-12.443106651306152,-10.982871055603027,-11.24342155456543,-12.683985710144043,6.752752304077148,-14.195491790771484,-12.766595840454102],\"yaxis\":\"y\",\"type\":\"scatter\"},{\"customdata\":[[\"Open Information Extraction from the Web\"],[\"BERT: Pre-training of Deep Bidirectional Transformers for Language Understanding\"],[\"Exploring the Limits of Transfer Learning with a Unified Text-to-Text Transformer\"],[\"SQuAD: 100,000+ Questions for Machine Comprehension of Text\"],[\"WordNet : an electronic lexical database\"],[\"Combining Retrieval, Statistics, and Inference to Answer Elementary Science Questions\"],[\"Think you have Solved Question Answering? Try ARC, the AI2 Reasoning Challenge\"],[\"Discovery of inference rules for question-answering\"],[\"Building Concept Representations from Reusable Components\"],[\"Towards AI-Complete Question Answering: A Set of Prerequisite Toy Tasks\"]],\"hovertemplate\":\"Cited By=Peter Clark<br>Component 1=%{x}<br>Component 2=%{y}<br>Citations=%{marker.size}<br>Title=%{customdata[0]}<extra></extra>\",\"legendgroup\":\"Peter Clark\",\"marker\":{\"color\":\"#00cc96\",\"size\":[20,79,55,19,17,16,14,14,13,13],\"sizemode\":\"area\",\"sizeref\":0.43555555555555553,\"symbol\":\"square\"},\"mode\":\"markers\",\"name\":\"Peter Clark\",\"orientation\":\"v\",\"showlegend\":true,\"x\":[10.982065200805664,-0.2992865741252899,1.6984273195266724,3.991300582885742,7.7395806312561035,7.477387428283691,5.973085880279541,6.475449562072754,9.493673324584961,6.656695365905762],\"xaxis\":\"x\",\"y\":[-12.348390579223633,-3.938654899597168,-6.809671401977539,-16.51055908203125,-11.9749116897583,-18.006540298461914,-18.479618072509766,-16.265888214111328,-18.717330932617188,-18.90131950378418],\"yaxis\":\"y\",\"type\":\"scatter\"},{\"customdata\":[[\"AI2-THOR: An Interactive 3D Environment for Visual AI\"],[\"Deep Residual Learning for Image Recognition\"],[\"Microsoft COCO: Common Objects in Context\"],[\"ImageNet: A large-scale hierarchical image database\"],[\"Habitat: A Platform for Embodied AI Research\"],[\"On Evaluation of Embodied Navigation Agents\"],[\"Adam: A Method for Stochastic Optimization\"],[\"IQA: Visual Question Answering in Interactive Environments\"],[\"AllenAct: A Framework for Embodied AI Research\"],[\"DD-PPO: Learning Near-Perfect PointGoal Navigators from 2.5 Billion Frames\"]],\"hovertemplate\":\"Cited By=Ani Kembhavi<br>Component 1=%{x}<br>Component 2=%{y}<br>Citations=%{marker.size}<br>Title=%{customdata[0]}<extra></extra>\",\"legendgroup\":\"Ani Kembhavi\",\"marker\":{\"color\":\"#ab63fa\",\"size\":[24,19,18,18,18,17,16,16,16,15],\"sizemode\":\"area\",\"sizeref\":0.43555555555555553,\"symbol\":\"x\"},\"mode\":\"markers\",\"name\":\"Ani Kembhavi\",\"orientation\":\"v\",\"showlegend\":true,\"x\":[10.751058578491211,-4.5317301750183105,-10.643708229064941,-19.349748611450195,12.181965827941895,13.778890609741211,0.3284124732017517,11.806426048278809,12.145697593688965,13.287198066711426],\"xaxis\":\"x\",\"y\":[3.6030845642089844,4.279771327972412,-0.10931845009326935,12.146120071411133,5.726820468902588,4.650106430053711,9.60963249206543,2.681516647338867,4.3646111488342285,7.377038955688477],\"yaxis\":\"y\",\"type\":\"scatter\"},{\"customdata\":[[\"Deep Residual Learning for Image Recognition\"],[\"Microsoft COCO: Common Objects in Context\"],[\"ImageNet: A large-scale hierarchical image database\"],[\"Adam: A Method for Stochastic Optimization\"],[\"ImageNet classification with deep convolutional neural networks\"],[\"ImageNet Large Scale Visual Recognition Challenge\"],[\"Very Deep Convolutional Networks for Large-Scale Image Recognition\"],[\"Visual Genome: Connecting Language and Vision Using Crowdsourced Dense Image Annotations\"],[\"Object Detection with Discriminatively Trained Part Based Models\"],[\"Modeling the Shape of the Scene: A Holistic Representation of the Spatial Envelope\"]],\"hovertemplate\":\"Cited By=Li Fei-Fei<br>Component 1=%{x}<br>Component 2=%{y}<br>Citations=%{marker.size}<br>Title=%{customdata[0]}<extra></extra>\",\"legendgroup\":\"Li Fei-Fei\",\"marker\":{\"color\":\"#FFA15A\",\"size\":[19,18,18,16,21,39,35,35,34,34],\"sizemode\":\"area\",\"sizeref\":0.43555555555555553,\"symbol\":\"cross\"},\"mode\":\"markers\",\"name\":\"Li Fei-Fei\",\"orientation\":\"v\",\"showlegend\":true,\"x\":[-4.5317301750183105,-10.643708229064941,-19.349748611450195,0.3284124732017517,-3.710440158843994,-9.137229919433594,-4.420950889587402,-5.807590007781982,-9.064390182495117,-11.971357345581055],\"xaxis\":\"x\",\"y\":[4.279771327972412,-0.10931845009326935,12.146120071411133,9.60963249206543,4.718155860900879,0.5427751541137695,3.2773149013519287,-0.15193195641040802,-1.7138886451721191,0.04254777356982231],\"yaxis\":\"y\",\"type\":\"scatter\"},{\"customdata\":[[\"Deep Residual Learning for Image Recognition\"],[\"Regularizing and Optimizing LSTM Language Models\"],[\"Deep Contextualized Word Representations\"],[\"Cyclical Learning Rates for Training Neural Networks\"],[\"A disciplined approach to neural network hyper-parameters: Part 1 - learning rate, batch size, momentum, and weight decay\"],[\"Densely Connected Convolutional Networks\"],[\"Universal Language Model Fine-tuning for Text Classification\"],[\"SGDR: Stochastic Gradient Descent with Warm Restarts\"],[\"Subword Regularization: Improving Neural Network Translation Models with Multiple Subword Candidates\"],[\"Super-convergence: very fast training of neural networks using large learning rates\"]],\"hovertemplate\":\"Cited By=Jeremy Howard<br>Component 1=%{x}<br>Component 2=%{y}<br>Citations=%{marker.size}<br>Title=%{customdata[0]}<extra></extra>\",\"legendgroup\":\"Jeremy Howard\",\"marker\":{\"color\":\"#19d3f3\",\"size\":[19,5,4,4,4,3,3,3,3,3],\"sizemode\":\"area\",\"sizeref\":0.43555555555555553,\"symbol\":\"circle\"},\"mode\":\"markers\",\"name\":\"Jeremy Howard\",\"orientation\":\"v\",\"showlegend\":true,\"x\":[-4.5317301750183105,-1.5191080570220947,-0.2911491096019745,-2.2012412548065186,-0.8375542759895325,-2.9285409450531006,2.2988669872283936,1.4957706928253174,-1.9981297254562378,-2.0828182697296143],\"xaxis\":\"x\",\"y\":[4.279771327972412,-6.485398769378662,-9.596814155578613,9.521028518676758,7.822052955627441,4.0831217765808105,-6.4509992599487305,8.826038360595703,-9.661788940429688,10.339847564697266],\"yaxis\":\"y\",\"type\":\"scatter\"},{\"customdata\":[[\"Deep Residual Learning for Image Recognition\"],[\"Adam: A Method for Stochastic Optimization\"],[\"BERT: Pre-training of Deep Bidirectional Transformers for Language Understanding\"],[\"Attention is All you Need\"],[\"GloVe: Global Vectors for Word Representation\"],[\"Long Short-Term Memory\"],[\"Sequence to Sequence Learning with Neural Networks\"],[\"Neural Machine Translation by Jointly Learning to Align and Translate\"],[\"Recursive Deep Models for Semantic Compositionality Over a Sentiment Treebank\"],[\"Dropout: a simple way to prevent neural networks from overfitting\"]],\"hovertemplate\":\"Cited By=R. Socher<br>Component 1=%{x}<br>Component 2=%{y}<br>Citations=%{marker.size}<br>Title=%{customdata[0]}<extra></extra>\",\"legendgroup\":\"R. Socher\",\"marker\":{\"color\":\"#FF6692\",\"size\":[19,16,79,54,30,29,22,19,32,25],\"sizemode\":\"area\",\"sizeref\":0.43555555555555553,\"symbol\":\"diamond\"},\"mode\":\"markers\",\"name\":\"R. Socher\",\"orientation\":\"v\",\"showlegend\":true,\"x\":[-4.5317301750183105,0.3284124732017517,-0.2992865741252899,-2.1612155437469482,0.5520153045654297,-11.607636451721191,-2.1168086528778076,-3.679344892501831,-0.27873340249061584,-3.638641119003296],\"xaxis\":\"x\",\"y\":[4.279771327972412,9.60963249206543,-3.938654899597168,-4.272042274475098,-10.219381332397461,5.696115493774414,-5.269165515899658,-6.577773571014404,-8.426416397094727,8.017667770385742],\"yaxis\":\"y\",\"type\":\"scatter\"},{\"customdata\":[[\"Deep Residual Learning for Image Recognition\"],[\"ImageNet classification with deep convolutional neural networks\"],[\"Gradient-based learning applied to document recognition\"],[\"Handwritten Digit Recognition with a Back-Propagation Network\"],[\"Sparse coding with an overcomplete basis set: A strategy employed by V1?\"],[\"Generalization and network design strategies\"],[\"A Simple Framework for Contrastive Learning of Visual Representations\"],[\"Backpropagation Applied to Handwritten Zip Code Recognition\"],[\"What is the best multi-stage architecture for object recognition?\"],[\"Histograms of oriented gradients for human detection\"]],\"hovertemplate\":\"Cited By=Yann LeCun<br>Component 1=%{x}<br>Component 2=%{y}<br>Citations=%{marker.size}<br>Title=%{customdata[0]}<extra></extra>\",\"legendgroup\":\"Yann LeCun\",\"marker\":{\"color\":\"#B6E880\",\"size\":[19,21,4,38,30,29,29,29,29,28],\"sizemode\":\"area\",\"sizeref\":0.43555555555555553,\"symbol\":\"square\"},\"mode\":\"markers\",\"name\":\"Yann LeCun\",\"orientation\":\"v\",\"showlegend\":true,\"x\":[-4.5317301750183105,-3.710440158843994,-9.601752281188965,-11.138863563537598,-7.2336649894714355,19.28968620300293,-5.819359302520752,-11.444025993347168,-8.910917282104492,-10.908621788024902],\"xaxis\":\"x\",\"y\":[4.279771327972412,4.718155860900879,7.1768412590026855,8.3234224319458,5.855816841125488,13.176200866699219,1.929013729095459,8.5557222366333,2.5531187057495117,-1.8607416152954102],\"yaxis\":\"y\",\"type\":\"scatter\"},{\"customdata\":[[\"ImageNet: A large-scale hierarchical image database\"],[\"Long Short-Term Memory\"],[\"ImageNet classification with deep convolutional neural networks\"],[\"Rich Feature Hierarchies for Accurate Object Detection and Semantic Segmentation\"],[\"DeViSE: A Deep Visual-Semantic Embedding Model\"],[\"Recurrent neural network based language model\"],[\"Long-term recurrent convolutional networks for visual recognition and description\"],[\"Every Picture Tells a Story: Generating Sentences from Images\"],[\"Gradient-based learning applied to document recognition\"],[\"Matching Words and Pictures\"]],\"hovertemplate\":\"Cited By=A. Karpathy<br>Component 1=%{x}<br>Component 2=%{y}<br>Citations=%{marker.size}<br>Title=%{customdata[0]}<extra></extra>\",\"legendgroup\":\"A. Karpathy\",\"marker\":{\"color\":\"#FF97FF\",\"size\":[18,29,21,5,4,4,4,4,4,4],\"sizemode\":\"area\",\"sizeref\":0.43555555555555553,\"symbol\":\"x\"},\"mode\":\"markers\",\"name\":\"A. Karpathy\",\"orientation\":\"v\",\"showlegend\":true,\"x\":[-19.349748611450195,-11.607636451721191,-3.710440158843994,-9.354066848754883,-6.118341445922852,-5.578170299530029,-2.663163661956787,-19.48003387451172,-9.601752281188965,-19.22540855407715],\"xaxis\":\"x\",\"y\":[12.146120071411133,5.696115493774414,4.718155860900879,-0.6033658981323242,0.6212644577026367,-5.437608242034912,-0.5288877487182617,8.48691463470459,7.1768412590026855,11.36865234375],\"yaxis\":\"y\",\"type\":\"scatter\"},{\"customdata\":[[\"Adam: A Method for Stochastic Optimization\"],[\"BERT: Pre-training of Deep Bidirectional Transformers for Language Understanding\"],[\"Bleu: a Method for Automatic Evaluation of Machine Translation\"],[\"Building a Large Annotated Corpus of English: The Penn Treebank\"],[\"Conditional Random Fields: Probabilistic Models for Segmenting and Labeling Sequence Data\"],[\"Latent Dirichlet Allocation\"],[\"CoNLL-X Shared Task on Multilingual Dependency Parsing\"],[\"Class-Based n-gram Models of Natural Language\"],[\"GloVe: Global Vectors for Word Representation\"],[\"Long Short-Term Memory\"]],\"hovertemplate\":\"Cited By=Noah Smith<br>Component 1=%{x}<br>Component 2=%{y}<br>Citations=%{marker.size}<br>Title=%{customdata[0]}<extra></extra>\",\"legendgroup\":\"Noah Smith\",\"marker\":{\"color\":\"#FECB52\",\"size\":[16,79,59,55,39,37,31,30,30,29],\"sizemode\":\"area\",\"sizeref\":0.43555555555555553,\"symbol\":\"cross\"},\"mode\":\"markers\",\"name\":\"Noah Smith\",\"orientation\":\"v\",\"showlegend\":true,\"x\":[0.3284124732017517,-0.2992865741252899,4.1093668937683105,4.165096759796143,6.786605358123779,6.832851409912109,3.9999728202819824,1.5362787246704102,0.5520153045654297,-11.607636451721191],\"xaxis\":\"x\",\"y\":[9.60963249206543,-3.938654899597168,-12.387539863586426,-10.88334846496582,-4.125178337097168,-5.135392189025879,-9.922269821166992,-11.140521049499512,-10.219381332397461,5.696115493774414],\"yaxis\":\"y\",\"type\":\"scatter\"},{\"customdata\":[[\"Adam: A Method for Stochastic Optimization\"],[\"Language Models are Unsupervised Multitask Learners\"],[\"BERT: Pre-training of Deep Bidirectional Transformers for Language Understanding\"],[\"Exploring the Limits of Transfer Learning with a Unified Text-to-Text Transformer\"],[\"Attention is All you Need\"],[\"Language Models are Few-Shot Learners\"],[\"RoBERTa: A Robustly Optimized BERT Pretraining Approach\"],[\"SQuAD: 100,000+ Questions for Machine Comprehension of Text\"],[\"Natural Questions: A Benchmark for Question Answering Research\"],[\"Reading Wikipedia to Answer Open-Domain Questions\"]],\"hovertemplate\":\"Cited By=Hannaneh Hajishirzi<br>Component 1=%{x}<br>Component 2=%{y}<br>Citations=%{marker.size}<br>Title=%{customdata[0]}<extra></extra>\",\"legendgroup\":\"Hannaneh Hajishirzi\",\"marker\":{\"color\":\"#636efa\",\"size\":[16,94,79,55,54,47,45,19,23,21],\"sizemode\":\"area\",\"sizeref\":0.43555555555555553,\"symbol\":\"circle\"},\"mode\":\"markers\",\"name\":\"Hannaneh Hajishirzi\",\"orientation\":\"v\",\"showlegend\":true,\"x\":[0.3284124732017517,0.30111828446388245,-0.2992865741252899,1.6984273195266724,-2.1612155437469482,1.0693576335906982,0.7883487939834595,3.991300582885742,5.332825660705566,3.2136502265930176],\"xaxis\":\"x\",\"y\":[9.60963249206543,-6.186047554016113,-3.938654899597168,-6.809671401977539,-4.272042274475098,-5.341207981109619,6.4025702476501465,-16.51055908203125,-16.850074768066406,-16.84386444091797],\"yaxis\":\"y\",\"type\":\"scatter\"},{\"customdata\":[[\"Adam: A Method for Stochastic Optimization\"],[\"Long Short-Term Memory\"],[\"Sequence to Sequence Learning with Neural Networks\"],[\"ImageNet classification with deep convolutional neural networks\"],[\"Neural Machine Translation by Jointly Learning to Align and Translate\"],[\"Learning Phrase Representations using RNN Encoder\\u2013Decoder for Statistical Machine Translation\"],[\"Reducing the Dimensionality of Data with Neural Networks\"],[\"Learning representations by back-propagating errors\"],[\"A Fast Learning Algorithm for Deep Belief Nets\"],[\"Generating Sequences With Recurrent Neural Networks\"]],\"hovertemplate\":\"Cited By=Ilya Sutskever<br>Component 1=%{x}<br>Component 2=%{y}<br>Citations=%{marker.size}<br>Title=%{customdata[0]}<extra></extra>\",\"legendgroup\":\"Ilya Sutskever\",\"marker\":{\"color\":\"#EF553B\",\"size\":[16,29,22,21,19,17,16,15,14,14],\"sizemode\":\"area\",\"sizeref\":0.43555555555555553,\"symbol\":\"diamond\"},\"mode\":\"markers\",\"name\":\"Ilya Sutskever\",\"orientation\":\"v\",\"showlegend\":true,\"x\":[0.3284124732017517,-11.607636451721191,-2.1168086528778076,-3.710440158843994,-3.679344892501831,-4.43073844909668,-3.8754115104675293,-8.882418632507324,-6.212015628814697,-11.624964714050293],\"xaxis\":\"x\",\"y\":[9.60963249206543,5.696115493774414,-5.269165515899658,4.718155860900879,-6.577773571014404,-6.275676727294922,11.707853317260742,11.125338554382324,10.286439895629883,11.541309356689453],\"yaxis\":\"y\",\"type\":\"scatter\"},{\"customdata\":[[\"Adam: A Method for Stochastic Optimization\"],[\"Long Short-Term Memory\"],[\"ImageNet classification with deep convolutional neural networks\"],[\"Neural Machine Translation by Jointly Learning to Align and Translate\"],[\"A Fast Learning Algorithm for Deep Belief Nets\"],[\"Gradient-based learning applied to document recognition\"],[\"Learning Deep Architectures for AI\"],[\"Batch Normalization: Accelerating Deep Network Training by Reducing Internal Covariate Shift\"],[\"Learning long-term dependencies with gradient descent is difficult\"],[\"Theano: new features and speed improvements\"]],\"hovertemplate\":\"Cited By=Yoshua Bengio<br>Component 1=%{x}<br>Component 2=%{y}<br>Citations=%{marker.size}<br>Title=%{customdata[0]}<extra></extra>\",\"legendgroup\":\"Yoshua Bengio\",\"marker\":{\"color\":\"#00cc96\",\"size\":[16,29,21,19,14,4,98,82,76,75],\"sizemode\":\"area\",\"sizeref\":0.43555555555555553,\"symbol\":\"square\"},\"mode\":\"markers\",\"name\":\"Yoshua Bengio\",\"orientation\":\"v\",\"showlegend\":true,\"x\":[0.3284124732017517,-11.607636451721191,-3.710440158843994,-3.679344892501831,-6.212015628814697,-9.601752281188965,-6.26415491104126,-1.6787835359573364,-10.679730415344238,-14.24741268157959],\"xaxis\":\"x\",\"y\":[9.60963249206543,5.696115493774414,4.718155860900879,-6.577773571014404,10.286439895629883,7.1768412590026855,8.894392967224121,8.33055591583252,11.368063926696777,9.893502235412598],\"yaxis\":\"y\",\"type\":\"scatter\"},{\"customdata\":[[\"Adam: A Method for Stochastic Optimization\"],[\"Gradient-based learning applied to document recognition\"],[\"Intriguing properties of neural networks\"],[\"Explaining and Harnessing Adversarial Examples\"],[\"Adversarial examples in the physical world\"],[\"Learning Multiple Layers of Features from Tiny Images\"],[\"Towards Deep Learning Models Resistant to Adversarial Attacks\"],[\"Generative Adversarial Nets\"],[\"Evasion Attacks against Machine Learning at Test Time\"],[\"Deep Boltzmann Machines\"]],\"hovertemplate\":\"Cited By=Ian J. Goodfellow<br>Component 1=%{x}<br>Component 2=%{y}<br>Citations=%{marker.size}<br>Title=%{customdata[0]}<extra></extra>\",\"legendgroup\":\"Ian J. Goodfellow\",\"marker\":{\"color\":\"#ab63fa\",\"size\":[16,4,42,35,21,19,18,18,18,17],\"sizemode\":\"area\",\"sizeref\":0.43555555555555553,\"symbol\":\"x\"},\"mode\":\"markers\",\"name\":\"Ian J. Goodfellow\",\"orientation\":\"v\",\"showlegend\":true,\"x\":[0.3284124732017517,-9.601752281188965,-5.145440578460693,1.3399068117141724,1.9753698110580444,-5.682212829589844,1.2095192670822144,1.1635496616363525,1.814204216003418,-7.01943302154541],\"xaxis\":\"x\",\"y\":[9.60963249206543,7.1768412590026855,6.962349891662598,14.547245979309082,15.721752166748047,5.912774562835693,15.90350341796875,13.358663558959961,17.0621337890625,10.34492015838623],\"yaxis\":\"y\",\"type\":\"scatter\"},{\"customdata\":[[\"Language Models are Unsupervised Multitask Learners\"],[\"BERT: Pre-training of Deep Bidirectional Transformers for Language Understanding\"],[\"Bleu: a Method for Automatic Evaluation of Machine Translation\"],[\"Exploring the Limits of Transfer Learning with a Unified Text-to-Text Transformer\"],[\"Attention is All you Need\"],[\"The Curious Case of Neural Text Degeneration\"],[\"Language Models are Few-Shot Learners\"],[\"ROUGE: A Package for Automatic Evaluation of Summaries\"],[\"RoBERTa: A Robustly Optimized BERT Pretraining Approach\"],[\"ATOMIC: An Atlas of Machine Commonsense for If-Then Reasoning\"]],\"hovertemplate\":\"Cited By=Yejin Choi<br>Component 1=%{x}<br>Component 2=%{y}<br>Citations=%{marker.size}<br>Title=%{customdata[0]}<extra></extra>\",\"legendgroup\":\"Yejin Choi\",\"marker\":{\"color\":\"#FFA15A\",\"size\":[94,79,59,55,54,50,47,47,45,39],\"sizemode\":\"area\",\"sizeref\":0.43555555555555553,\"symbol\":\"cross\"},\"mode\":\"markers\",\"name\":\"Yejin Choi\",\"orientation\":\"v\",\"showlegend\":true,\"x\":[0.30111828446388245,-0.2992865741252899,4.1093668937683105,1.6984273195266724,-2.1612155437469482,-4.72217321395874,1.0693576335906982,3.5292489528656006,0.7883487939834595,7.43034553527832],\"xaxis\":\"x\",\"y\":[-6.186047554016113,-3.938654899597168,-12.387539863586426,-6.809671401977539,-4.272042274475098,-9.663043975830078,-5.341207981109619,-13.726766586303711,6.4025702476501465,-20.16896629333496],\"yaxis\":\"y\",\"type\":\"scatter\"},{\"customdata\":[[\"Reducing the Dimensionality of Data with Neural Networks\"],[\"Learning representations by back-propagating errors\"],[\"A Fast Learning Algorithm for Deep Belief Nets\"],[\"Training Products of Experts by Minimizing Contrastive Divergence\"],[\"Exponential Family Harmoniums with an Application to Information Retrieval\"],[\"Maximum likelihood from incomplete data via the EM - algorithm plus discussions on the paper\"],[\"A Learning Algorithm for Boltzmann Machines\"],[\"Information processing in dynamical systems: foundations of harmony theory\"],[\"Neural networks and physical systems with emergent collective computational abilities.\"],[\"Learning and relearning in Boltzmann machines\"]],\"hovertemplate\":\"Cited By=Geoffrey E. Hinton<br>Component 1=%{x}<br>Component 2=%{y}<br>Citations=%{marker.size}<br>Title=%{customdata[0]}<extra></extra>\",\"legendgroup\":\"Geoffrey E. Hinton\",\"marker\":{\"color\":\"#19d3f3\",\"size\":[16,15,14,95,34,31,30,28,27,27],\"sizemode\":\"area\",\"sizeref\":0.43555555555555553,\"symbol\":\"circle\"},\"mode\":\"markers\",\"name\":\"Geoffrey E. Hinton\",\"orientation\":\"v\",\"showlegend\":true,\"x\":[-3.8754115104675293,-8.882418632507324,-6.212015628814697,1.607441782951355,7.610198974609375,-13.249784469604492,-16.241918563842773,-16.90448760986328,-16.755369186401367,-14.673104286193848],\"xaxis\":\"x\",\"y\":[11.707853317260742,11.125338554382324,10.286439895629883,11.543919563293457,-5.591578960418701,4.681705951690674,3.3675537109375,1.6429263353347778,3.1487951278686523,9.56807804107666],\"yaxis\":\"y\",\"type\":\"scatter\"}],                        {\"template\":{\"data\":{\"histogram2dcontour\":[{\"type\":\"histogram2dcontour\",\"colorbar\":{\"outlinewidth\":0,\"ticks\":\"\"},\"colorscale\":[[0.0,\"#0d0887\"],[0.1111111111111111,\"#46039f\"],[0.2222222222222222,\"#7201a8\"],[0.3333333333333333,\"#9c179e\"],[0.4444444444444444,\"#bd3786\"],[0.5555555555555556,\"#d8576b\"],[0.6666666666666666,\"#ed7953\"],[0.7777777777777778,\"#fb9f3a\"],[0.8888888888888888,\"#fdca26\"],[1.0,\"#f0f921\"]]}],\"choropleth\":[{\"type\":\"choropleth\",\"colorbar\":{\"outlinewidth\":0,\"ticks\":\"\"}}],\"histogram2d\":[{\"type\":\"histogram2d\",\"colorbar\":{\"outlinewidth\":0,\"ticks\":\"\"},\"colorscale\":[[0.0,\"#0d0887\"],[0.1111111111111111,\"#46039f\"],[0.2222222222222222,\"#7201a8\"],[0.3333333333333333,\"#9c179e\"],[0.4444444444444444,\"#bd3786\"],[0.5555555555555556,\"#d8576b\"],[0.6666666666666666,\"#ed7953\"],[0.7777777777777778,\"#fb9f3a\"],[0.8888888888888888,\"#fdca26\"],[1.0,\"#f0f921\"]]}],\"heatmap\":[{\"type\":\"heatmap\",\"colorbar\":{\"outlinewidth\":0,\"ticks\":\"\"},\"colorscale\":[[0.0,\"#0d0887\"],[0.1111111111111111,\"#46039f\"],[0.2222222222222222,\"#7201a8\"],[0.3333333333333333,\"#9c179e\"],[0.4444444444444444,\"#bd3786\"],[0.5555555555555556,\"#d8576b\"],[0.6666666666666666,\"#ed7953\"],[0.7777777777777778,\"#fb9f3a\"],[0.8888888888888888,\"#fdca26\"],[1.0,\"#f0f921\"]]}],\"heatmapgl\":[{\"type\":\"heatmapgl\",\"colorbar\":{\"outlinewidth\":0,\"ticks\":\"\"},\"colorscale\":[[0.0,\"#0d0887\"],[0.1111111111111111,\"#46039f\"],[0.2222222222222222,\"#7201a8\"],[0.3333333333333333,\"#9c179e\"],[0.4444444444444444,\"#bd3786\"],[0.5555555555555556,\"#d8576b\"],[0.6666666666666666,\"#ed7953\"],[0.7777777777777778,\"#fb9f3a\"],[0.8888888888888888,\"#fdca26\"],[1.0,\"#f0f921\"]]}],\"contourcarpet\":[{\"type\":\"contourcarpet\",\"colorbar\":{\"outlinewidth\":0,\"ticks\":\"\"}}],\"contour\":[{\"type\":\"contour\",\"colorbar\":{\"outlinewidth\":0,\"ticks\":\"\"},\"colorscale\":[[0.0,\"#0d0887\"],[0.1111111111111111,\"#46039f\"],[0.2222222222222222,\"#7201a8\"],[0.3333333333333333,\"#9c179e\"],[0.4444444444444444,\"#bd3786\"],[0.5555555555555556,\"#d8576b\"],[0.6666666666666666,\"#ed7953\"],[0.7777777777777778,\"#fb9f3a\"],[0.8888888888888888,\"#fdca26\"],[1.0,\"#f0f921\"]]}],\"surface\":[{\"type\":\"surface\",\"colorbar\":{\"outlinewidth\":0,\"ticks\":\"\"},\"colorscale\":[[0.0,\"#0d0887\"],[0.1111111111111111,\"#46039f\"],[0.2222222222222222,\"#7201a8\"],[0.3333333333333333,\"#9c179e\"],[0.4444444444444444,\"#bd3786\"],[0.5555555555555556,\"#d8576b\"],[0.6666666666666666,\"#ed7953\"],[0.7777777777777778,\"#fb9f3a\"],[0.8888888888888888,\"#fdca26\"],[1.0,\"#f0f921\"]]}],\"mesh3d\":[{\"type\":\"mesh3d\",\"colorbar\":{\"outlinewidth\":0,\"ticks\":\"\"}}],\"scatter\":[{\"fillpattern\":{\"fillmode\":\"overlay\",\"size\":10,\"solidity\":0.2},\"type\":\"scatter\"}],\"parcoords\":[{\"type\":\"parcoords\",\"line\":{\"colorbar\":{\"outlinewidth\":0,\"ticks\":\"\"}}}],\"scatterpolargl\":[{\"type\":\"scatterpolargl\",\"marker\":{\"colorbar\":{\"outlinewidth\":0,\"ticks\":\"\"}}}],\"bar\":[{\"error_x\":{\"color\":\"#2a3f5f\"},\"error_y\":{\"color\":\"#2a3f5f\"},\"marker\":{\"line\":{\"color\":\"#E5ECF6\",\"width\":0.5},\"pattern\":{\"fillmode\":\"overlay\",\"size\":10,\"solidity\":0.2}},\"type\":\"bar\"}],\"scattergeo\":[{\"type\":\"scattergeo\",\"marker\":{\"colorbar\":{\"outlinewidth\":0,\"ticks\":\"\"}}}],\"scatterpolar\":[{\"type\":\"scatterpolar\",\"marker\":{\"colorbar\":{\"outlinewidth\":0,\"ticks\":\"\"}}}],\"histogram\":[{\"marker\":{\"pattern\":{\"fillmode\":\"overlay\",\"size\":10,\"solidity\":0.2}},\"type\":\"histogram\"}],\"scattergl\":[{\"type\":\"scattergl\",\"marker\":{\"colorbar\":{\"outlinewidth\":0,\"ticks\":\"\"}}}],\"scatter3d\":[{\"type\":\"scatter3d\",\"line\":{\"colorbar\":{\"outlinewidth\":0,\"ticks\":\"\"}},\"marker\":{\"colorbar\":{\"outlinewidth\":0,\"ticks\":\"\"}}}],\"scattermapbox\":[{\"type\":\"scattermapbox\",\"marker\":{\"colorbar\":{\"outlinewidth\":0,\"ticks\":\"\"}}}],\"scatterternary\":[{\"type\":\"scatterternary\",\"marker\":{\"colorbar\":{\"outlinewidth\":0,\"ticks\":\"\"}}}],\"scattercarpet\":[{\"type\":\"scattercarpet\",\"marker\":{\"colorbar\":{\"outlinewidth\":0,\"ticks\":\"\"}}}],\"carpet\":[{\"aaxis\":{\"endlinecolor\":\"#2a3f5f\",\"gridcolor\":\"white\",\"linecolor\":\"white\",\"minorgridcolor\":\"white\",\"startlinecolor\":\"#2a3f5f\"},\"baxis\":{\"endlinecolor\":\"#2a3f5f\",\"gridcolor\":\"white\",\"linecolor\":\"white\",\"minorgridcolor\":\"white\",\"startlinecolor\":\"#2a3f5f\"},\"type\":\"carpet\"}],\"table\":[{\"cells\":{\"fill\":{\"color\":\"#EBF0F8\"},\"line\":{\"color\":\"white\"}},\"header\":{\"fill\":{\"color\":\"#C8D4E3\"},\"line\":{\"color\":\"white\"}},\"type\":\"table\"}],\"barpolar\":[{\"marker\":{\"line\":{\"color\":\"#E5ECF6\",\"width\":0.5},\"pattern\":{\"fillmode\":\"overlay\",\"size\":10,\"solidity\":0.2}},\"type\":\"barpolar\"}],\"pie\":[{\"automargin\":true,\"type\":\"pie\"}]},\"layout\":{\"autotypenumbers\":\"strict\",\"colorway\":[\"#636efa\",\"#EF553B\",\"#00cc96\",\"#ab63fa\",\"#FFA15A\",\"#19d3f3\",\"#FF6692\",\"#B6E880\",\"#FF97FF\",\"#FECB52\"],\"font\":{\"color\":\"#2a3f5f\"},\"hovermode\":\"closest\",\"hoverlabel\":{\"align\":\"left\"},\"paper_bgcolor\":\"white\",\"plot_bgcolor\":\"#E5ECF6\",\"polar\":{\"bgcolor\":\"#E5ECF6\",\"angularaxis\":{\"gridcolor\":\"white\",\"linecolor\":\"white\",\"ticks\":\"\"},\"radialaxis\":{\"gridcolor\":\"white\",\"linecolor\":\"white\",\"ticks\":\"\"}},\"ternary\":{\"bgcolor\":\"#E5ECF6\",\"aaxis\":{\"gridcolor\":\"white\",\"linecolor\":\"white\",\"ticks\":\"\"},\"baxis\":{\"gridcolor\":\"white\",\"linecolor\":\"white\",\"ticks\":\"\"},\"caxis\":{\"gridcolor\":\"white\",\"linecolor\":\"white\",\"ticks\":\"\"}},\"coloraxis\":{\"colorbar\":{\"outlinewidth\":0,\"ticks\":\"\"}},\"colorscale\":{\"sequential\":[[0.0,\"#0d0887\"],[0.1111111111111111,\"#46039f\"],[0.2222222222222222,\"#7201a8\"],[0.3333333333333333,\"#9c179e\"],[0.4444444444444444,\"#bd3786\"],[0.5555555555555556,\"#d8576b\"],[0.6666666666666666,\"#ed7953\"],[0.7777777777777778,\"#fb9f3a\"],[0.8888888888888888,\"#fdca26\"],[1.0,\"#f0f921\"]],\"sequentialminus\":[[0.0,\"#0d0887\"],[0.1111111111111111,\"#46039f\"],[0.2222222222222222,\"#7201a8\"],[0.3333333333333333,\"#9c179e\"],[0.4444444444444444,\"#bd3786\"],[0.5555555555555556,\"#d8576b\"],[0.6666666666666666,\"#ed7953\"],[0.7777777777777778,\"#fb9f3a\"],[0.8888888888888888,\"#fdca26\"],[1.0,\"#f0f921\"]],\"diverging\":[[0,\"#8e0152\"],[0.1,\"#c51b7d\"],[0.2,\"#de77ae\"],[0.3,\"#f1b6da\"],[0.4,\"#fde0ef\"],[0.5,\"#f7f7f7\"],[0.6,\"#e6f5d0\"],[0.7,\"#b8e186\"],[0.8,\"#7fbc41\"],[0.9,\"#4d9221\"],[1,\"#276419\"]]},\"xaxis\":{\"gridcolor\":\"white\",\"linecolor\":\"white\",\"ticks\":\"\",\"title\":{\"standoff\":15},\"zerolinecolor\":\"white\",\"automargin\":true,\"zerolinewidth\":2},\"yaxis\":{\"gridcolor\":\"white\",\"linecolor\":\"white\",\"ticks\":\"\",\"title\":{\"standoff\":15},\"zerolinecolor\":\"white\",\"automargin\":true,\"zerolinewidth\":2},\"scene\":{\"xaxis\":{\"backgroundcolor\":\"#E5ECF6\",\"gridcolor\":\"white\",\"linecolor\":\"white\",\"showbackground\":true,\"ticks\":\"\",\"zerolinecolor\":\"white\",\"gridwidth\":2},\"yaxis\":{\"backgroundcolor\":\"#E5ECF6\",\"gridcolor\":\"white\",\"linecolor\":\"white\",\"showbackground\":true,\"ticks\":\"\",\"zerolinecolor\":\"white\",\"gridwidth\":2},\"zaxis\":{\"backgroundcolor\":\"#E5ECF6\",\"gridcolor\":\"white\",\"linecolor\":\"white\",\"showbackground\":true,\"ticks\":\"\",\"zerolinecolor\":\"white\",\"gridwidth\":2}},\"shapedefaults\":{\"line\":{\"color\":\"#2a3f5f\"}},\"annotationdefaults\":{\"arrowcolor\":\"#2a3f5f\",\"arrowhead\":0,\"arrowwidth\":1},\"geo\":{\"bgcolor\":\"white\",\"landcolor\":\"#E5ECF6\",\"subunitcolor\":\"white\",\"showland\":true,\"showlakes\":true,\"lakecolor\":\"white\"},\"title\":{\"x\":0.05},\"mapbox\":{\"style\":\"light\"}}},\"xaxis\":{\"anchor\":\"y\",\"domain\":[0.0,1.0],\"title\":{\"text\":\"Component 1\"}},\"yaxis\":{\"anchor\":\"x\",\"domain\":[0.0,1.0],\"title\":{\"text\":\"Component 2\"}},\"legend\":{\"title\":{\"text\":\"Cited By\"},\"tracegroupgap\":0,\"itemsizing\":\"constant\"},\"title\":{\"text\":\"Top Citations by Authors\"}},                        {\"responsive\": true}                    ).then(function(){\n",
       "                            \n",
       "var gd = document.getElementById('509e8844-ecee-4a3f-8d55-a623ea9777d1');\n",
       "var x = new MutationObserver(function (mutations, observer) {{\n",
       "        var display = window.getComputedStyle(gd).display;\n",
       "        if (!display || display === 'none') {{\n",
       "            console.log([gd, 'removed!']);\n",
       "            Plotly.purge(gd);\n",
       "            observer.disconnect();\n",
       "        }}\n",
       "}});\n",
       "\n",
       "// Listen for the removal of the full notebook cells\n",
       "var notebookContainer = gd.closest('#notebook-container');\n",
       "if (notebookContainer) {{\n",
       "    x.observe(notebookContainer, {childList: true});\n",
       "}}\n",
       "\n",
       "// Listen for the clearing of the current output cell\n",
       "var outputEl = gd.closest('.output');\n",
       "if (outputEl) {{\n",
       "    x.observe(outputEl, {childList: true});\n",
       "}}\n",
       "\n",
       "                        })                };                });            </script>        </div>"
      ]
     },
     "metadata": {},
     "output_type": "display_data"
    }
   ],
   "source": [
    "fig=px.scatter(reduced_df, x=\"Dim 1\", y=\"Dim 2\", color=\"Cited By\", symbol=\"Cited By\", title=\"Top Citations by Authors\",\n",
    "               hover_data=[\"Title\"], size=\"Citations\", size_max=15)\n",
    "fig.show(\"png\")\n",
    "fig.show()"
   ]
  },
  {
   "cell_type": "code",
   "execution_count": 70,
   "id": "a5b07453",
   "metadata": {},
   "outputs": [
    {
     "data": {
      "image/png": "[encoded data removed]"
     },
     "metadata": {},
     "output_type": "display_data"
    },
    {
     "data": {
      "application/vnd.plotly.v1+json": {
       "config": {
        "plotlyServerURL": "https://plot.ly"
       },
       "data": [
        {
         "hovertemplate": "Authors=Dan Weld<br>Component 1=%{x}<br>Component 2=%{y}<extra></extra>",
         "legendgroup": "Dan Weld",
         "marker": {
          "color": "#636efa",
          "size": 15,
          "symbol": "circle"
         },
         "mode": "markers",
         "name": "Dan Weld",
         "orientation": "v",
         "showlegend": true,
         "type": "scatter",
         "x": [
          16.666738510131836
         ],
         "xaxis": "x",
         "y": [
          6.298088073730469
         ],
         "yaxis": "y"
        },
        {
         "hovertemplate": "Authors=Oren Etzioni<br>Component 1=%{x}<br>Component 2=%{y}<extra></extra>",
         "legendgroup": "Oren Etzioni",
         "marker": {
          "color": "#EF553B",
          "size": 15,
          "symbol": "diamond"
         },
         "mode": "markers",
         "name": "Oren Etzioni",
         "orientation": "v",
         "showlegend": true,
         "type": "scatter",
         "x": [
          12.39452075958252
         ],
         "xaxis": "x",
         "y": [
          -6.02788782119751
         ],
         "yaxis": "y"
        },
        {
         "hovertemplate": "Authors=Peter Clark<br>Component 1=%{x}<br>Component 2=%{y}<extra></extra>",
         "legendgroup": "Peter Clark",
         "marker": {
          "color": "#00cc96",
          "size": 15,
          "symbol": "square"
         },
         "mode": "markers",
         "name": "Peter Clark",
         "orientation": "v",
         "showlegend": true,
         "type": "scatter",
         "x": [
          6.018837928771973
         ],
         "xaxis": "x",
         "y": [
          -14.195287704467773
         ],
         "yaxis": "y"
        },
        {
         "hovertemplate": "Authors=Ani Kembhavi<br>Component 1=%{x}<br>Component 2=%{y}<extra></extra>",
         "legendgroup": "Ani Kembhavi",
         "marker": {
          "color": "#ab63fa",
          "size": 15,
          "symbol": "x"
         },
         "mode": "markers",
         "name": "Ani Kembhavi",
         "orientation": "v",
         "showlegend": true,
         "type": "scatter",
         "x": [
          3.9754459857940674
         ],
         "xaxis": "x",
         "y": [
          5.432938575744629
         ],
         "yaxis": "y"
        },
        {
         "hovertemplate": "Authors=Li Fei-Fei<br>Component 1=%{x}<br>Component 2=%{y}<extra></extra>",
         "legendgroup": "Li Fei-Fei",
         "marker": {
          "color": "#FFA15A",
          "size": 15,
          "symbol": "cross"
         },
         "mode": "markers",
         "name": "Li Fei-Fei",
         "orientation": "v",
         "showlegend": true,
         "type": "scatter",
         "x": [
          -7.830873012542725
         ],
         "xaxis": "x",
         "y": [
          3.26411771774292
         ],
         "yaxis": "y"
        },
        {
         "hovertemplate": "Authors=Jeremy Howard<br>Component 1=%{x}<br>Component 2=%{y}<extra></extra>",
         "legendgroup": "Jeremy Howard",
         "marker": {
          "color": "#19d3f3",
          "size": 15,
          "symbol": "circle"
         },
         "mode": "markers",
         "name": "Jeremy Howard",
         "orientation": "v",
         "showlegend": true,
         "type": "scatter",
         "x": [
          -1.2595634460449219
         ],
         "xaxis": "x",
         "y": [
          1.267685890197754
         ],
         "yaxis": "y"
        },
        {
         "hovertemplate": "Authors=R. Socher<br>Component 1=%{x}<br>Component 2=%{y}<extra></extra>",
         "legendgroup": "R. Socher",
         "marker": {
          "color": "#FF6692",
          "size": 15,
          "symbol": "diamond"
         },
         "mode": "markers",
         "name": "R. Socher",
         "orientation": "v",
         "showlegend": true,
         "type": "scatter",
         "x": [
          -2.7432971000671387
         ],
         "xaxis": "x",
         "y": [
          -1.1100246906280518
         ],
         "yaxis": "y"
        },
        {
         "hovertemplate": "Authors=Yann LeCun<br>Component 1=%{x}<br>Component 2=%{y}<extra></extra>",
         "legendgroup": "Yann LeCun",
         "marker": {
          "color": "#B6E880",
          "size": 15,
          "symbol": "square"
         },
         "mode": "markers",
         "name": "Yann LeCun",
         "orientation": "v",
         "showlegend": true,
         "type": "scatter",
         "x": [
          -5.4009690284729
         ],
         "xaxis": "x",
         "y": [
          5.47073221206665
         ],
         "yaxis": "y"
        },
        {
         "hovertemplate": "Authors=A. Karpathy<br>Component 1=%{x}<br>Component 2=%{y}<extra></extra>",
         "legendgroup": "A. Karpathy",
         "marker": {
          "color": "#FF97FF",
          "size": 15,
          "symbol": "x"
         },
         "mode": "markers",
         "name": "A. Karpathy",
         "orientation": "v",
         "showlegend": true,
         "type": "scatter",
         "x": [
          -10.668876647949219
         ],
         "xaxis": "x",
         "y": [
          4.364420413970947
         ],
         "yaxis": "y"
        },
        {
         "hovertemplate": "Authors=Noah Smith<br>Component 1=%{x}<br>Component 2=%{y}<extra></extra>",
         "legendgroup": "Noah Smith",
         "marker": {
          "color": "#FECB52",
          "size": 15,
          "symbol": "cross"
         },
         "mode": "markers",
         "name": "Noah Smith",
         "orientation": "v",
         "showlegend": true,
         "type": "scatter",
         "x": [
          1.6403675079345703
         ],
         "xaxis": "x",
         "y": [
          -5.244654178619385
         ],
         "yaxis": "y"
        },
        {
         "hovertemplate": "Authors=Hannaneh Hajishirzi<br>Component 1=%{x}<br>Component 2=%{y}<extra></extra>",
         "legendgroup": "Hannaneh Hajishirzi",
         "marker": {
          "color": "#636efa",
          "size": 15,
          "symbol": "circle"
         },
         "mode": "markers",
         "name": "Hannaneh Hajishirzi",
         "orientation": "v",
         "showlegend": true,
         "type": "scatter",
         "x": [
          1.426293969154358
         ],
         "xaxis": "x",
         "y": [
          -6.0739922523498535
         ],
         "yaxis": "y"
        },
        {
         "hovertemplate": "Authors=Ilya Sutskever<br>Component 1=%{x}<br>Component 2=%{y}<extra></extra>",
         "legendgroup": "Ilya Sutskever",
         "marker": {
          "color": "#EF553B",
          "size": 15,
          "symbol": "diamond"
         },
         "mode": "markers",
         "name": "Ilya Sutskever",
         "orientation": "v",
         "showlegend": true,
         "type": "scatter",
         "x": [
          -5.581136703491211
         ],
         "xaxis": "x",
         "y": [
          4.656222820281982
         ],
         "yaxis": "y"
        },
        {
         "hovertemplate": "Authors=Yoshua Bengio<br>Component 1=%{x}<br>Component 2=%{y}<extra></extra>",
         "legendgroup": "Yoshua Bengio",
         "marker": {
          "color": "#00cc96",
          "size": 15,
          "symbol": "square"
         },
         "mode": "markers",
         "name": "Yoshua Bengio",
         "orientation": "v",
         "showlegend": true,
         "type": "scatter",
         "x": [
          -6.735285758972168
         ],
         "xaxis": "x",
         "y": [
          6.9395928382873535
         ],
         "yaxis": "y"
        },
        {
         "hovertemplate": "Authors=Ian J. Goodfellow<br>Component 1=%{x}<br>Component 2=%{y}<extra></extra>",
         "legendgroup": "Ian J. Goodfellow",
         "marker": {
          "color": "#ab63fa",
          "size": 15,
          "symbol": "x"
         },
         "mode": "markers",
         "name": "Ian J. Goodfellow",
         "orientation": "v",
         "showlegend": true,
         "type": "scatter",
         "x": [
          -1.9617878198623657
         ],
         "xaxis": "x",
         "y": [
          11.659981727600098
         ],
         "yaxis": "y"
        },
        {
         "hovertemplate": "Authors=Yejin Choi<br>Component 1=%{x}<br>Component 2=%{y}<extra></extra>",
         "legendgroup": "Yejin Choi",
         "marker": {
          "color": "#FFA15A",
          "size": 15,
          "symbol": "cross"
         },
         "mode": "markers",
         "name": "Yejin Choi",
         "orientation": "v",
         "showlegend": true,
         "type": "scatter",
         "x": [
          1.174353837966919
         ],
         "xaxis": "x",
         "y": [
          -7.609137058258057
         ],
         "yaxis": "y"
        },
        {
         "hovertemplate": "Authors=Geoffrey E. Hinton<br>Component 1=%{x}<br>Component 2=%{y}<extra></extra>",
         "legendgroup": "Geoffrey E. Hinton",
         "marker": {
          "color": "#19d3f3",
          "size": 15,
          "symbol": "circle"
         },
         "mode": "markers",
         "name": "Geoffrey E. Hinton",
         "orientation": "v",
         "showlegend": true,
         "type": "scatter",
         "x": [
          -8.75768756866455
         ],
         "xaxis": "x",
         "y": [
          6.1481032371521
         ],
         "yaxis": "y"
        }
       ],
       "layout": {
        "legend": {
         "title": {
          "text": "Authors"
         },
         "tracegroupgap": 0
        },
        "template": {
         "data": {
          "bar": [
           {
            "error_x": {
             "color": "#2a3f5f"
            },
            "error_y": {
             "color": "#2a3f5f"
            },
            "marker": {
             "line": {
              "color": "#E5ECF6",
              "width": 0.5
             },
             "pattern": {
              "fillmode": "overlay",
              "size": 10,
              "solidity": 0.2
             }
            },
            "type": "bar"
           }
          ],
          "barpolar": [
           {
            "marker": {
             "line": {
              "color": "#E5ECF6",
              "width": 0.5
             },
             "pattern": {
              "fillmode": "overlay",
              "size": 10,
              "solidity": 0.2
             }
            },
            "type": "barpolar"
           }
          ],
          "carpet": [
           {
            "aaxis": {
             "endlinecolor": "#2a3f5f",
             "gridcolor": "white",
             "linecolor": "white",
             "minorgridcolor": "white",
             "startlinecolor": "#2a3f5f"
            },
            "baxis": {
             "endlinecolor": "#2a3f5f",
             "gridcolor": "white",
             "linecolor": "white",
             "minorgridcolor": "white",
             "startlinecolor": "#2a3f5f"
            },
            "type": "carpet"
           }
          ],
          "choropleth": [
           {
            "colorbar": {
             "outlinewidth": 0,
             "ticks": ""
            },
            "type": "choropleth"
           }
          ],
          "contour": [
           {
            "colorbar": {
             "outlinewidth": 0,
             "ticks": ""
            },
            "colorscale": [
             [
              0,
              "#0d0887"
             ],
             [
              0.1111111111111111,
              "#46039f"
             ],
             [
              0.2222222222222222,
              "#7201a8"
             ],
             [
              0.3333333333333333,
              "#9c179e"
             ],
             [
              0.4444444444444444,
              "#bd3786"
             ],
             [
              0.5555555555555556,
              "#d8576b"
             ],
             [
              0.6666666666666666,
              "#ed7953"
             ],
             [
              0.7777777777777778,
              "#fb9f3a"
             ],
             [
              0.8888888888888888,
              "#fdca26"
             ],
             [
              1,
              "#f0f921"
             ]
            ],
            "type": "contour"
           }
          ],
          "contourcarpet": [
           {
            "colorbar": {
             "outlinewidth": 0,
             "ticks": ""
            },
            "type": "contourcarpet"
           }
          ],
          "heatmap": [
           {
            "colorbar": {
             "outlinewidth": 0,
             "ticks": ""
            },
            "colorscale": [
             [
              0,
              "#0d0887"
             ],
             [
              0.1111111111111111,
              "#46039f"
             ],
             [
              0.2222222222222222,
              "#7201a8"
             ],
             [
              0.3333333333333333,
              "#9c179e"
             ],
             [
              0.4444444444444444,
              "#bd3786"
             ],
             [
              0.5555555555555556,
              "#d8576b"
             ],
             [
              0.6666666666666666,
              "#ed7953"
             ],
             [
              0.7777777777777778,
              "#fb9f3a"
             ],
             [
              0.8888888888888888,
              "#fdca26"
             ],
             [
              1,
              "#f0f921"
             ]
            ],
            "type": "heatmap"
           }
          ],
          "heatmapgl": [
           {
            "colorbar": {
             "outlinewidth": 0,
             "ticks": ""
            },
            "colorscale": [
             [
              0,
              "#0d0887"
             ],
             [
              0.1111111111111111,
              "#46039f"
             ],
             [
              0.2222222222222222,
              "#7201a8"
             ],
             [
              0.3333333333333333,
              "#9c179e"
             ],
             [
              0.4444444444444444,
              "#bd3786"
             ],
             [
              0.5555555555555556,
              "#d8576b"
             ],
             [
              0.6666666666666666,
              "#ed7953"
             ],
             [
              0.7777777777777778,
              "#fb9f3a"
             ],
             [
              0.8888888888888888,
              "#fdca26"
             ],
             [
              1,
              "#f0f921"
             ]
            ],
            "type": "heatmapgl"
           }
          ],
          "histogram": [
           {
            "marker": {
             "pattern": {
              "fillmode": "overlay",
              "size": 10,
              "solidity": 0.2
             }
            },
            "type": "histogram"
           }
          ],
          "histogram2d": [
           {
            "colorbar": {
             "outlinewidth": 0,
             "ticks": ""
            },
            "colorscale": [
             [
              0,
              "#0d0887"
             ],
             [
              0.1111111111111111,
              "#46039f"
             ],
             [
              0.2222222222222222,
              "#7201a8"
             ],
             [
              0.3333333333333333,
              "#9c179e"
             ],
             [
              0.4444444444444444,
              "#bd3786"
             ],
             [
              0.5555555555555556,
              "#d8576b"
             ],
             [
              0.6666666666666666,
              "#ed7953"
             ],
             [
              0.7777777777777778,
              "#fb9f3a"
             ],
             [
              0.8888888888888888,
              "#fdca26"
             ],
             [
              1,
              "#f0f921"
             ]
            ],
            "type": "histogram2d"
           }
          ],
          "histogram2dcontour": [
           {
            "colorbar": {
             "outlinewidth": 0,
             "ticks": ""
            },
            "colorscale": [
             [
              0,
              "#0d0887"
             ],
             [
              0.1111111111111111,
              "#46039f"
             ],
             [
              0.2222222222222222,
              "#7201a8"
             ],
             [
              0.3333333333333333,
              "#9c179e"
             ],
             [
              0.4444444444444444,
              "#bd3786"
             ],
             [
              0.5555555555555556,
              "#d8576b"
             ],
             [
              0.6666666666666666,
              "#ed7953"
             ],
             [
              0.7777777777777778,
              "#fb9f3a"
             ],
             [
              0.8888888888888888,
              "#fdca26"
             ],
             [
              1,
              "#f0f921"
             ]
            ],
            "type": "histogram2dcontour"
           }
          ],
          "mesh3d": [
           {
            "colorbar": {
             "outlinewidth": 0,
             "ticks": ""
            },
            "type": "mesh3d"
           }
          ],
          "parcoords": [
           {
            "line": {
             "colorbar": {
              "outlinewidth": 0,
              "ticks": ""
             }
            },
            "type": "parcoords"
           }
          ],
          "pie": [
           {
            "automargin": true,
            "type": "pie"
           }
          ],
          "scatter": [
           {
            "fillpattern": {
             "fillmode": "overlay",
             "size": 10,
             "solidity": 0.2
            },
            "type": "scatter"
           }
          ],
          "scatter3d": [
           {
            "line": {
             "colorbar": {
              "outlinewidth": 0,
              "ticks": ""
             }
            },
            "marker": {
             "colorbar": {
              "outlinewidth": 0,
              "ticks": ""
             }
            },
            "type": "scatter3d"
           }
          ],
          "scattercarpet": [
           {
            "marker": {
             "colorbar": {
              "outlinewidth": 0,
              "ticks": ""
             }
            },
            "type": "scattercarpet"
           }
          ],
          "scattergeo": [
           {
            "marker": {
             "colorbar": {
              "outlinewidth": 0,
              "ticks": ""
             }
            },
            "type": "scattergeo"
           }
          ],
          "scattergl": [
           {
            "marker": {
             "colorbar": {
              "outlinewidth": 0,
              "ticks": ""
             }
            },
            "type": "scattergl"
           }
          ],
          "scattermapbox": [
           {
            "marker": {
             "colorbar": {
              "outlinewidth": 0,
              "ticks": ""
             }
            },
            "type": "scattermapbox"
           }
          ],
          "scatterpolar": [
           {
            "marker": {
             "colorbar": {
              "outlinewidth": 0,
              "ticks": ""
             }
            },
            "type": "scatterpolar"
           }
          ],
          "scatterpolargl": [
           {
            "marker": {
             "colorbar": {
              "outlinewidth": 0,
              "ticks": ""
             }
            },
            "type": "scatterpolargl"
           }
          ],
          "scatterternary": [
           {
            "marker": {
             "colorbar": {
              "outlinewidth": 0,
              "ticks": ""
             }
            },
            "type": "scatterternary"
           }
          ],
          "surface": [
           {
            "colorbar": {
             "outlinewidth": 0,
             "ticks": ""
            },
            "colorscale": [
             [
              0,
              "#0d0887"
             ],
             [
              0.1111111111111111,
              "#46039f"
             ],
             [
              0.2222222222222222,
              "#7201a8"
             ],
             [
              0.3333333333333333,
              "#9c179e"
             ],
             [
              0.4444444444444444,
              "#bd3786"
             ],
             [
              0.5555555555555556,
              "#d8576b"
             ],
             [
              0.6666666666666666,
              "#ed7953"
             ],
             [
              0.7777777777777778,
              "#fb9f3a"
             ],
             [
              0.8888888888888888,
              "#fdca26"
             ],
             [
              1,
              "#f0f921"
             ]
            ],
            "type": "surface"
           }
          ],
          "table": [
           {
            "cells": {
             "fill": {
              "color": "#EBF0F8"
             },
             "line": {
              "color": "white"
             }
            },
            "header": {
             "fill": {
              "color": "#C8D4E3"
             },
             "line": {
              "color": "white"
             }
            },
            "type": "table"
           }
          ]
         },
         "layout": {
          "annotationdefaults": {
           "arrowcolor": "#2a3f5f",
           "arrowhead": 0,
           "arrowwidth": 1
          },
          "autotypenumbers": "strict",
          "coloraxis": {
           "colorbar": {
            "outlinewidth": 0,
            "ticks": ""
           }
          },
          "colorscale": {
           "diverging": [
            [
             0,
             "#8e0152"
            ],
            [
             0.1,
             "#c51b7d"
            ],
            [
             0.2,
             "#de77ae"
            ],
            [
             0.3,
             "#f1b6da"
            ],
            [
             0.4,
             "#fde0ef"
            ],
            [
             0.5,
             "#f7f7f7"
            ],
            [
             0.6,
             "#e6f5d0"
            ],
            [
             0.7,
             "#b8e186"
            ],
            [
             0.8,
             "#7fbc41"
            ],
            [
             0.9,
             "#4d9221"
            ],
            [
             1,
             "#276419"
            ]
           ],
           "sequential": [
            [
             0,
             "#0d0887"
            ],
            [
             0.1111111111111111,
             "#46039f"
            ],
            [
             0.2222222222222222,
             "#7201a8"
            ],
            [
             0.3333333333333333,
             "#9c179e"
            ],
            [
             0.4444444444444444,
             "#bd3786"
            ],
            [
             0.5555555555555556,
             "#d8576b"
            ],
            [
             0.6666666666666666,
             "#ed7953"
            ],
            [
             0.7777777777777778,
             "#fb9f3a"
            ],
            [
             0.8888888888888888,
             "#fdca26"
            ],
            [
             1,
             "#f0f921"
            ]
           ],
           "sequentialminus": [
            [
             0,
             "#0d0887"
            ],
            [
             0.1111111111111111,
             "#46039f"
            ],
            [
             0.2222222222222222,
             "#7201a8"
            ],
            [
             0.3333333333333333,
             "#9c179e"
            ],
            [
             0.4444444444444444,
             "#bd3786"
            ],
            [
             0.5555555555555556,
             "#d8576b"
            ],
            [
             0.6666666666666666,
             "#ed7953"
            ],
            [
             0.7777777777777778,
             "#fb9f3a"
            ],
            [
             0.8888888888888888,
             "#fdca26"
            ],
            [
             1,
             "#f0f921"
            ]
           ]
          },
          "colorway": [
           "#636efa",
           "#EF553B",
           "#00cc96",
           "#ab63fa",
           "#FFA15A",
           "#19d3f3",
           "#FF6692",
           "#B6E880",
           "#FF97FF",
           "#FECB52"
          ],
          "font": {
           "color": "#2a3f5f"
          },
          "geo": {
           "bgcolor": "white",
           "lakecolor": "white",
           "landcolor": "#E5ECF6",
           "showlakes": true,
           "showland": true,
           "subunitcolor": "white"
          },
          "hoverlabel": {
           "align": "left"
          },
          "hovermode": "closest",
          "mapbox": {
           "style": "light"
          },
          "paper_bgcolor": "white",
          "plot_bgcolor": "#E5ECF6",
          "polar": {
           "angularaxis": {
            "gridcolor": "white",
            "linecolor": "white",
            "ticks": ""
           },
           "bgcolor": "#E5ECF6",
           "radialaxis": {
            "gridcolor": "white",
            "linecolor": "white",
            "ticks": ""
           }
          },
          "scene": {
           "xaxis": {
            "backgroundcolor": "#E5ECF6",
            "gridcolor": "white",
            "gridwidth": 2,
            "linecolor": "white",
            "showbackground": true,
            "ticks": "",
            "zerolinecolor": "white"
           },
           "yaxis": {
            "backgroundcolor": "#E5ECF6",
            "gridcolor": "white",
            "gridwidth": 2,
            "linecolor": "white",
            "showbackground": true,
            "ticks": "",
            "zerolinecolor": "white"
           },
           "zaxis": {
            "backgroundcolor": "#E5ECF6",
            "gridcolor": "white",
            "gridwidth": 2,
            "linecolor": "white",
            "showbackground": true,
            "ticks": "",
            "zerolinecolor": "white"
           }
          },
          "shapedefaults": {
           "line": {
            "color": "#2a3f5f"
           }
          },
          "ternary": {
           "aaxis": {
            "gridcolor": "white",
            "linecolor": "white",
            "ticks": ""
           },
           "baxis": {
            "gridcolor": "white",
            "linecolor": "white",
            "ticks": ""
           },
           "bgcolor": "#E5ECF6",
           "caxis": {
            "gridcolor": "white",
            "linecolor": "white",
            "ticks": ""
           }
          },
          "title": {
           "x": 0.05
          },
          "xaxis": {
           "automargin": true,
           "gridcolor": "white",
           "linecolor": "white",
           "ticks": "",
           "title": {
            "standoff": 15
           },
           "zerolinecolor": "white",
           "zerolinewidth": 2
          },
          "yaxis": {
           "automargin": true,
           "gridcolor": "white",
           "linecolor": "white",
           "ticks": "",
           "title": {
            "standoff": 15
           },
           "zerolinecolor": "white",
           "zerolinewidth": 2
          }
         }
        },
        "title": {
         "text": "Authors as Mean of their Citations"
        },
        "xaxis": {
         "anchor": "y",
         "domain": [
          0,
          1
         ],
         "title": {
          "text": "Component 1"
         }
        },
        "yaxis": {
         "anchor": "x",
         "domain": [
          0,
          1
         ],
         "title": {
          "text": "Component 2"
         }
        }
       }
      },
      "text/html": [
       "<div>                            <div id=\"e181114a-cd73-4405-8010-c8443c427553\" class=\"plotly-graph-div\" style=\"height:525px; width:100%;\"></div>            <script type=\"text/javascript\">                require([\"plotly\"], function(Plotly) {                    window.PLOTLYENV=window.PLOTLYENV || {};                                    if (document.getElementById(\"e181114a-cd73-4405-8010-c8443c427553\")) {                    Plotly.newPlot(                        \"e181114a-cd73-4405-8010-c8443c427553\",                        [{\"hovertemplate\":\"Authors=Dan Weld<br>Component 1=%{x}<br>Component 2=%{y}<extra></extra>\",\"legendgroup\":\"Dan Weld\",\"marker\":{\"color\":\"#636efa\",\"symbol\":\"circle\",\"size\":15},\"mode\":\"markers\",\"name\":\"Dan Weld\",\"orientation\":\"v\",\"showlegend\":true,\"x\":[16.666738510131836],\"xaxis\":\"x\",\"y\":[6.298088073730469],\"yaxis\":\"y\",\"type\":\"scatter\"},{\"hovertemplate\":\"Authors=Oren Etzioni<br>Component 1=%{x}<br>Component 2=%{y}<extra></extra>\",\"legendgroup\":\"Oren Etzioni\",\"marker\":{\"color\":\"#EF553B\",\"symbol\":\"diamond\",\"size\":15},\"mode\":\"markers\",\"name\":\"Oren Etzioni\",\"orientation\":\"v\",\"showlegend\":true,\"x\":[12.39452075958252],\"xaxis\":\"x\",\"y\":[-6.02788782119751],\"yaxis\":\"y\",\"type\":\"scatter\"},{\"hovertemplate\":\"Authors=Peter Clark<br>Component 1=%{x}<br>Component 2=%{y}<extra></extra>\",\"legendgroup\":\"Peter Clark\",\"marker\":{\"color\":\"#00cc96\",\"symbol\":\"square\",\"size\":15},\"mode\":\"markers\",\"name\":\"Peter Clark\",\"orientation\":\"v\",\"showlegend\":true,\"x\":[6.018837928771973],\"xaxis\":\"x\",\"y\":[-14.195287704467773],\"yaxis\":\"y\",\"type\":\"scatter\"},{\"hovertemplate\":\"Authors=Ani Kembhavi<br>Component 1=%{x}<br>Component 2=%{y}<extra></extra>\",\"legendgroup\":\"Ani Kembhavi\",\"marker\":{\"color\":\"#ab63fa\",\"symbol\":\"x\",\"size\":15},\"mode\":\"markers\",\"name\":\"Ani Kembhavi\",\"orientation\":\"v\",\"showlegend\":true,\"x\":[3.9754459857940674],\"xaxis\":\"x\",\"y\":[5.432938575744629],\"yaxis\":\"y\",\"type\":\"scatter\"},{\"hovertemplate\":\"Authors=Li Fei-Fei<br>Component 1=%{x}<br>Component 2=%{y}<extra></extra>\",\"legendgroup\":\"Li Fei-Fei\",\"marker\":{\"color\":\"#FFA15A\",\"symbol\":\"cross\",\"size\":15},\"mode\":\"markers\",\"name\":\"Li Fei-Fei\",\"orientation\":\"v\",\"showlegend\":true,\"x\":[-7.830873012542725],\"xaxis\":\"x\",\"y\":[3.26411771774292],\"yaxis\":\"y\",\"type\":\"scatter\"},{\"hovertemplate\":\"Authors=Jeremy Howard<br>Component 1=%{x}<br>Component 2=%{y}<extra></extra>\",\"legendgroup\":\"Jeremy Howard\",\"marker\":{\"color\":\"#19d3f3\",\"symbol\":\"circle\",\"size\":15},\"mode\":\"markers\",\"name\":\"Jeremy Howard\",\"orientation\":\"v\",\"showlegend\":true,\"x\":[-1.2595634460449219],\"xaxis\":\"x\",\"y\":[1.267685890197754],\"yaxis\":\"y\",\"type\":\"scatter\"},{\"hovertemplate\":\"Authors=R. Socher<br>Component 1=%{x}<br>Component 2=%{y}<extra></extra>\",\"legendgroup\":\"R. Socher\",\"marker\":{\"color\":\"#FF6692\",\"symbol\":\"diamond\",\"size\":15},\"mode\":\"markers\",\"name\":\"R. Socher\",\"orientation\":\"v\",\"showlegend\":true,\"x\":[-2.7432971000671387],\"xaxis\":\"x\",\"y\":[-1.1100246906280518],\"yaxis\":\"y\",\"type\":\"scatter\"},{\"hovertemplate\":\"Authors=Yann LeCun<br>Component 1=%{x}<br>Component 2=%{y}<extra></extra>\",\"legendgroup\":\"Yann LeCun\",\"marker\":{\"color\":\"#B6E880\",\"symbol\":\"square\",\"size\":15},\"mode\":\"markers\",\"name\":\"Yann LeCun\",\"orientation\":\"v\",\"showlegend\":true,\"x\":[-5.4009690284729],\"xaxis\":\"x\",\"y\":[5.47073221206665],\"yaxis\":\"y\",\"type\":\"scatter\"},{\"hovertemplate\":\"Authors=A. Karpathy<br>Component 1=%{x}<br>Component 2=%{y}<extra></extra>\",\"legendgroup\":\"A. Karpathy\",\"marker\":{\"color\":\"#FF97FF\",\"symbol\":\"x\",\"size\":15},\"mode\":\"markers\",\"name\":\"A. Karpathy\",\"orientation\":\"v\",\"showlegend\":true,\"x\":[-10.668876647949219],\"xaxis\":\"x\",\"y\":[4.364420413970947],\"yaxis\":\"y\",\"type\":\"scatter\"},{\"hovertemplate\":\"Authors=Noah Smith<br>Component 1=%{x}<br>Component 2=%{y}<extra></extra>\",\"legendgroup\":\"Noah Smith\",\"marker\":{\"color\":\"#FECB52\",\"symbol\":\"cross\",\"size\":15},\"mode\":\"markers\",\"name\":\"Noah Smith\",\"orientation\":\"v\",\"showlegend\":true,\"x\":[1.6403675079345703],\"xaxis\":\"x\",\"y\":[-5.244654178619385],\"yaxis\":\"y\",\"type\":\"scatter\"},{\"hovertemplate\":\"Authors=Hannaneh Hajishirzi<br>Component 1=%{x}<br>Component 2=%{y}<extra></extra>\",\"legendgroup\":\"Hannaneh Hajishirzi\",\"marker\":{\"color\":\"#636efa\",\"symbol\":\"circle\",\"size\":15},\"mode\":\"markers\",\"name\":\"Hannaneh Hajishirzi\",\"orientation\":\"v\",\"showlegend\":true,\"x\":[1.426293969154358],\"xaxis\":\"x\",\"y\":[-6.0739922523498535],\"yaxis\":\"y\",\"type\":\"scatter\"},{\"hovertemplate\":\"Authors=Ilya Sutskever<br>Component 1=%{x}<br>Component 2=%{y}<extra></extra>\",\"legendgroup\":\"Ilya Sutskever\",\"marker\":{\"color\":\"#EF553B\",\"symbol\":\"diamond\",\"size\":15},\"mode\":\"markers\",\"name\":\"Ilya Sutskever\",\"orientation\":\"v\",\"showlegend\":true,\"x\":[-5.581136703491211],\"xaxis\":\"x\",\"y\":[4.656222820281982],\"yaxis\":\"y\",\"type\":\"scatter\"},{\"hovertemplate\":\"Authors=Yoshua Bengio<br>Component 1=%{x}<br>Component 2=%{y}<extra></extra>\",\"legendgroup\":\"Yoshua Bengio\",\"marker\":{\"color\":\"#00cc96\",\"symbol\":\"square\",\"size\":15},\"mode\":\"markers\",\"name\":\"Yoshua Bengio\",\"orientation\":\"v\",\"showlegend\":true,\"x\":[-6.735285758972168],\"xaxis\":\"x\",\"y\":[6.9395928382873535],\"yaxis\":\"y\",\"type\":\"scatter\"},{\"hovertemplate\":\"Authors=Ian J. Goodfellow<br>Component 1=%{x}<br>Component 2=%{y}<extra></extra>\",\"legendgroup\":\"Ian J. Goodfellow\",\"marker\":{\"color\":\"#ab63fa\",\"symbol\":\"x\",\"size\":15},\"mode\":\"markers\",\"name\":\"Ian J. Goodfellow\",\"orientation\":\"v\",\"showlegend\":true,\"x\":[-1.9617878198623657],\"xaxis\":\"x\",\"y\":[11.659981727600098],\"yaxis\":\"y\",\"type\":\"scatter\"},{\"hovertemplate\":\"Authors=Yejin Choi<br>Component 1=%{x}<br>Component 2=%{y}<extra></extra>\",\"legendgroup\":\"Yejin Choi\",\"marker\":{\"color\":\"#FFA15A\",\"symbol\":\"cross\",\"size\":15},\"mode\":\"markers\",\"name\":\"Yejin Choi\",\"orientation\":\"v\",\"showlegend\":true,\"x\":[1.174353837966919],\"xaxis\":\"x\",\"y\":[-7.609137058258057],\"yaxis\":\"y\",\"type\":\"scatter\"},{\"hovertemplate\":\"Authors=Geoffrey E. Hinton<br>Component 1=%{x}<br>Component 2=%{y}<extra></extra>\",\"legendgroup\":\"Geoffrey E. Hinton\",\"marker\":{\"color\":\"#19d3f3\",\"symbol\":\"circle\",\"size\":15},\"mode\":\"markers\",\"name\":\"Geoffrey E. Hinton\",\"orientation\":\"v\",\"showlegend\":true,\"x\":[-8.75768756866455],\"xaxis\":\"x\",\"y\":[6.1481032371521],\"yaxis\":\"y\",\"type\":\"scatter\"}],                        {\"template\":{\"data\":{\"histogram2dcontour\":[{\"type\":\"histogram2dcontour\",\"colorbar\":{\"outlinewidth\":0,\"ticks\":\"\"},\"colorscale\":[[0.0,\"#0d0887\"],[0.1111111111111111,\"#46039f\"],[0.2222222222222222,\"#7201a8\"],[0.3333333333333333,\"#9c179e\"],[0.4444444444444444,\"#bd3786\"],[0.5555555555555556,\"#d8576b\"],[0.6666666666666666,\"#ed7953\"],[0.7777777777777778,\"#fb9f3a\"],[0.8888888888888888,\"#fdca26\"],[1.0,\"#f0f921\"]]}],\"choropleth\":[{\"type\":\"choropleth\",\"colorbar\":{\"outlinewidth\":0,\"ticks\":\"\"}}],\"histogram2d\":[{\"type\":\"histogram2d\",\"colorbar\":{\"outlinewidth\":0,\"ticks\":\"\"},\"colorscale\":[[0.0,\"#0d0887\"],[0.1111111111111111,\"#46039f\"],[0.2222222222222222,\"#7201a8\"],[0.3333333333333333,\"#9c179e\"],[0.4444444444444444,\"#bd3786\"],[0.5555555555555556,\"#d8576b\"],[0.6666666666666666,\"#ed7953\"],[0.7777777777777778,\"#fb9f3a\"],[0.8888888888888888,\"#fdca26\"],[1.0,\"#f0f921\"]]}],\"heatmap\":[{\"type\":\"heatmap\",\"colorbar\":{\"outlinewidth\":0,\"ticks\":\"\"},\"colorscale\":[[0.0,\"#0d0887\"],[0.1111111111111111,\"#46039f\"],[0.2222222222222222,\"#7201a8\"],[0.3333333333333333,\"#9c179e\"],[0.4444444444444444,\"#bd3786\"],[0.5555555555555556,\"#d8576b\"],[0.6666666666666666,\"#ed7953\"],[0.7777777777777778,\"#fb9f3a\"],[0.8888888888888888,\"#fdca26\"],[1.0,\"#f0f921\"]]}],\"heatmapgl\":[{\"type\":\"heatmapgl\",\"colorbar\":{\"outlinewidth\":0,\"ticks\":\"\"},\"colorscale\":[[0.0,\"#0d0887\"],[0.1111111111111111,\"#46039f\"],[0.2222222222222222,\"#7201a8\"],[0.3333333333333333,\"#9c179e\"],[0.4444444444444444,\"#bd3786\"],[0.5555555555555556,\"#d8576b\"],[0.6666666666666666,\"#ed7953\"],[0.7777777777777778,\"#fb9f3a\"],[0.8888888888888888,\"#fdca26\"],[1.0,\"#f0f921\"]]}],\"contourcarpet\":[{\"type\":\"contourcarpet\",\"colorbar\":{\"outlinewidth\":0,\"ticks\":\"\"}}],\"contour\":[{\"type\":\"contour\",\"colorbar\":{\"outlinewidth\":0,\"ticks\":\"\"},\"colorscale\":[[0.0,\"#0d0887\"],[0.1111111111111111,\"#46039f\"],[0.2222222222222222,\"#7201a8\"],[0.3333333333333333,\"#9c179e\"],[0.4444444444444444,\"#bd3786\"],[0.5555555555555556,\"#d8576b\"],[0.6666666666666666,\"#ed7953\"],[0.7777777777777778,\"#fb9f3a\"],[0.8888888888888888,\"#fdca26\"],[1.0,\"#f0f921\"]]}],\"surface\":[{\"type\":\"surface\",\"colorbar\":{\"outlinewidth\":0,\"ticks\":\"\"},\"colorscale\":[[0.0,\"#0d0887\"],[0.1111111111111111,\"#46039f\"],[0.2222222222222222,\"#7201a8\"],[0.3333333333333333,\"#9c179e\"],[0.4444444444444444,\"#bd3786\"],[0.5555555555555556,\"#d8576b\"],[0.6666666666666666,\"#ed7953\"],[0.7777777777777778,\"#fb9f3a\"],[0.8888888888888888,\"#fdca26\"],[1.0,\"#f0f921\"]]}],\"mesh3d\":[{\"type\":\"mesh3d\",\"colorbar\":{\"outlinewidth\":0,\"ticks\":\"\"}}],\"scatter\":[{\"fillpattern\":{\"fillmode\":\"overlay\",\"size\":10,\"solidity\":0.2},\"type\":\"scatter\"}],\"parcoords\":[{\"type\":\"parcoords\",\"line\":{\"colorbar\":{\"outlinewidth\":0,\"ticks\":\"\"}}}],\"scatterpolargl\":[{\"type\":\"scatterpolargl\",\"marker\":{\"colorbar\":{\"outlinewidth\":0,\"ticks\":\"\"}}}],\"bar\":[{\"error_x\":{\"color\":\"#2a3f5f\"},\"error_y\":{\"color\":\"#2a3f5f\"},\"marker\":{\"line\":{\"color\":\"#E5ECF6\",\"width\":0.5},\"pattern\":{\"fillmode\":\"overlay\",\"size\":10,\"solidity\":0.2}},\"type\":\"bar\"}],\"scattergeo\":[{\"type\":\"scattergeo\",\"marker\":{\"colorbar\":{\"outlinewidth\":0,\"ticks\":\"\"}}}],\"scatterpolar\":[{\"type\":\"scatterpolar\",\"marker\":{\"colorbar\":{\"outlinewidth\":0,\"ticks\":\"\"}}}],\"histogram\":[{\"marker\":{\"pattern\":{\"fillmode\":\"overlay\",\"size\":10,\"solidity\":0.2}},\"type\":\"histogram\"}],\"scattergl\":[{\"type\":\"scattergl\",\"marker\":{\"colorbar\":{\"outlinewidth\":0,\"ticks\":\"\"}}}],\"scatter3d\":[{\"type\":\"scatter3d\",\"line\":{\"colorbar\":{\"outlinewidth\":0,\"ticks\":\"\"}},\"marker\":{\"colorbar\":{\"outlinewidth\":0,\"ticks\":\"\"}}}],\"scattermapbox\":[{\"type\":\"scattermapbox\",\"marker\":{\"colorbar\":{\"outlinewidth\":0,\"ticks\":\"\"}}}],\"scatterternary\":[{\"type\":\"scatterternary\",\"marker\":{\"colorbar\":{\"outlinewidth\":0,\"ticks\":\"\"}}}],\"scattercarpet\":[{\"type\":\"scattercarpet\",\"marker\":{\"colorbar\":{\"outlinewidth\":0,\"ticks\":\"\"}}}],\"carpet\":[{\"aaxis\":{\"endlinecolor\":\"#2a3f5f\",\"gridcolor\":\"white\",\"linecolor\":\"white\",\"minorgridcolor\":\"white\",\"startlinecolor\":\"#2a3f5f\"},\"baxis\":{\"endlinecolor\":\"#2a3f5f\",\"gridcolor\":\"white\",\"linecolor\":\"white\",\"minorgridcolor\":\"white\",\"startlinecolor\":\"#2a3f5f\"},\"type\":\"carpet\"}],\"table\":[{\"cells\":{\"fill\":{\"color\":\"#EBF0F8\"},\"line\":{\"color\":\"white\"}},\"header\":{\"fill\":{\"color\":\"#C8D4E3\"},\"line\":{\"color\":\"white\"}},\"type\":\"table\"}],\"barpolar\":[{\"marker\":{\"line\":{\"color\":\"#E5ECF6\",\"width\":0.5},\"pattern\":{\"fillmode\":\"overlay\",\"size\":10,\"solidity\":0.2}},\"type\":\"barpolar\"}],\"pie\":[{\"automargin\":true,\"type\":\"pie\"}]},\"layout\":{\"autotypenumbers\":\"strict\",\"colorway\":[\"#636efa\",\"#EF553B\",\"#00cc96\",\"#ab63fa\",\"#FFA15A\",\"#19d3f3\",\"#FF6692\",\"#B6E880\",\"#FF97FF\",\"#FECB52\"],\"font\":{\"color\":\"#2a3f5f\"},\"hovermode\":\"closest\",\"hoverlabel\":{\"align\":\"left\"},\"paper_bgcolor\":\"white\",\"plot_bgcolor\":\"#E5ECF6\",\"polar\":{\"bgcolor\":\"#E5ECF6\",\"angularaxis\":{\"gridcolor\":\"white\",\"linecolor\":\"white\",\"ticks\":\"\"},\"radialaxis\":{\"gridcolor\":\"white\",\"linecolor\":\"white\",\"ticks\":\"\"}},\"ternary\":{\"bgcolor\":\"#E5ECF6\",\"aaxis\":{\"gridcolor\":\"white\",\"linecolor\":\"white\",\"ticks\":\"\"},\"baxis\":{\"gridcolor\":\"white\",\"linecolor\":\"white\",\"ticks\":\"\"},\"caxis\":{\"gridcolor\":\"white\",\"linecolor\":\"white\",\"ticks\":\"\"}},\"coloraxis\":{\"colorbar\":{\"outlinewidth\":0,\"ticks\":\"\"}},\"colorscale\":{\"sequential\":[[0.0,\"#0d0887\"],[0.1111111111111111,\"#46039f\"],[0.2222222222222222,\"#7201a8\"],[0.3333333333333333,\"#9c179e\"],[0.4444444444444444,\"#bd3786\"],[0.5555555555555556,\"#d8576b\"],[0.6666666666666666,\"#ed7953\"],[0.7777777777777778,\"#fb9f3a\"],[0.8888888888888888,\"#fdca26\"],[1.0,\"#f0f921\"]],\"sequentialminus\":[[0.0,\"#0d0887\"],[0.1111111111111111,\"#46039f\"],[0.2222222222222222,\"#7201a8\"],[0.3333333333333333,\"#9c179e\"],[0.4444444444444444,\"#bd3786\"],[0.5555555555555556,\"#d8576b\"],[0.6666666666666666,\"#ed7953\"],[0.7777777777777778,\"#fb9f3a\"],[0.8888888888888888,\"#fdca26\"],[1.0,\"#f0f921\"]],\"diverging\":[[0,\"#8e0152\"],[0.1,\"#c51b7d\"],[0.2,\"#de77ae\"],[0.3,\"#f1b6da\"],[0.4,\"#fde0ef\"],[0.5,\"#f7f7f7\"],[0.6,\"#e6f5d0\"],[0.7,\"#b8e186\"],[0.8,\"#7fbc41\"],[0.9,\"#4d9221\"],[1,\"#276419\"]]},\"xaxis\":{\"gridcolor\":\"white\",\"linecolor\":\"white\",\"ticks\":\"\",\"title\":{\"standoff\":15},\"zerolinecolor\":\"white\",\"automargin\":true,\"zerolinewidth\":2},\"yaxis\":{\"gridcolor\":\"white\",\"linecolor\":\"white\",\"ticks\":\"\",\"title\":{\"standoff\":15},\"zerolinecolor\":\"white\",\"automargin\":true,\"zerolinewidth\":2},\"scene\":{\"xaxis\":{\"backgroundcolor\":\"#E5ECF6\",\"gridcolor\":\"white\",\"linecolor\":\"white\",\"showbackground\":true,\"ticks\":\"\",\"zerolinecolor\":\"white\",\"gridwidth\":2},\"yaxis\":{\"backgroundcolor\":\"#E5ECF6\",\"gridcolor\":\"white\",\"linecolor\":\"white\",\"showbackground\":true,\"ticks\":\"\",\"zerolinecolor\":\"white\",\"gridwidth\":2},\"zaxis\":{\"backgroundcolor\":\"#E5ECF6\",\"gridcolor\":\"white\",\"linecolor\":\"white\",\"showbackground\":true,\"ticks\":\"\",\"zerolinecolor\":\"white\",\"gridwidth\":2}},\"shapedefaults\":{\"line\":{\"color\":\"#2a3f5f\"}},\"annotationdefaults\":{\"arrowcolor\":\"#2a3f5f\",\"arrowhead\":0,\"arrowwidth\":1},\"geo\":{\"bgcolor\":\"white\",\"landcolor\":\"#E5ECF6\",\"subunitcolor\":\"white\",\"showland\":true,\"showlakes\":true,\"lakecolor\":\"white\"},\"title\":{\"x\":0.05},\"mapbox\":{\"style\":\"light\"}}},\"xaxis\":{\"anchor\":\"y\",\"domain\":[0.0,1.0],\"title\":{\"text\":\"Component 1\"}},\"yaxis\":{\"anchor\":\"x\",\"domain\":[0.0,1.0],\"title\":{\"text\":\"Component 2\"}},\"legend\":{\"title\":{\"text\":\"Authors\"},\"tracegroupgap\":0},\"title\":{\"text\":\"Authors as Mean of their Citations\"}},                        {\"responsive\": true}                    ).then(function(){\n",
       "                            \n",
       "var gd = document.getElementById('e181114a-cd73-4405-8010-c8443c427553');\n",
       "var x = new MutationObserver(function (mutations, observer) {{\n",
       "        var display = window.getComputedStyle(gd).display;\n",
       "        if (!display || display === 'none') {{\n",
       "            console.log([gd, 'removed!']);\n",
       "            Plotly.purge(gd);\n",
       "            observer.disconnect();\n",
       "        }}\n",
       "}});\n",
       "\n",
       "// Listen for the removal of the full notebook cells\n",
       "var notebookContainer = gd.closest('#notebook-container');\n",
       "if (notebookContainer) {{\n",
       "    x.observe(notebookContainer, {childList: true});\n",
       "}}\n",
       "\n",
       "// Listen for the clearing of the current output cell\n",
       "var outputEl = gd.closest('.output');\n",
       "if (outputEl) {{\n",
       "    x.observe(outputEl, {childList: true});\n",
       "}}\n",
       "\n",
       "                        })                };                });            </script>        </div>"
      ]
     },
     "metadata": {},
     "output_type": "display_data"
    }
   ],
   "source": [
    "mean_reduced_embs = []\n",
    "authors = list(author_paper_idx.keys())\n",
    "for aname in authors:\n",
    "    x=reduced_df[reduced_df[\"Cited By\"]==aname][\"Component 1\"].mean()\n",
    "    y=reduced_df[reduced_df[\"Cited By\"]==aname][\"Component 2\"].mean()\n",
    "    mean_reduced_embs.append((x,y))\n",
    "    \n",
    "fig=px.scatter(x=[c[0] for c in mean_reduced_embs], y=[c[1] for c in mean_reduced_embs], \n",
    "               labels= {\"x\": \"Dim 1\", \"y\": \"Component 2\", \"color\": \"Authors\", \"symbol\": \"Authors\"},\n",
    "               color=authors, symbol=authors, title=\"Authors as Mean of their Citations\",)\n",
    "fig.update_traces(marker={'size': 15})\n",
    "fig.show(\"png\")\n",
    "fig.show()"
   ]
  },
  {
   "cell_type": "code",
   "execution_count": 71,
   "id": "a62195da",
   "metadata": {},
   "outputs": [
    {
     "data": {
      "image/png": "[encoded data removed]"
     },
     "metadata": {},
     "output_type": "display_data"
    },
    {
     "data": {
      "application/vnd.plotly.v1+json": {
       "config": {
        "plotlyServerURL": "https://plot.ly"
       },
       "data": [
        {
         "customdata": [
          [
           "UCPOP: A Sound, Complete, Partial Order Planner for ADL",
           1992
          ],
          [
           "Systematic Nonlinear Planning",
           1991
          ],
          [
           "Planning for Conjunctive Goals",
           1987
          ],
          [
           "An Approach to Planning with Incomplete Information",
           1992
          ],
          [
           "Labeled RTDP: Improving the Convergence of Real-Time Dynamic Programming",
           2003
          ],
          [
           "Fast Planning Through Planning Graph Analysis",
           1995
          ],
          [
           "Learning to Act Using Real-Time Dynamic Programming",
           1995
          ],
          [
           "ADL: Exploring the Middle Ground Between STRIPS and the Situation Calculus",
           1989
          ],
          [
           "Open Information Extraction from the Web",
           2008
          ],
          [
           "Conditional nonlinear planning",
           1992
          ],
          [
           "AI2-THOR: An Interactive 3D Environment for Visual AI",
           2017
          ],
          [
           "Deep Residual Learning for Image Recognition",
           2016
          ],
          [
           "Microsoft COCO: Common Objects in Context",
           2014
          ],
          [
           "ImageNet: A large-scale hierarchical image database",
           2009
          ],
          [
           "Habitat: A Platform for Embodied AI Research",
           2019
          ],
          [
           "On Evaluation of Embodied Navigation Agents",
           2018
          ],
          [
           "Adam: A Method for Stochastic Optimization",
           2015
          ],
          [
           "IQA: Visual Question Answering in Interactive Environments",
           2018
          ],
          [
           "AllenAct: A Framework for Embodied AI Research",
           2020
          ],
          [
           "DD-PPO: Learning Near-Perfect PointGoal Navigators from 2.5 Billion Frames",
           2020
          ],
          [
           "Language Models are Unsupervised Multitask Learners",
           2019
          ],
          [
           "BERT: Pre-training of Deep Bidirectional Transformers for Language Understanding",
           2019
          ],
          [
           "Bleu: a Method for Automatic Evaluation of Machine Translation",
           2002
          ],
          [
           "Exploring the Limits of Transfer Learning with a Unified Text-to-Text Transformer",
           2020
          ],
          [
           "Attention is All you Need",
           2017
          ],
          [
           "The Curious Case of Neural Text Degeneration",
           2020
          ],
          [
           "Language Models are Few-Shot Learners",
           2020
          ],
          [
           "ROUGE: A Package for Automatic Evaluation of Summaries",
           2004
          ],
          [
           "RoBERTa: A Robustly Optimized BERT Pretraining Approach",
           2019
          ],
          [
           "ATOMIC: An Atlas of Machine Commonsense for If-Then Reasoning",
           2019
          ],
          [
           "SQuAD: 100,000+ Questions for Machine Comprehension of Text",
           2016
          ],
          [
           "WordNet : an electronic lexical database",
           2000
          ],
          [
           "Combining Retrieval, Statistics, and Inference to Answer Elementary Science Questions",
           2016
          ],
          [
           "Think you have Solved Question Answering? Try ARC, the AI2 Reasoning Challenge",
           2018
          ],
          [
           "Discovery of inference rules for question-answering",
           2001
          ],
          [
           "Building Concept Representations from Reusable Components",
           1997
          ],
          [
           "Towards AI-Complete Question Answering: A Set of Prerequisite Toy Tasks",
           2016
          ],
          [
           "Building a Large Annotated Corpus of English: The Penn Treebank",
           1993
          ],
          [
           "Conditional Random Fields: Probabilistic Models for Segmenting and Labeling Sequence Data",
           2001
          ],
          [
           "Latent Dirichlet Allocation",
           2003
          ],
          [
           "CoNLL-X Shared Task on Multilingual Dependency Parsing",
           2006
          ],
          [
           "Class-Based n-gram Models of Natural Language",
           1992
          ],
          [
           "GloVe: Global Vectors for Word Representation",
           2014
          ],
          [
           "Long Short-Term Memory",
           1997
          ],
          [
           "Natural Questions: A Benchmark for Question Answering Research",
           2019
          ],
          [
           "Reading Wikipedia to Answer Open-Domain Questions",
           2017
          ],
          [
           "Sequence to Sequence Learning with Neural Networks",
           2014
          ],
          [
           "ImageNet classification with deep convolutional neural networks",
           2012
          ],
          [
           "Neural Machine Translation by Jointly Learning to Align and Translate",
           2015
          ],
          [
           "Learning Phrase Representations using RNN Encoder–Decoder for Statistical Machine Translation",
           2014
          ],
          [
           "Reducing the Dimensionality of Data with Neural Networks",
           2006
          ],
          [
           "Learning representations by back-propagating errors",
           1986
          ],
          [
           "A Fast Learning Algorithm for Deep Belief Nets",
           2006
          ],
          [
           "Generating Sequences With Recurrent Neural Networks",
           2013
          ],
          [
           "Training Products of Experts by Minimizing Contrastive Divergence",
           2002
          ],
          [
           "Exponential Family Harmoniums with an Application to Information Retrieval",
           2004
          ],
          [
           "Maximum likelihood from incomplete data via the EM - algorithm plus discussions on the paper",
           1977
          ],
          [
           "A Learning Algorithm for Boltzmann Machines",
           1985
          ],
          [
           "Information processing in dynamical systems: foundations of harmony theory",
           1986
          ],
          [
           "Neural networks and physical systems with emergent collective computational abilities.",
           1982
          ],
          [
           "Learning and relearning in Boltzmann machines",
           1986
          ],
          [
           "Unsupervised named-entity extraction from the Web: An experimental study",
           2005
          ],
          [
           "Snowball: extracting relations from large plain-text collections",
           2000
          ],
          [
           "A Probabilistic Model of Redundancy in Information Extraction",
           2005
          ],
          [
           "Automatic Acquisition of Hyponyms from Large Text Corpora",
           1992
          ],
          [
           "A softbot-based interface to the Internet",
           1994
          ],
          [
           "Extracting Patterns and Relations from the World Wide Web",
           1998
          ],
          [
           "The Tradeoffs Between Open and Traditional Relation Extraction",
           2008
          ],
          [
           "ImageNet Large Scale Visual Recognition Challenge",
           2015
          ],
          [
           "Very Deep Convolutional Networks for Large-Scale Image Recognition",
           2015
          ],
          [
           "Visual Genome: Connecting Language and Vision Using Crowdsourced Dense Image Annotations",
           2016
          ],
          [
           "Object Detection with Discriminatively Trained Part Based Models",
           2009
          ],
          [
           "Modeling the Shape of the Scene: A Holistic Representation of the Spatial Envelope",
           2004
          ],
          [
           "Rich Feature Hierarchies for Accurate Object Detection and Semantic Segmentation",
           2014
          ],
          [
           "DeViSE: A Deep Visual-Semantic Embedding Model",
           2013
          ],
          [
           "Recurrent neural network based language model",
           2010
          ],
          [
           "Long-term recurrent convolutional networks for visual recognition and description",
           2015
          ],
          [
           "Every Picture Tells a Story: Generating Sentences from Images",
           2010
          ],
          [
           "Gradient-based learning applied to document recognition",
           1998
          ],
          [
           "Matching Words and Pictures",
           2003
          ],
          [
           "Regularizing and Optimizing LSTM Language Models",
           2018
          ],
          [
           "Deep Contextualized Word Representations",
           2018
          ],
          [
           "Cyclical Learning Rates for Training Neural Networks",
           2017
          ],
          [
           "A disciplined approach to neural network hyper-parameters: Part 1 - learning rate, batch size, momentum, and weight decay",
           2018
          ],
          [
           "Densely Connected Convolutional Networks",
           2017
          ],
          [
           "Universal Language Model Fine-tuning for Text Classification",
           2018
          ],
          [
           "SGDR: Stochastic Gradient Descent with Warm Restarts",
           2017
          ],
          [
           "Subword Regularization: Improving Neural Network Translation Models with Multiple Subword Candidates",
           2018
          ],
          [
           "Super-convergence: very fast training of neural networks using large learning rates",
           2019
          ],
          [
           "Recursive Deep Models for Semantic Compositionality Over a Sentiment Treebank",
           2013
          ],
          [
           "Dropout: a simple way to prevent neural networks from overfitting",
           2014
          ],
          [
           "Learning Deep Architectures for AI",
           2007
          ],
          [
           "Batch Normalization: Accelerating Deep Network Training by Reducing Internal Covariate Shift",
           2015
          ],
          [
           "Learning long-term dependencies with gradient descent is difficult",
           1994
          ],
          [
           "Theano: new features and speed improvements",
           2012
          ],
          [
           "Intriguing properties of neural networks",
           2014
          ],
          [
           "Explaining and Harnessing Adversarial Examples",
           2015
          ],
          [
           "Adversarial examples in the physical world",
           2017
          ],
          [
           "Learning Multiple Layers of Features from Tiny Images",
           2009
          ],
          [
           "Towards Deep Learning Models Resistant to Adversarial Attacks",
           2018
          ],
          [
           "Generative Adversarial Nets",
           2014
          ],
          [
           "Evasion Attacks against Machine Learning at Test Time",
           2013
          ],
          [
           "Deep Boltzmann Machines",
           2009
          ],
          [
           "Handwritten Digit Recognition with a Back-Propagation Network",
           1989
          ],
          [
           "Sparse coding with an overcomplete basis set: A strategy employed by V1?",
           1997
          ],
          [
           "Generalization and network design strategies",
           1989
          ],
          [
           "A Simple Framework for Contrastive Learning of Visual Representations",
           2020
          ],
          [
           "Backpropagation Applied to Handwritten Zip Code Recognition",
           1989
          ],
          [
           "What is the best multi-stage architecture for object recognition?",
           2009
          ],
          [
           "Histograms of oriented gradients for human detection",
           2005
          ]
         ],
         "hovertemplate": "Component 1=%{x}<br>Component 2=%{y}<br>Citations=%{marker.color}<br>Title=%{customdata[0]}<br>Year=%{customdata[1]}<extra></extra>",
         "legendgroup": "",
         "marker": {
          "color": [
           930,
           731,
           1364,
           291,
           356,
           2303,
           1336,
           671,
           2376,
           354,
           565,
           119484,
           24761,
           40110,
           694,
           440,
           108828,
           299,
           41,
           218,
           8582,
           46386,
           18724,
           6010,
           50193,
           1289,
           7838,
           8298,
           10608,
           515,
           5120,
           13882,
           127,
           344,
           637,
           84,
           975,
           8458,
           14118,
           33428,
           1070,
           3414,
           25528,
           60546,
           1179,
           1405,
           16533,
           93300,
           21937,
           17419,
           16190,
           21979,
           14454,
           3443,
           4860,
           510,
           50191,
           3642,
           2048,
           17347,
           1370,
           1256,
           1407,
           225,
           3735,
           606,
           1259,
           417,
           29191,
           73332,
           3376,
           9841,
           6795,
           20125,
           2165,
           5269,
           5279,
           1075,
           39685,
           1796,
           953,
           9152,
           1682,
           704,
           23553,
           2667,
           3757,
           671,
           714,
           6048,
           31799,
           8030,
           33911,
           6772,
           1399,
           10413,
           12157,
           3947,
           21138,
           6788,
           35286,
           1601,
           2163,
           3220,
           3679,
           940,
           7271,
           8820,
           2211,
           31383
          ],
          "coloraxis": "coloraxis",
          "size": [
           930,
           731,
           1364,
           291,
           356,
           2303,
           1336,
           671,
           2376,
           354,
           565,
           119484,
           24761,
           40110,
           694,
           440,
           108828,
           299,
           41,
           218,
           8582,
           46386,
           18724,
           6010,
           50193,
           1289,
           7838,
           8298,
           10608,
           515,
           5120,
           13882,
           127,
           344,
           637,
           84,
           975,
           8458,
           14118,
           33428,
           1070,
           3414,
           25528,
           60546,
           1179,
           1405,
           16533,
           93300,
           21937,
           17419,
           16190,
           21979,
           14454,
           3443,
           4860,
           510,
           50191,
           3642,
           2048,
           17347,
           1370,
           1256,
           1407,
           225,
           3735,
           606,
           1259,
           417,
           29191,
           73332,
           3376,
           9841,
           6795,
           20125,
           2165,
           5269,
           5279,
           1075,
           39685,
           1796,
           953,
           9152,
           1682,
           704,
           23553,
           2667,
           3757,
           671,
           714,
           6048,
           31799,
           8030,
           33911,
           6772,
           1399,
           10413,
           12157,
           3947,
           21138,
           6788,
           35286,
           1601,
           2163,
           3220,
           3679,
           940,
           7271,
           8820,
           2211,
           31383
          ],
          "sizemode": "area",
          "sizeref": 298.71,
          "symbol": "circle"
         },
         "mode": "markers",
         "name": "",
         "orientation": "v",
         "showlegend": false,
         "type": "scatter",
         "x": [
          17.004098892211914,
          18.122066497802734,
          17.146711349487305,
          19.50181007385254,
          14.539294242858887,
          17.278024673461914,
          14.061059951782227,
          20.09412384033203,
          10.982065200805664,
          17.93812370300293,
          10.751058578491211,
          -4.5317301750183105,
          -10.643708229064941,
          -19.349748611450195,
          12.181965827941895,
          13.778890609741211,
          0.3284124732017517,
          11.806426048278809,
          12.145697593688965,
          13.287198066711426,
          0.30111828446388245,
          -0.2992865741252899,
          4.1093668937683105,
          1.6984273195266724,
          -2.1612155437469482,
          -4.72217321395874,
          1.0693576335906982,
          3.5292489528656006,
          0.7883487939834595,
          7.43034553527832,
          3.991300582885742,
          7.7395806312561035,
          7.477387428283691,
          5.973085880279541,
          6.475449562072754,
          9.493673324584961,
          6.656695365905762,
          4.165096759796143,
          6.786605358123779,
          6.832851409912109,
          3.9999728202819824,
          1.5362787246704102,
          0.5520153045654297,
          -11.607636451721191,
          5.332825660705566,
          3.2136502265930176,
          -2.1168086528778076,
          -3.710440158843994,
          -3.679344892501831,
          -4.43073844909668,
          -3.8754115104675293,
          -8.882418632507324,
          -6.212015628814697,
          -11.624964714050293,
          1.607441782951355,
          7.610198974609375,
          -13.249784469604492,
          -16.241918563842773,
          -16.90448760986328,
          -16.755369186401367,
          -14.673104286193848,
          11.937886238098145,
          10.556711196899414,
          12.360626220703125,
          8.925942420959473,
          11.041168212890625,
          11.04444408416748,
          10.447846412658691,
          -9.137229919433594,
          -4.420950889587402,
          -5.807590007781982,
          -9.064390182495117,
          -11.971357345581055,
          -9.354066848754883,
          -6.118341445922852,
          -5.578170299530029,
          -2.663163661956787,
          -19.48003387451172,
          -9.601752281188965,
          -19.22540855407715,
          -1.5191080570220947,
          -0.2911491096019745,
          -2.2012412548065186,
          -0.8375542759895325,
          -2.9285409450531006,
          2.2988669872283936,
          1.4957706928253174,
          -1.9981297254562378,
          -2.0828182697296143,
          -0.27873340249061584,
          -3.638641119003296,
          -6.26415491104126,
          -1.6787835359573364,
          -10.679730415344238,
          -14.24741268157959,
          -5.145440578460693,
          1.3399068117141724,
          1.9753698110580444,
          -5.682212829589844,
          1.2095192670822144,
          1.1635496616363525,
          1.814204216003418,
          -7.01943302154541,
          -11.138863563537598,
          -7.2336649894714355,
          19.28968620300293,
          -5.819359302520752,
          -11.444025993347168,
          -8.910917282104492,
          -10.908621788024902
         ],
         "xaxis": "x",
         "y": [
          5.999173641204834,
          6.9143757820129395,
          6.896792888641357,
          12.735438346862793,
          8.585344314575195,
          7.871566295623779,
          9.110715866088867,
          12.015243530273438,
          -12.348390579223633,
          5.200622081756592,
          3.6030845642089844,
          4.279771327972412,
          -0.10931845009326935,
          12.146120071411133,
          5.726820468902588,
          4.650106430053711,
          9.60963249206543,
          2.681516647338867,
          4.3646111488342285,
          7.377038955688477,
          -6.186047554016113,
          -3.938654899597168,
          -12.387539863586426,
          -6.809671401977539,
          -4.272042274475098,
          -9.663043975830078,
          -5.341207981109619,
          -13.726766586303711,
          6.4025702476501465,
          -20.16896629333496,
          -16.51055908203125,
          -11.9749116897583,
          -18.006540298461914,
          -18.479618072509766,
          -16.265888214111328,
          -18.717330932617188,
          -18.90131950378418,
          -10.88334846496582,
          -4.125178337097168,
          -5.135392189025879,
          -9.922269821166992,
          -11.140521049499512,
          -10.219381332397461,
          5.696115493774414,
          -16.850074768066406,
          -16.84386444091797,
          -5.269165515899658,
          4.718155860900879,
          -6.577773571014404,
          -6.275676727294922,
          11.707853317260742,
          11.125338554382324,
          10.286439895629883,
          11.541309356689453,
          11.543919563293457,
          -5.591578960418701,
          4.681705951690674,
          3.3675537109375,
          1.6429263353347778,
          3.1487951278686523,
          9.56807804107666,
          -12.443106651306152,
          -10.982871055603027,
          -11.24342155456543,
          -12.683985710144043,
          6.752752304077148,
          -14.195491790771484,
          -12.766595840454102,
          0.5427751541137695,
          3.2773149013519287,
          -0.15193195641040802,
          -1.7138886451721191,
          0.04254777356982231,
          -0.6033658981323242,
          0.6212644577026367,
          -5.437608242034912,
          -0.5288877487182617,
          8.48691463470459,
          7.1768412590026855,
          11.36865234375,
          -6.485398769378662,
          -9.596814155578613,
          9.521028518676758,
          7.822052955627441,
          4.0831217765808105,
          -6.4509992599487305,
          8.826038360595703,
          -9.661788940429688,
          10.339847564697266,
          -8.426416397094727,
          8.017667770385742,
          8.894392967224121,
          8.33055591583252,
          11.368063926696777,
          9.893502235412598,
          6.962349891662598,
          14.547245979309082,
          15.721752166748047,
          5.912774562835693,
          15.90350341796875,
          13.358663558959961,
          17.0621337890625,
          10.34492015838623,
          8.3234224319458,
          5.855816841125488,
          13.176200866699219,
          1.929013729095459,
          8.5557222366333,
          2.5531187057495117,
          -1.8607416152954102
         ],
         "yaxis": "y"
        }
       ],
       "layout": {
        "coloraxis": {
         "colorbar": {
          "title": {
           "text": "Citations"
          }
         },
         "colorscale": [
          [
           0,
           "#0d0887"
          ],
          [
           0.1111111111111111,
           "#46039f"
          ],
          [
           0.2222222222222222,
           "#7201a8"
          ],
          [
           0.3333333333333333,
           "#9c179e"
          ],
          [
           0.4444444444444444,
           "#bd3786"
          ],
          [
           0.5555555555555556,
           "#d8576b"
          ],
          [
           0.6666666666666666,
           "#ed7953"
          ],
          [
           0.7777777777777778,
           "#fb9f3a"
          ],
          [
           0.8888888888888888,
           "#fdca26"
          ],
          [
           1,
           "#f0f921"
          ]
         ]
        },
        "legend": {
         "itemsizing": "constant",
         "tracegroupgap": 0
        },
        "template": {
         "data": {
          "bar": [
           {
            "error_x": {
             "color": "#2a3f5f"
            },
            "error_y": {
             "color": "#2a3f5f"
            },
            "marker": {
             "line": {
              "color": "#E5ECF6",
              "width": 0.5
             },
             "pattern": {
              "fillmode": "overlay",
              "size": 10,
              "solidity": 0.2
             }
            },
            "type": "bar"
           }
          ],
          "barpolar": [
           {
            "marker": {
             "line": {
              "color": "#E5ECF6",
              "width": 0.5
             },
             "pattern": {
              "fillmode": "overlay",
              "size": 10,
              "solidity": 0.2
             }
            },
            "type": "barpolar"
           }
          ],
          "carpet": [
           {
            "aaxis": {
             "endlinecolor": "#2a3f5f",
             "gridcolor": "white",
             "linecolor": "white",
             "minorgridcolor": "white",
             "startlinecolor": "#2a3f5f"
            },
            "baxis": {
             "endlinecolor": "#2a3f5f",
             "gridcolor": "white",
             "linecolor": "white",
             "minorgridcolor": "white",
             "startlinecolor": "#2a3f5f"
            },
            "type": "carpet"
           }
          ],
          "choropleth": [
           {
            "colorbar": {
             "outlinewidth": 0,
             "ticks": ""
            },
            "type": "choropleth"
           }
          ],
          "contour": [
           {
            "colorbar": {
             "outlinewidth": 0,
             "ticks": ""
            },
            "colorscale": [
             [
              0,
              "#0d0887"
             ],
             [
              0.1111111111111111,
              "#46039f"
             ],
             [
              0.2222222222222222,
              "#7201a8"
             ],
             [
              0.3333333333333333,
              "#9c179e"
             ],
             [
              0.4444444444444444,
              "#bd3786"
             ],
             [
              0.5555555555555556,
              "#d8576b"
             ],
             [
              0.6666666666666666,
              "#ed7953"
             ],
             [
              0.7777777777777778,
              "#fb9f3a"
             ],
             [
              0.8888888888888888,
              "#fdca26"
             ],
             [
              1,
              "#f0f921"
             ]
            ],
            "type": "contour"
           }
          ],
          "contourcarpet": [
           {
            "colorbar": {
             "outlinewidth": 0,
             "ticks": ""
            },
            "type": "contourcarpet"
           }
          ],
          "heatmap": [
           {
            "colorbar": {
             "outlinewidth": 0,
             "ticks": ""
            },
            "colorscale": [
             [
              0,
              "#0d0887"
             ],
             [
              0.1111111111111111,
              "#46039f"
             ],
             [
              0.2222222222222222,
              "#7201a8"
             ],
             [
              0.3333333333333333,
              "#9c179e"
             ],
             [
              0.4444444444444444,
              "#bd3786"
             ],
             [
              0.5555555555555556,
              "#d8576b"
             ],
             [
              0.6666666666666666,
              "#ed7953"
             ],
             [
              0.7777777777777778,
              "#fb9f3a"
             ],
             [
              0.8888888888888888,
              "#fdca26"
             ],
             [
              1,
              "#f0f921"
             ]
            ],
            "type": "heatmap"
           }
          ],
          "heatmapgl": [
           {
            "colorbar": {
             "outlinewidth": 0,
             "ticks": ""
            },
            "colorscale": [
             [
              0,
              "#0d0887"
             ],
             [
              0.1111111111111111,
              "#46039f"
             ],
             [
              0.2222222222222222,
              "#7201a8"
             ],
             [
              0.3333333333333333,
              "#9c179e"
             ],
             [
              0.4444444444444444,
              "#bd3786"
             ],
             [
              0.5555555555555556,
              "#d8576b"
             ],
             [
              0.6666666666666666,
              "#ed7953"
             ],
             [
              0.7777777777777778,
              "#fb9f3a"
             ],
             [
              0.8888888888888888,
              "#fdca26"
             ],
             [
              1,
              "#f0f921"
             ]
            ],
            "type": "heatmapgl"
           }
          ],
          "histogram": [
           {
            "marker": {
             "pattern": {
              "fillmode": "overlay",
              "size": 10,
              "solidity": 0.2
             }
            },
            "type": "histogram"
           }
          ],
          "histogram2d": [
           {
            "colorbar": {
             "outlinewidth": 0,
             "ticks": ""
            },
            "colorscale": [
             [
              0,
              "#0d0887"
             ],
             [
              0.1111111111111111,
              "#46039f"
             ],
             [
              0.2222222222222222,
              "#7201a8"
             ],
             [
              0.3333333333333333,
              "#9c179e"
             ],
             [
              0.4444444444444444,
              "#bd3786"
             ],
             [
              0.5555555555555556,
              "#d8576b"
             ],
             [
              0.6666666666666666,
              "#ed7953"
             ],
             [
              0.7777777777777778,
              "#fb9f3a"
             ],
             [
              0.8888888888888888,
              "#fdca26"
             ],
             [
              1,
              "#f0f921"
             ]
            ],
            "type": "histogram2d"
           }
          ],
          "histogram2dcontour": [
           {
            "colorbar": {
             "outlinewidth": 0,
             "ticks": ""
            },
            "colorscale": [
             [
              0,
              "#0d0887"
             ],
             [
              0.1111111111111111,
              "#46039f"
             ],
             [
              0.2222222222222222,
              "#7201a8"
             ],
             [
              0.3333333333333333,
              "#9c179e"
             ],
             [
              0.4444444444444444,
              "#bd3786"
             ],
             [
              0.5555555555555556,
              "#d8576b"
             ],
             [
              0.6666666666666666,
              "#ed7953"
             ],
             [
              0.7777777777777778,
              "#fb9f3a"
             ],
             [
              0.8888888888888888,
              "#fdca26"
             ],
             [
              1,
              "#f0f921"
             ]
            ],
            "type": "histogram2dcontour"
           }
          ],
          "mesh3d": [
           {
            "colorbar": {
             "outlinewidth": 0,
             "ticks": ""
            },
            "type": "mesh3d"
           }
          ],
          "parcoords": [
           {
            "line": {
             "colorbar": {
              "outlinewidth": 0,
              "ticks": ""
             }
            },
            "type": "parcoords"
           }
          ],
          "pie": [
           {
            "automargin": true,
            "type": "pie"
           }
          ],
          "scatter": [
           {
            "fillpattern": {
             "fillmode": "overlay",
             "size": 10,
             "solidity": 0.2
            },
            "type": "scatter"
           }
          ],
          "scatter3d": [
           {
            "line": {
             "colorbar": {
              "outlinewidth": 0,
              "ticks": ""
             }
            },
            "marker": {
             "colorbar": {
              "outlinewidth": 0,
              "ticks": ""
             }
            },
            "type": "scatter3d"
           }
          ],
          "scattercarpet": [
           {
            "marker": {
             "colorbar": {
              "outlinewidth": 0,
              "ticks": ""
             }
            },
            "type": "scattercarpet"
           }
          ],
          "scattergeo": [
           {
            "marker": {
             "colorbar": {
              "outlinewidth": 0,
              "ticks": ""
             }
            },
            "type": "scattergeo"
           }
          ],
          "scattergl": [
           {
            "marker": {
             "colorbar": {
              "outlinewidth": 0,
              "ticks": ""
             }
            },
            "type": "scattergl"
           }
          ],
          "scattermapbox": [
           {
            "marker": {
             "colorbar": {
              "outlinewidth": 0,
              "ticks": ""
             }
            },
            "type": "scattermapbox"
           }
          ],
          "scatterpolar": [
           {
            "marker": {
             "colorbar": {
              "outlinewidth": 0,
              "ticks": ""
             }
            },
            "type": "scatterpolar"
           }
          ],
          "scatterpolargl": [
           {
            "marker": {
             "colorbar": {
              "outlinewidth": 0,
              "ticks": ""
             }
            },
            "type": "scatterpolargl"
           }
          ],
          "scatterternary": [
           {
            "marker": {
             "colorbar": {
              "outlinewidth": 0,
              "ticks": ""
             }
            },
            "type": "scatterternary"
           }
          ],
          "surface": [
           {
            "colorbar": {
             "outlinewidth": 0,
             "ticks": ""
            },
            "colorscale": [
             [
              0,
              "#0d0887"
             ],
             [
              0.1111111111111111,
              "#46039f"
             ],
             [
              0.2222222222222222,
              "#7201a8"
             ],
             [
              0.3333333333333333,
              "#9c179e"
             ],
             [
              0.4444444444444444,
              "#bd3786"
             ],
             [
              0.5555555555555556,
              "#d8576b"
             ],
             [
              0.6666666666666666,
              "#ed7953"
             ],
             [
              0.7777777777777778,
              "#fb9f3a"
             ],
             [
              0.8888888888888888,
              "#fdca26"
             ],
             [
              1,
              "#f0f921"
             ]
            ],
            "type": "surface"
           }
          ],
          "table": [
           {
            "cells": {
             "fill": {
              "color": "#EBF0F8"
             },
             "line": {
              "color": "white"
             }
            },
            "header": {
             "fill": {
              "color": "#C8D4E3"
             },
             "line": {
              "color": "white"
             }
            },
            "type": "table"
           }
          ]
         },
         "layout": {
          "annotationdefaults": {
           "arrowcolor": "#2a3f5f",
           "arrowhead": 0,
           "arrowwidth": 1
          },
          "autotypenumbers": "strict",
          "coloraxis": {
           "colorbar": {
            "outlinewidth": 0,
            "ticks": ""
           }
          },
          "colorscale": {
           "diverging": [
            [
             0,
             "#8e0152"
            ],
            [
             0.1,
             "#c51b7d"
            ],
            [
             0.2,
             "#de77ae"
            ],
            [
             0.3,
             "#f1b6da"
            ],
            [
             0.4,
             "#fde0ef"
            ],
            [
             0.5,
             "#f7f7f7"
            ],
            [
             0.6,
             "#e6f5d0"
            ],
            [
             0.7,
             "#b8e186"
            ],
            [
             0.8,
             "#7fbc41"
            ],
            [
             0.9,
             "#4d9221"
            ],
            [
             1,
             "#276419"
            ]
           ],
           "sequential": [
            [
             0,
             "#0d0887"
            ],
            [
             0.1111111111111111,
             "#46039f"
            ],
            [
             0.2222222222222222,
             "#7201a8"
            ],
            [
             0.3333333333333333,
             "#9c179e"
            ],
            [
             0.4444444444444444,
             "#bd3786"
            ],
            [
             0.5555555555555556,
             "#d8576b"
            ],
            [
             0.6666666666666666,
             "#ed7953"
            ],
            [
             0.7777777777777778,
             "#fb9f3a"
            ],
            [
             0.8888888888888888,
             "#fdca26"
            ],
            [
             1,
             "#f0f921"
            ]
           ],
           "sequentialminus": [
            [
             0,
             "#0d0887"
            ],
            [
             0.1111111111111111,
             "#46039f"
            ],
            [
             0.2222222222222222,
             "#7201a8"
            ],
            [
             0.3333333333333333,
             "#9c179e"
            ],
            [
             0.4444444444444444,
             "#bd3786"
            ],
            [
             0.5555555555555556,
             "#d8576b"
            ],
            [
             0.6666666666666666,
             "#ed7953"
            ],
            [
             0.7777777777777778,
             "#fb9f3a"
            ],
            [
             0.8888888888888888,
             "#fdca26"
            ],
            [
             1,
             "#f0f921"
            ]
           ]
          },
          "colorway": [
           "#636efa",
           "#EF553B",
           "#00cc96",
           "#ab63fa",
           "#FFA15A",
           "#19d3f3",
           "#FF6692",
           "#B6E880",
           "#FF97FF",
           "#FECB52"
          ],
          "font": {
           "color": "#2a3f5f"
          },
          "geo": {
           "bgcolor": "white",
           "lakecolor": "white",
           "landcolor": "#E5ECF6",
           "showlakes": true,
           "showland": true,
           "subunitcolor": "white"
          },
          "hoverlabel": {
           "align": "left"
          },
          "hovermode": "closest",
          "mapbox": {
           "style": "light"
          },
          "paper_bgcolor": "white",
          "plot_bgcolor": "#E5ECF6",
          "polar": {
           "angularaxis": {
            "gridcolor": "white",
            "linecolor": "white",
            "ticks": ""
           },
           "bgcolor": "#E5ECF6",
           "radialaxis": {
            "gridcolor": "white",
            "linecolor": "white",
            "ticks": ""
           }
          },
          "scene": {
           "xaxis": {
            "backgroundcolor": "#E5ECF6",
            "gridcolor": "white",
            "gridwidth": 2,
            "linecolor": "white",
            "showbackground": true,
            "ticks": "",
            "zerolinecolor": "white"
           },
           "yaxis": {
            "backgroundcolor": "#E5ECF6",
            "gridcolor": "white",
            "gridwidth": 2,
            "linecolor": "white",
            "showbackground": true,
            "ticks": "",
            "zerolinecolor": "white"
           },
           "zaxis": {
            "backgroundcolor": "#E5ECF6",
            "gridcolor": "white",
            "gridwidth": 2,
            "linecolor": "white",
            "showbackground": true,
            "ticks": "",
            "zerolinecolor": "white"
           }
          },
          "shapedefaults": {
           "line": {
            "color": "#2a3f5f"
           }
          },
          "ternary": {
           "aaxis": {
            "gridcolor": "white",
            "linecolor": "white",
            "ticks": ""
           },
           "baxis": {
            "gridcolor": "white",
            "linecolor": "white",
            "ticks": ""
           },
           "bgcolor": "#E5ECF6",
           "caxis": {
            "gridcolor": "white",
            "linecolor": "white",
            "ticks": ""
           }
          },
          "title": {
           "x": 0.05
          },
          "xaxis": {
           "automargin": true,
           "gridcolor": "white",
           "linecolor": "white",
           "ticks": "",
           "title": {
            "standoff": 15
           },
           "zerolinecolor": "white",
           "zerolinewidth": 2
          },
          "yaxis": {
           "automargin": true,
           "gridcolor": "white",
           "linecolor": "white",
           "ticks": "",
           "title": {
            "standoff": 15
           },
           "zerolinecolor": "white",
           "zerolinewidth": 2
          }
         }
        },
        "title": {
         "text": "Top Cited Papers"
        },
        "xaxis": {
         "anchor": "y",
         "domain": [
          0,
          1
         ],
         "title": {
          "text": "Component 1"
         }
        },
        "yaxis": {
         "anchor": "x",
         "domain": [
          0,
          1
         ],
         "title": {
          "text": "Component 2"
         }
        }
       }
      },
      "text/html": [
       "<div>                            <div id=\"6f87bc5d-e11d-4a41-9009-d63d41df315a\" class=\"plotly-graph-div\" style=\"height:525px; width:100%;\"></div>            <script type=\"text/javascript\">                require([\"plotly\"], function(Plotly) {                    window.PLOTLYENV=window.PLOTLYENV || {};                                    if (document.getElementById(\"6f87bc5d-e11d-4a41-9009-d63d41df315a\")) {                    Plotly.newPlot(                        \"6f87bc5d-e11d-4a41-9009-d63d41df315a\",                        [{\"customdata\":[[\"UCPOP: A Sound, Complete, Partial Order Planner for ADL\",1992],[\"Systematic Nonlinear Planning\",1991],[\"Planning for Conjunctive Goals\",1987],[\"An Approach to Planning with Incomplete Information\",1992],[\"Labeled RTDP: Improving the Convergence of Real-Time Dynamic Programming\",2003],[\"Fast Planning Through Planning Graph Analysis\",1995],[\"Learning to Act Using Real-Time Dynamic Programming\",1995],[\"ADL: Exploring the Middle Ground Between STRIPS and the Situation Calculus\",1989],[\"Open Information Extraction from the Web\",2008],[\"Conditional nonlinear planning\",1992],[\"AI2-THOR: An Interactive 3D Environment for Visual AI\",2017],[\"Deep Residual Learning for Image Recognition\",2016],[\"Microsoft COCO: Common Objects in Context\",2014],[\"ImageNet: A large-scale hierarchical image database\",2009],[\"Habitat: A Platform for Embodied AI Research\",2019],[\"On Evaluation of Embodied Navigation Agents\",2018],[\"Adam: A Method for Stochastic Optimization\",2015],[\"IQA: Visual Question Answering in Interactive Environments\",2018],[\"AllenAct: A Framework for Embodied AI Research\",2020],[\"DD-PPO: Learning Near-Perfect PointGoal Navigators from 2.5 Billion Frames\",2020],[\"Language Models are Unsupervised Multitask Learners\",2019],[\"BERT: Pre-training of Deep Bidirectional Transformers for Language Understanding\",2019],[\"Bleu: a Method for Automatic Evaluation of Machine Translation\",2002],[\"Exploring the Limits of Transfer Learning with a Unified Text-to-Text Transformer\",2020],[\"Attention is All you Need\",2017],[\"The Curious Case of Neural Text Degeneration\",2020],[\"Language Models are Few-Shot Learners\",2020],[\"ROUGE: A Package for Automatic Evaluation of Summaries\",2004],[\"RoBERTa: A Robustly Optimized BERT Pretraining Approach\",2019],[\"ATOMIC: An Atlas of Machine Commonsense for If-Then Reasoning\",2019],[\"SQuAD: 100,000+ Questions for Machine Comprehension of Text\",2016],[\"WordNet : an electronic lexical database\",2000],[\"Combining Retrieval, Statistics, and Inference to Answer Elementary Science Questions\",2016],[\"Think you have Solved Question Answering? Try ARC, the AI2 Reasoning Challenge\",2018],[\"Discovery of inference rules for question-answering\",2001],[\"Building Concept Representations from Reusable Components\",1997],[\"Towards AI-Complete Question Answering: A Set of Prerequisite Toy Tasks\",2016],[\"Building a Large Annotated Corpus of English: The Penn Treebank\",1993],[\"Conditional Random Fields: Probabilistic Models for Segmenting and Labeling Sequence Data\",2001],[\"Latent Dirichlet Allocation\",2003],[\"CoNLL-X Shared Task on Multilingual Dependency Parsing\",2006],[\"Class-Based n-gram Models of Natural Language\",1992],[\"GloVe: Global Vectors for Word Representation\",2014],[\"Long Short-Term Memory\",1997],[\"Natural Questions: A Benchmark for Question Answering Research\",2019],[\"Reading Wikipedia to Answer Open-Domain Questions\",2017],[\"Sequence to Sequence Learning with Neural Networks\",2014],[\"ImageNet classification with deep convolutional neural networks\",2012],[\"Neural Machine Translation by Jointly Learning to Align and Translate\",2015],[\"Learning Phrase Representations using RNN Encoder\\u2013Decoder for Statistical Machine Translation\",2014],[\"Reducing the Dimensionality of Data with Neural Networks\",2006],[\"Learning representations by back-propagating errors\",1986],[\"A Fast Learning Algorithm for Deep Belief Nets\",2006],[\"Generating Sequences With Recurrent Neural Networks\",2013],[\"Training Products of Experts by Minimizing Contrastive Divergence\",2002],[\"Exponential Family Harmoniums with an Application to Information Retrieval\",2004],[\"Maximum likelihood from incomplete data via the EM - algorithm plus discussions on the paper\",1977],[\"A Learning Algorithm for Boltzmann Machines\",1985],[\"Information processing in dynamical systems: foundations of harmony theory\",1986],[\"Neural networks and physical systems with emergent collective computational abilities.\",1982],[\"Learning and relearning in Boltzmann machines\",1986],[\"Unsupervised named-entity extraction from the Web: An experimental study\",2005],[\"Snowball: extracting relations from large plain-text collections\",2000],[\"A Probabilistic Model of Redundancy in Information Extraction\",2005],[\"Automatic Acquisition of Hyponyms from Large Text Corpora\",1992],[\"A softbot-based interface to the Internet\",1994],[\"Extracting Patterns and Relations from the World Wide Web\",1998],[\"The Tradeoffs Between Open and Traditional Relation Extraction\",2008],[\"ImageNet Large Scale Visual Recognition Challenge\",2015],[\"Very Deep Convolutional Networks for Large-Scale Image Recognition\",2015],[\"Visual Genome: Connecting Language and Vision Using Crowdsourced Dense Image Annotations\",2016],[\"Object Detection with Discriminatively Trained Part Based Models\",2009],[\"Modeling the Shape of the Scene: A Holistic Representation of the Spatial Envelope\",2004],[\"Rich Feature Hierarchies for Accurate Object Detection and Semantic Segmentation\",2014],[\"DeViSE: A Deep Visual-Semantic Embedding Model\",2013],[\"Recurrent neural network based language model\",2010],[\"Long-term recurrent convolutional networks for visual recognition and description\",2015],[\"Every Picture Tells a Story: Generating Sentences from Images\",2010],[\"Gradient-based learning applied to document recognition\",1998],[\"Matching Words and Pictures\",2003],[\"Regularizing and Optimizing LSTM Language Models\",2018],[\"Deep Contextualized Word Representations\",2018],[\"Cyclical Learning Rates for Training Neural Networks\",2017],[\"A disciplined approach to neural network hyper-parameters: Part 1 - learning rate, batch size, momentum, and weight decay\",2018],[\"Densely Connected Convolutional Networks\",2017],[\"Universal Language Model Fine-tuning for Text Classification\",2018],[\"SGDR: Stochastic Gradient Descent with Warm Restarts\",2017],[\"Subword Regularization: Improving Neural Network Translation Models with Multiple Subword Candidates\",2018],[\"Super-convergence: very fast training of neural networks using large learning rates\",2019],[\"Recursive Deep Models for Semantic Compositionality Over a Sentiment Treebank\",2013],[\"Dropout: a simple way to prevent neural networks from overfitting\",2014],[\"Learning Deep Architectures for AI\",2007],[\"Batch Normalization: Accelerating Deep Network Training by Reducing Internal Covariate Shift\",2015],[\"Learning long-term dependencies with gradient descent is difficult\",1994],[\"Theano: new features and speed improvements\",2012],[\"Intriguing properties of neural networks\",2014],[\"Explaining and Harnessing Adversarial Examples\",2015],[\"Adversarial examples in the physical world\",2017],[\"Learning Multiple Layers of Features from Tiny Images\",2009],[\"Towards Deep Learning Models Resistant to Adversarial Attacks\",2018],[\"Generative Adversarial Nets\",2014],[\"Evasion Attacks against Machine Learning at Test Time\",2013],[\"Deep Boltzmann Machines\",2009],[\"Handwritten Digit Recognition with a Back-Propagation Network\",1989],[\"Sparse coding with an overcomplete basis set: A strategy employed by V1?\",1997],[\"Generalization and network design strategies\",1989],[\"A Simple Framework for Contrastive Learning of Visual Representations\",2020],[\"Backpropagation Applied to Handwritten Zip Code Recognition\",1989],[\"What is the best multi-stage architecture for object recognition?\",2009],[\"Histograms of oriented gradients for human detection\",2005]],\"hovertemplate\":\"Component 1=%{x}<br>Component 2=%{y}<br>Citations=%{marker.color}<br>Title=%{customdata[0]}<br>Year=%{customdata[1]}<extra></extra>\",\"legendgroup\":\"\",\"marker\":{\"color\":[930,731,1364,291,356,2303,1336,671,2376,354,565,119484,24761,40110,694,440,108828,299,41,218,8582,46386,18724,6010,50193,1289,7838,8298,10608,515,5120,13882,127,344,637,84,975,8458,14118,33428,1070,3414,25528,60546,1179,1405,16533,93300,21937,17419,16190,21979,14454,3443,4860,510,50191,3642,2048,17347,1370,1256,1407,225,3735,606,1259,417,29191,73332,3376,9841,6795,20125,2165,5269,5279,1075,39685,1796,953,9152,1682,704,23553,2667,3757,671,714,6048,31799,8030,33911,6772,1399,10413,12157,3947,21138,6788,35286,1601,2163,3220,3679,940,7271,8820,2211,31383],\"coloraxis\":\"coloraxis\",\"size\":[930,731,1364,291,356,2303,1336,671,2376,354,565,119484,24761,40110,694,440,108828,299,41,218,8582,46386,18724,6010,50193,1289,7838,8298,10608,515,5120,13882,127,344,637,84,975,8458,14118,33428,1070,3414,25528,60546,1179,1405,16533,93300,21937,17419,16190,21979,14454,3443,4860,510,50191,3642,2048,17347,1370,1256,1407,225,3735,606,1259,417,29191,73332,3376,9841,6795,20125,2165,5269,5279,1075,39685,1796,953,9152,1682,704,23553,2667,3757,671,714,6048,31799,8030,33911,6772,1399,10413,12157,3947,21138,6788,35286,1601,2163,3220,3679,940,7271,8820,2211,31383],\"sizemode\":\"area\",\"sizeref\":298.71,\"symbol\":\"circle\"},\"mode\":\"markers\",\"name\":\"\",\"orientation\":\"v\",\"showlegend\":false,\"x\":[17.004098892211914,18.122066497802734,17.146711349487305,19.50181007385254,14.539294242858887,17.278024673461914,14.061059951782227,20.09412384033203,10.982065200805664,17.93812370300293,10.751058578491211,-4.5317301750183105,-10.643708229064941,-19.349748611450195,12.181965827941895,13.778890609741211,0.3284124732017517,11.806426048278809,12.145697593688965,13.287198066711426,0.30111828446388245,-0.2992865741252899,4.1093668937683105,1.6984273195266724,-2.1612155437469482,-4.72217321395874,1.0693576335906982,3.5292489528656006,0.7883487939834595,7.43034553527832,3.991300582885742,7.7395806312561035,7.477387428283691,5.973085880279541,6.475449562072754,9.493673324584961,6.656695365905762,4.165096759796143,6.786605358123779,6.832851409912109,3.9999728202819824,1.5362787246704102,0.5520153045654297,-11.607636451721191,5.332825660705566,3.2136502265930176,-2.1168086528778076,-3.710440158843994,-3.679344892501831,-4.43073844909668,-3.8754115104675293,-8.882418632507324,-6.212015628814697,-11.624964714050293,1.607441782951355,7.610198974609375,-13.249784469604492,-16.241918563842773,-16.90448760986328,-16.755369186401367,-14.673104286193848,11.937886238098145,10.556711196899414,12.360626220703125,8.925942420959473,11.041168212890625,11.04444408416748,10.447846412658691,-9.137229919433594,-4.420950889587402,-5.807590007781982,-9.064390182495117,-11.971357345581055,-9.354066848754883,-6.118341445922852,-5.578170299530029,-2.663163661956787,-19.48003387451172,-9.601752281188965,-19.22540855407715,-1.5191080570220947,-0.2911491096019745,-2.2012412548065186,-0.8375542759895325,-2.9285409450531006,2.2988669872283936,1.4957706928253174,-1.9981297254562378,-2.0828182697296143,-0.27873340249061584,-3.638641119003296,-6.26415491104126,-1.6787835359573364,-10.679730415344238,-14.24741268157959,-5.145440578460693,1.3399068117141724,1.9753698110580444,-5.682212829589844,1.2095192670822144,1.1635496616363525,1.814204216003418,-7.01943302154541,-11.138863563537598,-7.2336649894714355,19.28968620300293,-5.819359302520752,-11.444025993347168,-8.910917282104492,-10.908621788024902],\"xaxis\":\"x\",\"y\":[5.999173641204834,6.9143757820129395,6.896792888641357,12.735438346862793,8.585344314575195,7.871566295623779,9.110715866088867,12.015243530273438,-12.348390579223633,5.200622081756592,3.6030845642089844,4.279771327972412,-0.10931845009326935,12.146120071411133,5.726820468902588,4.650106430053711,9.60963249206543,2.681516647338867,4.3646111488342285,7.377038955688477,-6.186047554016113,-3.938654899597168,-12.387539863586426,-6.809671401977539,-4.272042274475098,-9.663043975830078,-5.341207981109619,-13.726766586303711,6.4025702476501465,-20.16896629333496,-16.51055908203125,-11.9749116897583,-18.006540298461914,-18.479618072509766,-16.265888214111328,-18.717330932617188,-18.90131950378418,-10.88334846496582,-4.125178337097168,-5.135392189025879,-9.922269821166992,-11.140521049499512,-10.219381332397461,5.696115493774414,-16.850074768066406,-16.84386444091797,-5.269165515899658,4.718155860900879,-6.577773571014404,-6.275676727294922,11.707853317260742,11.125338554382324,10.286439895629883,11.541309356689453,11.543919563293457,-5.591578960418701,4.681705951690674,3.3675537109375,1.6429263353347778,3.1487951278686523,9.56807804107666,-12.443106651306152,-10.982871055603027,-11.24342155456543,-12.683985710144043,6.752752304077148,-14.195491790771484,-12.766595840454102,0.5427751541137695,3.2773149013519287,-0.15193195641040802,-1.7138886451721191,0.04254777356982231,-0.6033658981323242,0.6212644577026367,-5.437608242034912,-0.5288877487182617,8.48691463470459,7.1768412590026855,11.36865234375,-6.485398769378662,-9.596814155578613,9.521028518676758,7.822052955627441,4.0831217765808105,-6.4509992599487305,8.826038360595703,-9.661788940429688,10.339847564697266,-8.426416397094727,8.017667770385742,8.894392967224121,8.33055591583252,11.368063926696777,9.893502235412598,6.962349891662598,14.547245979309082,15.721752166748047,5.912774562835693,15.90350341796875,13.358663558959961,17.0621337890625,10.34492015838623,8.3234224319458,5.855816841125488,13.176200866699219,1.929013729095459,8.5557222366333,2.5531187057495117,-1.8607416152954102],\"yaxis\":\"y\",\"type\":\"scatter\"}],                        {\"template\":{\"data\":{\"histogram2dcontour\":[{\"type\":\"histogram2dcontour\",\"colorbar\":{\"outlinewidth\":0,\"ticks\":\"\"},\"colorscale\":[[0.0,\"#0d0887\"],[0.1111111111111111,\"#46039f\"],[0.2222222222222222,\"#7201a8\"],[0.3333333333333333,\"#9c179e\"],[0.4444444444444444,\"#bd3786\"],[0.5555555555555556,\"#d8576b\"],[0.6666666666666666,\"#ed7953\"],[0.7777777777777778,\"#fb9f3a\"],[0.8888888888888888,\"#fdca26\"],[1.0,\"#f0f921\"]]}],\"choropleth\":[{\"type\":\"choropleth\",\"colorbar\":{\"outlinewidth\":0,\"ticks\":\"\"}}],\"histogram2d\":[{\"type\":\"histogram2d\",\"colorbar\":{\"outlinewidth\":0,\"ticks\":\"\"},\"colorscale\":[[0.0,\"#0d0887\"],[0.1111111111111111,\"#46039f\"],[0.2222222222222222,\"#7201a8\"],[0.3333333333333333,\"#9c179e\"],[0.4444444444444444,\"#bd3786\"],[0.5555555555555556,\"#d8576b\"],[0.6666666666666666,\"#ed7953\"],[0.7777777777777778,\"#fb9f3a\"],[0.8888888888888888,\"#fdca26\"],[1.0,\"#f0f921\"]]}],\"heatmap\":[{\"type\":\"heatmap\",\"colorbar\":{\"outlinewidth\":0,\"ticks\":\"\"},\"colorscale\":[[0.0,\"#0d0887\"],[0.1111111111111111,\"#46039f\"],[0.2222222222222222,\"#7201a8\"],[0.3333333333333333,\"#9c179e\"],[0.4444444444444444,\"#bd3786\"],[0.5555555555555556,\"#d8576b\"],[0.6666666666666666,\"#ed7953\"],[0.7777777777777778,\"#fb9f3a\"],[0.8888888888888888,\"#fdca26\"],[1.0,\"#f0f921\"]]}],\"heatmapgl\":[{\"type\":\"heatmapgl\",\"colorbar\":{\"outlinewidth\":0,\"ticks\":\"\"},\"colorscale\":[[0.0,\"#0d0887\"],[0.1111111111111111,\"#46039f\"],[0.2222222222222222,\"#7201a8\"],[0.3333333333333333,\"#9c179e\"],[0.4444444444444444,\"#bd3786\"],[0.5555555555555556,\"#d8576b\"],[0.6666666666666666,\"#ed7953\"],[0.7777777777777778,\"#fb9f3a\"],[0.8888888888888888,\"#fdca26\"],[1.0,\"#f0f921\"]]}],\"contourcarpet\":[{\"type\":\"contourcarpet\",\"colorbar\":{\"outlinewidth\":0,\"ticks\":\"\"}}],\"contour\":[{\"type\":\"contour\",\"colorbar\":{\"outlinewidth\":0,\"ticks\":\"\"},\"colorscale\":[[0.0,\"#0d0887\"],[0.1111111111111111,\"#46039f\"],[0.2222222222222222,\"#7201a8\"],[0.3333333333333333,\"#9c179e\"],[0.4444444444444444,\"#bd3786\"],[0.5555555555555556,\"#d8576b\"],[0.6666666666666666,\"#ed7953\"],[0.7777777777777778,\"#fb9f3a\"],[0.8888888888888888,\"#fdca26\"],[1.0,\"#f0f921\"]]}],\"surface\":[{\"type\":\"surface\",\"colorbar\":{\"outlinewidth\":0,\"ticks\":\"\"},\"colorscale\":[[0.0,\"#0d0887\"],[0.1111111111111111,\"#46039f\"],[0.2222222222222222,\"#7201a8\"],[0.3333333333333333,\"#9c179e\"],[0.4444444444444444,\"#bd3786\"],[0.5555555555555556,\"#d8576b\"],[0.6666666666666666,\"#ed7953\"],[0.7777777777777778,\"#fb9f3a\"],[0.8888888888888888,\"#fdca26\"],[1.0,\"#f0f921\"]]}],\"mesh3d\":[{\"type\":\"mesh3d\",\"colorbar\":{\"outlinewidth\":0,\"ticks\":\"\"}}],\"scatter\":[{\"fillpattern\":{\"fillmode\":\"overlay\",\"size\":10,\"solidity\":0.2},\"type\":\"scatter\"}],\"parcoords\":[{\"type\":\"parcoords\",\"line\":{\"colorbar\":{\"outlinewidth\":0,\"ticks\":\"\"}}}],\"scatterpolargl\":[{\"type\":\"scatterpolargl\",\"marker\":{\"colorbar\":{\"outlinewidth\":0,\"ticks\":\"\"}}}],\"bar\":[{\"error_x\":{\"color\":\"#2a3f5f\"},\"error_y\":{\"color\":\"#2a3f5f\"},\"marker\":{\"line\":{\"color\":\"#E5ECF6\",\"width\":0.5},\"pattern\":{\"fillmode\":\"overlay\",\"size\":10,\"solidity\":0.2}},\"type\":\"bar\"}],\"scattergeo\":[{\"type\":\"scattergeo\",\"marker\":{\"colorbar\":{\"outlinewidth\":0,\"ticks\":\"\"}}}],\"scatterpolar\":[{\"type\":\"scatterpolar\",\"marker\":{\"colorbar\":{\"outlinewidth\":0,\"ticks\":\"\"}}}],\"histogram\":[{\"marker\":{\"pattern\":{\"fillmode\":\"overlay\",\"size\":10,\"solidity\":0.2}},\"type\":\"histogram\"}],\"scattergl\":[{\"type\":\"scattergl\",\"marker\":{\"colorbar\":{\"outlinewidth\":0,\"ticks\":\"\"}}}],\"scatter3d\":[{\"type\":\"scatter3d\",\"line\":{\"colorbar\":{\"outlinewidth\":0,\"ticks\":\"\"}},\"marker\":{\"colorbar\":{\"outlinewidth\":0,\"ticks\":\"\"}}}],\"scattermapbox\":[{\"type\":\"scattermapbox\",\"marker\":{\"colorbar\":{\"outlinewidth\":0,\"ticks\":\"\"}}}],\"scatterternary\":[{\"type\":\"scatterternary\",\"marker\":{\"colorbar\":{\"outlinewidth\":0,\"ticks\":\"\"}}}],\"scattercarpet\":[{\"type\":\"scattercarpet\",\"marker\":{\"colorbar\":{\"outlinewidth\":0,\"ticks\":\"\"}}}],\"carpet\":[{\"aaxis\":{\"endlinecolor\":\"#2a3f5f\",\"gridcolor\":\"white\",\"linecolor\":\"white\",\"minorgridcolor\":\"white\",\"startlinecolor\":\"#2a3f5f\"},\"baxis\":{\"endlinecolor\":\"#2a3f5f\",\"gridcolor\":\"white\",\"linecolor\":\"white\",\"minorgridcolor\":\"white\",\"startlinecolor\":\"#2a3f5f\"},\"type\":\"carpet\"}],\"table\":[{\"cells\":{\"fill\":{\"color\":\"#EBF0F8\"},\"line\":{\"color\":\"white\"}},\"header\":{\"fill\":{\"color\":\"#C8D4E3\"},\"line\":{\"color\":\"white\"}},\"type\":\"table\"}],\"barpolar\":[{\"marker\":{\"line\":{\"color\":\"#E5ECF6\",\"width\":0.5},\"pattern\":{\"fillmode\":\"overlay\",\"size\":10,\"solidity\":0.2}},\"type\":\"barpolar\"}],\"pie\":[{\"automargin\":true,\"type\":\"pie\"}]},\"layout\":{\"autotypenumbers\":\"strict\",\"colorway\":[\"#636efa\",\"#EF553B\",\"#00cc96\",\"#ab63fa\",\"#FFA15A\",\"#19d3f3\",\"#FF6692\",\"#B6E880\",\"#FF97FF\",\"#FECB52\"],\"font\":{\"color\":\"#2a3f5f\"},\"hovermode\":\"closest\",\"hoverlabel\":{\"align\":\"left\"},\"paper_bgcolor\":\"white\",\"plot_bgcolor\":\"#E5ECF6\",\"polar\":{\"bgcolor\":\"#E5ECF6\",\"angularaxis\":{\"gridcolor\":\"white\",\"linecolor\":\"white\",\"ticks\":\"\"},\"radialaxis\":{\"gridcolor\":\"white\",\"linecolor\":\"white\",\"ticks\":\"\"}},\"ternary\":{\"bgcolor\":\"#E5ECF6\",\"aaxis\":{\"gridcolor\":\"white\",\"linecolor\":\"white\",\"ticks\":\"\"},\"baxis\":{\"gridcolor\":\"white\",\"linecolor\":\"white\",\"ticks\":\"\"},\"caxis\":{\"gridcolor\":\"white\",\"linecolor\":\"white\",\"ticks\":\"\"}},\"coloraxis\":{\"colorbar\":{\"outlinewidth\":0,\"ticks\":\"\"}},\"colorscale\":{\"sequential\":[[0.0,\"#0d0887\"],[0.1111111111111111,\"#46039f\"],[0.2222222222222222,\"#7201a8\"],[0.3333333333333333,\"#9c179e\"],[0.4444444444444444,\"#bd3786\"],[0.5555555555555556,\"#d8576b\"],[0.6666666666666666,\"#ed7953\"],[0.7777777777777778,\"#fb9f3a\"],[0.8888888888888888,\"#fdca26\"],[1.0,\"#f0f921\"]],\"sequentialminus\":[[0.0,\"#0d0887\"],[0.1111111111111111,\"#46039f\"],[0.2222222222222222,\"#7201a8\"],[0.3333333333333333,\"#9c179e\"],[0.4444444444444444,\"#bd3786\"],[0.5555555555555556,\"#d8576b\"],[0.6666666666666666,\"#ed7953\"],[0.7777777777777778,\"#fb9f3a\"],[0.8888888888888888,\"#fdca26\"],[1.0,\"#f0f921\"]],\"diverging\":[[0,\"#8e0152\"],[0.1,\"#c51b7d\"],[0.2,\"#de77ae\"],[0.3,\"#f1b6da\"],[0.4,\"#fde0ef\"],[0.5,\"#f7f7f7\"],[0.6,\"#e6f5d0\"],[0.7,\"#b8e186\"],[0.8,\"#7fbc41\"],[0.9,\"#4d9221\"],[1,\"#276419\"]]},\"xaxis\":{\"gridcolor\":\"white\",\"linecolor\":\"white\",\"ticks\":\"\",\"title\":{\"standoff\":15},\"zerolinecolor\":\"white\",\"automargin\":true,\"zerolinewidth\":2},\"yaxis\":{\"gridcolor\":\"white\",\"linecolor\":\"white\",\"ticks\":\"\",\"title\":{\"standoff\":15},\"zerolinecolor\":\"white\",\"automargin\":true,\"zerolinewidth\":2},\"scene\":{\"xaxis\":{\"backgroundcolor\":\"#E5ECF6\",\"gridcolor\":\"white\",\"linecolor\":\"white\",\"showbackground\":true,\"ticks\":\"\",\"zerolinecolor\":\"white\",\"gridwidth\":2},\"yaxis\":{\"backgroundcolor\":\"#E5ECF6\",\"gridcolor\":\"white\",\"linecolor\":\"white\",\"showbackground\":true,\"ticks\":\"\",\"zerolinecolor\":\"white\",\"gridwidth\":2},\"zaxis\":{\"backgroundcolor\":\"#E5ECF6\",\"gridcolor\":\"white\",\"linecolor\":\"white\",\"showbackground\":true,\"ticks\":\"\",\"zerolinecolor\":\"white\",\"gridwidth\":2}},\"shapedefaults\":{\"line\":{\"color\":\"#2a3f5f\"}},\"annotationdefaults\":{\"arrowcolor\":\"#2a3f5f\",\"arrowhead\":0,\"arrowwidth\":1},\"geo\":{\"bgcolor\":\"white\",\"landcolor\":\"#E5ECF6\",\"subunitcolor\":\"white\",\"showland\":true,\"showlakes\":true,\"lakecolor\":\"white\"},\"title\":{\"x\":0.05},\"mapbox\":{\"style\":\"light\"}}},\"xaxis\":{\"anchor\":\"y\",\"domain\":[0.0,1.0],\"title\":{\"text\":\"Component 1\"}},\"yaxis\":{\"anchor\":\"x\",\"domain\":[0.0,1.0],\"title\":{\"text\":\"Component 2\"}},\"coloraxis\":{\"colorbar\":{\"title\":{\"text\":\"Citations\"}},\"colorscale\":[[0.0,\"#0d0887\"],[0.1111111111111111,\"#46039f\"],[0.2222222222222222,\"#7201a8\"],[0.3333333333333333,\"#9c179e\"],[0.4444444444444444,\"#bd3786\"],[0.5555555555555556,\"#d8576b\"],[0.6666666666666666,\"#ed7953\"],[0.7777777777777778,\"#fb9f3a\"],[0.8888888888888888,\"#fdca26\"],[1.0,\"#f0f921\"]]},\"legend\":{\"tracegroupgap\":0,\"itemsizing\":\"constant\"},\"title\":{\"text\":\"Top Cited Papers\"}},                        {\"responsive\": true}                    ).then(function(){\n",
       "                            \n",
       "var gd = document.getElementById('6f87bc5d-e11d-4a41-9009-d63d41df315a');\n",
       "var x = new MutationObserver(function (mutations, observer) {{\n",
       "        var display = window.getComputedStyle(gd).display;\n",
       "        if (!display || display === 'none') {{\n",
       "            console.log([gd, 'removed!']);\n",
       "            Plotly.purge(gd);\n",
       "            observer.disconnect();\n",
       "        }}\n",
       "}});\n",
       "\n",
       "// Listen for the removal of the full notebook cells\n",
       "var notebookContainer = gd.closest('#notebook-container');\n",
       "if (notebookContainer) {{\n",
       "    x.observe(notebookContainer, {childList: true});\n",
       "}}\n",
       "\n",
       "// Listen for the clearing of the current output cell\n",
       "var outputEl = gd.closest('.output');\n",
       "if (outputEl) {{\n",
       "    x.observe(outputEl, {childList: true});\n",
       "}}\n",
       "\n",
       "                        })                };                });            </script>        </div>"
      ]
     },
     "metadata": {},
     "output_type": "display_data"
    }
   ],
   "source": [
    "cited_papers_df = pd.DataFrame([{\"Title\": unique_papers[p][\"title\"], \"Year\": unique_papers[p][\"year\"], \n",
    "                                 \"Citations\": unique_papers[p][\"g_citations\"], \n",
    "                                 \"Component 1\": reduced_embs[i, 0], \"Component 2\": reduced_embs[i, 1]} \n",
    "                                for i, p in enumerate(unique_papers)])\n",
    "\n",
    "fig=px.scatter(cited_papers_df, x=\"Component 1\", y=\"Component 2\", color=\"Citations\", title=\"Top Cited Papers\",\n",
    "               hover_data=[\"Title\", \"Year\"], size=\"Citations\")\n",
    "fig.show(\"png\")\n",
    "fig.show()"
   ]
  },
  {
   "cell_type": "markdown",
   "id": "62613cc9",
   "metadata": {},
   "source": [
    "Interesting. There's clearly some clustering going on. There's also some outliers, and a few authors who appear to appear to be citing things that are a bit different more often.\n",
    "\n",
    "We'd need to dig into this more to start drawing conclusions. But it's fun to think about never the less -- and maybe we'll inspire someone else to. Let us know if you dig in and discover any interesting patterns!\n",
    "\n",
    "\n",
    "### That's all (for now)!\n",
    "\n",
    "This was fun. We hope you enjoyed it too. We also think the list of papers probably includes a few that are worth reading if you're looking to learn more about AI. \n",
    "\n",
    "If you find this type of thing interesting, definitely look into [Semantic Scholar's Academic Graph API](https://www.semanticscholar.org/product/api). We're investing heavily in that direction, and hope to enable all sorts of interesting things like this.\n",
    "\n",
    "We're also [hiring](https://allenai.org/careers#current-openings-ai2). If you like problems like these, and want to put your energy towards AI for the common good. Join us!"
   ]
  }
 ],
 "metadata": {
  "kernelspec": {
   "display_name": "Python [conda env:.conda-top_cited]",
   "language": "python",
   "name": "conda-env-.conda-top_cited-py"
  },
  "language_info": {
   "codemirror_mode": {
    "name": "ipython",
    "version": 3
   },
   "file_extension": ".py",
   "mimetype": "text/x-python",
   "name": "python",
   "nbconvert_exporter": "python",
   "pygments_lexer": "ipython3",
   "version": "3.8.16"
  }
 },
 "nbformat": 4,
 "nbformat_minor": 5
}
